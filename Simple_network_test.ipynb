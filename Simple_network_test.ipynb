{
 "cells": [
  {
   "cell_type": "markdown",
   "metadata": {},
   "source": [
    "# Imports\n"
   ]
  },
  {
   "cell_type": "code",
   "execution_count": 1,
   "metadata": {},
   "outputs": [],
   "source": [
    "#Data loading \n",
    "import torch\n",
    "from torch.utils import data\n",
    "import numpy as np\n",
    "%matplotlib inline\n",
    "import matplotlib\n",
    "import matplotlib.pyplot as plt\n",
    "\n",
    "#model \n",
    "import torch\n",
    "from torch.autograd import Variable\n",
    "import torch.nn as nn\n",
    "import torch.optim as optim\n",
    "from torch.nn import Linear, GRU, Conv2d, Dropout, MaxPool2d, BatchNorm1d\n",
    "from torch.nn.functional import relu, elu, relu6, sigmoid, tanh, softmax"
   ]
  },
  {
   "cell_type": "markdown",
   "metadata": {},
   "source": [
    "# Creating dataloaders\n",
    "Source : https://stanford.edu/~shervine/blog/pytorch-how-to-generate-data-parallel"
   ]
  },
  {
   "cell_type": "markdown",
   "metadata": {},
   "source": [
    "## Definie the data encoder the data"
   ]
  },
  {
   "cell_type": "code",
   "execution_count": 2,
   "metadata": {},
   "outputs": [],
   "source": [
    "#Data encoder \n",
    "def sparse_encode(seq, rna_dict):\n",
    "    \"\"\"For a given nucleotide sequence, return a sequence with each nucleotide encoded as a one hot vector\"\"\"\n",
    "    enc_seq = np.zeros([len(seq),len(RNA_DICT)])\n",
    "    for i, nuc in enumerate(seq):\n",
    "        enc_seq[i, rna_dict[nuc]] = 1\n",
    "    return enc_seq\n",
    "\n",
    "def encode_with_padding(seq, max_len, rna_dict):\n",
    "    seq_onehot = np.zeros([max_len, len(RNA_DICT)], dtype=np.uint8)\n",
    "    length = len(seq)\n",
    "    encoded_seq = sparse_encode(seq, rna_dict)\n",
    "    seq_onehot[:length,:] = encoded_seq\n",
    "    seq_onehot[length:,5:6] = 1\n",
    "    return(seq_onehot)\n",
    "\n"
   ]
  },
  {
   "cell_type": "markdown",
   "metadata": {},
   "source": [
    "## Load and encode the data"
   ]
  },
  {
   "cell_type": "code",
   "execution_count": 3,
   "metadata": {},
   "outputs": [],
   "source": [
    "VAL = \"data/val_filtered.txt\"\n",
    "TRAIN = \"data/train_filtered.txt\"\n",
    "TEST = \"data/test_filtered.txt\"\n",
    "\n",
    "RNA_DICT = {'A': 0, 'T': 1, 'C': 2, 'G': 3, 'N': 4, '-': 5}\n",
    "partition = {'train':[], 'validation':[], 'test':[]} #lists containing ids of the sequences \n",
    "labels = {} # {seq_id : class}\n",
    "sequences = {} # {seq_id : encoded_seq}\n",
    "index = 0\n",
    "max_len = 0\n",
    "\n",
    "with open(VAL, 'r') as fIn : \n",
    "    for line in fIn : \n",
    "        #manage seq id \n",
    "        seq_id = \"id_\"+str(index)\n",
    "        index +=1\n",
    "        #read line in file \n",
    "        seq = line.replace(\" \", \"\").strip().split(\",\")\n",
    "        \n",
    "        #search for max seq len\n",
    "        max_len = len(seq[0]) if len(seq[0])>max_len else max_len\n",
    "        #encode sequence\n",
    "        #encod_seq = sparse_encode(seq[0], RNA_DICT)\n",
    "        #store data\n",
    "        partition['validation'].append(seq_id)\n",
    "        labels[seq_id]=int(seq[1])\n",
    "        sequences[seq_id] = seq[0]\n",
    "\n",
    "\n",
    "with open(VAL, 'r') as fIn : \n",
    "    for line in fIn : \n",
    "        #manage seq id \n",
    "        seq_id = \"id_\"+str(index)\n",
    "        index +=1\n",
    "        #read line in file \n",
    "        seq = line.replace(\" \", \"\").strip().split(\",\")\n",
    "        max_len = len(seq[0]) if len(seq[0])>max_len else max_len\n",
    "        #encode sequence\n",
    "        #encod_seq = sparse_encode(seq[0], RNA_DICT)\n",
    "        #store data\n",
    "        partition['train'].append(seq_id)\n",
    "        labels[seq_id]=int(seq[1])\n",
    "        sequences[seq_id] = seq[0]\n",
    "        \n",
    "        \n",
    "with open(TEST, 'r') as fIn : \n",
    "    for line in fIn : \n",
    "        #manage seq id \n",
    "        seq_id = \"id_\"+str(index)\n",
    "        index +=1\n",
    "        #read line in file \n",
    "        seq = line.replace(\" \", \"\").strip().split(\",\")\n",
    "        max_len = len(seq[0]) if len(seq[0])>max_len else max_len\n",
    "        #encode sequence\n",
    "        #encod_seq = sparse_encode(seq[0], RNA_DICT)\n",
    "        #store data\n",
    "        partition['test'].append(seq_id)\n",
    "        labels[seq_id]=int(seq[1])\n",
    "        sequences[seq_id] = seq[0]\n",
    "\n",
    "for seq_id, seq in sequences.items():\n",
    "    sequences[seq_id] = encode_with_padding(seq, max_len, RNA_DICT)\n",
    "\n",
    "list_IDs = partition['train'] + partition['validation'] + partition['test']\n"
   ]
  },
  {
   "cell_type": "markdown",
   "metadata": {},
   "source": [
    "## Define the dataset class"
   ]
  },
  {
   "cell_type": "code",
   "execution_count": 4,
   "metadata": {},
   "outputs": [],
   "source": [
    "class Dataset(data.Dataset):\n",
    "  \"\"\"Characterizes a dataset for PyTorch\"\"\"\n",
    "  def __init__(self, list_IDs, labels, sequences):\n",
    "        \"\"\"Initialization\"\"\"\n",
    "        self.labels = labels\n",
    "        self.list_IDs = list_IDs\n",
    "        self.sequences = sequences\n",
    "        \n",
    "  def __len__(self):\n",
    "        \"\"\"Denotes the total number of samples\"\"\"\n",
    "        return len(self.list_IDs)\n",
    "\n",
    "  def __getitem__(self, index):\n",
    "        \"\"\"Generates one sample of data\"\"\"\n",
    "        # Select sample\n",
    "        ID = self.list_IDs[index]\n",
    "\n",
    "        # Load data and get label\n",
    "        X = self.sequences[ID]\n",
    "        Y = self.labels[ID]\n",
    "\n",
    "        return X, Y"
   ]
  },
  {
   "cell_type": "markdown",
   "metadata": {},
   "source": [
    "## Create training and validation Dataloader"
   ]
  },
  {
   "cell_type": "code",
   "execution_count": 5,
   "metadata": {},
   "outputs": [],
   "source": [
    "# CUDA for PyTorch\n",
    "use_cuda = torch.cuda.is_available()\n",
    "device = torch.device(\"cuda:0\" if use_cuda else \"cpu\")\n",
    "\n",
    "# Parameters\n",
    "params = {'batch_size': 30,\n",
    "          'shuffle': True,\n",
    "          'num_workers': 6}\n",
    "\n",
    "params_valid = {'batch_size': 100,\n",
    "          'shuffle': True,\n",
    "          'num_workers': 6}\n",
    "max_epochs = 100\n",
    "\n",
    "training_set = Dataset(partition['train'], labels, sequences)\n",
    "training_generator = data.DataLoader(training_set, **params)\n",
    "\n",
    "validation_set = Dataset(partition['validation'], labels, sequences)\n",
    "validation_generator = data.DataLoader(validation_set, **params_valid)\n",
    "\n",
    "test_set = Dataset(partition['test'], labels, sequences)\n",
    "test_generator = data.DataLoader(validation_set, **params)\n",
    "\n",
    "def get_variable(x):\n",
    "    \"\"\" Converts tensors to cuda, if available. \"\"\"\n",
    "    if use_cuda:\n",
    "        return x.cuda()\n",
    "    return x\n",
    "\n",
    "def get_numpy(x):\n",
    "    \"\"\" Get numpy array for both cuda and not. \"\"\"\n",
    "    if use_cuda:\n",
    "        return x.cpu().data.numpy()\n",
    "    return x.data.numpy()\n"
   ]
  },
  {
   "cell_type": "markdown",
   "metadata": {},
   "source": [
    "# Build the model"
   ]
  },
  {
   "cell_type": "code",
   "execution_count": 6,
   "metadata": {},
   "outputs": [
    {
     "name": "stdout",
     "output_type": "stream",
     "text": [
      "Net(\n",
      "  (l1): Linear(in_features=110700, out_features=10, bias=False)\n",
      "  (l2): Linear(in_features=10, out_features=6, bias=False)\n",
      ")\n"
     ]
    }
   ],
   "source": [
    "# define network\n",
    "\n",
    "num_l1 = 10\n",
    "l1_features = max_len*6\n",
    "\n",
    "num_out = 6\n",
    "\n",
    "class Net(nn.Module):\n",
    "    def __init__(self):\n",
    "        super(Net, self).__init__()\n",
    "        self.l1_in_features = l1_features\n",
    "        self.l1 = Linear(in_features=self.l1_in_features, \n",
    "                            out_features=num_l1,\n",
    "                            bias=False)\n",
    "        self.l2 = Linear(in_features=num_l1, \n",
    "                            out_features=num_out,\n",
    "                            bias=False)\n",
    "    \n",
    "    def forward(self, x): # x.size() = [max_len,6]\n",
    "        x = x.view(-1, self.l1_in_features)\n",
    "        x = relu(self.l1(x))\n",
    "        x=self.l2(x)\n",
    "        return softmax(x, dim=1)\n",
    "\n",
    "\n",
    "net = Net()\n",
    "if use_cuda:\n",
    "    net.cuda()\n",
    "print(net)"
   ]
  },
  {
   "cell_type": "markdown",
   "metadata": {},
   "source": [
    "# Build the cost function"
   ]
  },
  {
   "cell_type": "code",
   "execution_count": 7,
   "metadata": {},
   "outputs": [],
   "source": [
    "LEARNING_RATE = 0.001\n",
    "criterion = nn.CrossEntropyLoss()\n",
    "optimizer = optim.Adam(net.parameters(), lr=LEARNING_RATE)\n",
    "\n",
    "def accuracy(ys, ts):\n",
    "    predictions = torch.max(ys, 1)[1]\n",
    "    correct_prediction = torch.eq(predictions, ts)\n",
    "    return torch.mean(correct_prediction.float())"
   ]
  },
  {
   "cell_type": "markdown",
   "metadata": {},
   "source": [
    "# Test network"
   ]
  },
  {
   "cell_type": "code",
   "execution_count": 8,
   "metadata": {},
   "outputs": [
    {
     "name": "stdout",
     "output_type": "stream",
     "text": [
      "torch.FloatTensor\n"
     ]
    },
    {
     "data": {
      "text/plain": [
       "tensor([[0.2084, 0.1561, 0.1630, 0.1594, 0.1569, 0.1562],\n",
       "        [0.1394, 0.1112, 0.1874, 0.2110, 0.1632, 0.1878],\n",
       "        [0.1798, 0.1408, 0.1531, 0.1975, 0.1784, 0.1504],\n",
       "        [0.2069, 0.1454, 0.1898, 0.1654, 0.1492, 0.1433],\n",
       "        [0.1437, 0.1541, 0.1778, 0.1546, 0.1983, 0.1715],\n",
       "        [0.1635, 0.1385, 0.1900, 0.1247, 0.1617, 0.2216],\n",
       "        [0.1022, 0.0762, 0.1991, 0.2659, 0.1841, 0.1726],\n",
       "        [0.1777, 0.1022, 0.2070, 0.1875, 0.1346, 0.1910],\n",
       "        [0.1723, 0.1470, 0.1947, 0.1345, 0.1518, 0.1997],\n",
       "        [0.1839, 0.1447, 0.1763, 0.1736, 0.1632, 0.1582],\n",
       "        [0.1462, 0.1485, 0.1923, 0.1851, 0.1842, 0.1436],\n",
       "        [0.1654, 0.1626, 0.1592, 0.1388, 0.1947, 0.1794],\n",
       "        [0.1525, 0.1327, 0.1609, 0.1668, 0.2073, 0.1798],\n",
       "        [0.1294, 0.1383, 0.1807, 0.1963, 0.2033, 0.1520],\n",
       "        [0.1270, 0.0883, 0.1841, 0.2510, 0.1687, 0.1810],\n",
       "        [0.1677, 0.1440, 0.1668, 0.1855, 0.1729, 0.1632],\n",
       "        [0.1827, 0.1674, 0.1725, 0.1539, 0.1485, 0.1749],\n",
       "        [0.1296, 0.1152, 0.1885, 0.2052, 0.1848, 0.1768],\n",
       "        [0.1478, 0.1605, 0.1670, 0.1341, 0.2004, 0.1902],\n",
       "        [0.1962, 0.1514, 0.1862, 0.1515, 0.1363, 0.1784],\n",
       "        [0.1788, 0.1631, 0.1669, 0.1699, 0.1609, 0.1604],\n",
       "        [0.1675, 0.1189, 0.2023, 0.1768, 0.1374, 0.1971],\n",
       "        [0.1772, 0.1279, 0.2086, 0.1317, 0.1310, 0.2236],\n",
       "        [0.1748, 0.1406, 0.1768, 0.1801, 0.1629, 0.1649],\n",
       "        [0.1953, 0.1352, 0.1849, 0.1673, 0.1308, 0.1866],\n",
       "        [0.1693, 0.1320, 0.1689, 0.1794, 0.1882, 0.1621],\n",
       "        [0.1569, 0.1193, 0.2359, 0.1388, 0.1476, 0.2016],\n",
       "        [0.1258, 0.1194, 0.1491, 0.2138, 0.2406, 0.1513],\n",
       "        [0.1514, 0.1262, 0.1683, 0.1682, 0.2069, 0.1791],\n",
       "        [0.1971, 0.1023, 0.1662, 0.2261, 0.1499, 0.1584]],\n",
       "       grad_fn=<SoftmaxBackward>)"
      ]
     },
     "execution_count": 8,
     "metadata": {},
     "output_type": "execute_result"
    }
   ],
   "source": [
    "#Test the forward pass with dummy data\n",
    "\n",
    "def randnorm(size):\n",
    "    return np.random.normal(0, 1, size).astype('float32')\n",
    "\n",
    "x = Variable(torch.from_numpy(randnorm((params[\"batch_size\"], max_len, 6))))\n",
    "print(x.type())\n",
    "net(x)"
   ]
  },
  {
   "cell_type": "markdown",
   "metadata": {},
   "source": [
    "# Train the network"
   ]
  },
  {
   "cell_type": "code",
   "execution_count": 9,
   "metadata": {},
   "outputs": [
    {
     "name": "stderr",
     "output_type": "stream",
     "text": [
      "/home/lea/Documents/DeepLearning/VenvDL/lib/python3.6/site-packages/ipykernel_launcher.py:53: UserWarning: invalid index of a 0-dim tensor. This will be an error in PyTorch 0.5. Use tensor.item() to convert a 0-dim tensor to a Python number\n"
     ]
    },
    {
     "data": {
      "image/png": "[encoded data removed]",
      "text/plain": [
       "<Figure size 864x288 with 2 Axes>"
      ]
     },
     "metadata": {
      "needs_background": "light"
     },
     "output_type": "display_data"
    },
    {
     "name": "stdout",
     "output_type": "stream",
     "text": [
      "Finished Training\n"
     ]
    }
   ],
   "source": [
    "num_epoch = 3\n",
    "iter_by_epoch = len(training_generator.dataset.list_IDs)/training_generator.batch_size \n",
    "eval_every = int(iter_by_epoch) #eval one time by epoch \n",
    "train_loss, train_accs = [], []\n",
    "valid_loss, valid_accs = [], []\n",
    "valid_iter = []\n",
    "train_iter = []\n",
    "\n",
    "def get_input_and_label(batch):\n",
    "    inputs, labels = batch[0], batch[1] \n",
    "    # Change type\n",
    "    inputs = inputs.type(torch.float)\n",
    "    labels = labels.type(torch.long)\n",
    "    # Transfer to GPU\n",
    "    inputs, labels = inputs.to(device), labels.to(device)\n",
    "    return(inputs, labels)\n",
    "\n",
    "iter_by_epoch = len(training_generator.dataset.list_IDs)/training_generator.batch_size\n",
    "\n",
    "\n",
    "for epoch in range(num_epoch):\n",
    "    running_loss = 0.0\n",
    "    net.train()\n",
    "    # Training\n",
    "    for i, data in enumerate(training_generator,0):\n",
    "        if i % eval_every == 0:\n",
    "            valid_iter.append(i + (1+epoch)*iter_by_epoch)\n",
    "            net.eval()\n",
    "            val_losses, val_accs, val_lengths = 0, 0, 0\n",
    "            \n",
    "            for num, data in enumerate(validation_generator,0):\n",
    "                inputs, labels = get_input_and_label(data)\n",
    "                output = net(inputs)\n",
    "                val_losses += criterion(output, labels) * num\n",
    "                val_accs += accuracy(output, labels) * num\n",
    "                val_lengths += num\n",
    "\n",
    "            # divide by the total accumulated batch sizes\n",
    "            val_losses /= val_lengths\n",
    "            val_accs /= val_lengths\n",
    "            valid_loss.append(get_numpy(val_losses))\n",
    "            valid_accs.append(get_numpy(val_accs))\n",
    "            net.train()\n",
    "        inputs, labels = get_input_and_label(data) \n",
    "\n",
    "        # zero the parameter gradients\n",
    "        optimizer.zero_grad()\n",
    "        # forward + backward + optimize\n",
    "        outputs = net(inputs)\n",
    "        loss = criterion(outputs, labels)\n",
    "        loss.backward()\n",
    "        optimizer.step()\n",
    "        running_loss += loss.data[0]\n",
    "\n",
    "        train_loss.append(get_numpy(loss))\n",
    "        train_accs.append(get_numpy(accuracy(outputs, labels)))\n",
    "        train_iter.append(i + (epoch+1)*iter_by_epoch)\n",
    "\n",
    "\n",
    "fig = plt.figure(figsize=(12,4))\n",
    "plt.subplot(1, 2, 1)\n",
    "plt.plot(train_iter, train_loss, label='train_loss')\n",
    "plt.plot(valid_iter, valid_loss, label='valid_loss')\n",
    "plt.legend()\n",
    "\n",
    "plt.subplot(1, 2, 2)\n",
    "plt.plot(train_iter, train_accs, label='train_accs')\n",
    "plt.plot(valid_iter, valid_accs, label='valid_accs')\n",
    "plt.legend()\n",
    "plt.show()\n",
    "\n",
    "print('Finished Training')"
   ]
  }
 ],
 "metadata": {
  "kernelspec": {
   "display_name": "Python 3",
   "language": "python",
   "name": "python3"
  },
  "language_info": {
   "codemirror_mode": {
    "name": "ipython",
    "version": 3
   },
   "file_extension": ".py",
   "mimetype": "text/x-python",
   "name": "python",
   "nbconvert_exporter": "python",
   "pygments_lexer": "ipython3",
   "version": "3.6.5"
  }
 },
 "nbformat": 4,
 "nbformat_minor": 2
}
