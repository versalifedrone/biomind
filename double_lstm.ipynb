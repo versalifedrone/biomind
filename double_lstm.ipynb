{
 "cells": [
  {
   "cell_type": "markdown",
   "metadata": {
    "colab_type": "text",
    "id": "keVHmVHdQdLs"
   },
   "source": [
    "# Double LSTM network : \n",
    "We consider both the begining and the end of the sequence, each subsequence is given to an lstm. The two lstm last output are concatenate an given to a fully connected layer"
   ]
  },
  {
   "cell_type": "markdown",
   "metadata": {},
   "source": [
    "## Imports"
   ]
  },
  {
   "cell_type": "code",
   "execution_count": 1,
   "metadata": {
    "colab": {},
    "colab_type": "code",
    "id": "jTciwxFkQdLt"
   },
   "outputs": [],
   "source": [
    "import numpy as np\n",
    "import time \n",
    "\n",
    "\n",
    "from pprint import pprint\n",
    "from torchtext import data\n",
    "from torchtext import datasets\n",
    "from torchtext.vocab import Vectors, GloVe\n",
    "\n",
    "import torch\n",
    "from torch.autograd import Variable\n",
    "import torch.nn as nn\n",
    "import torch.optim as optim\n",
    "from torch.nn import Linear, RNN, LSTM, GRU, Conv1d\n",
    "from torch.nn.functional import softmax, relu\n",
    "\n",
    "%matplotlib inline\n",
    "import matplotlib\n",
    "import numpy as np\n",
    "import matplotlib.pyplot as plt\n",
    "\n",
    "import random"
   ]
  },
  {
   "cell_type": "markdown",
   "metadata": {},
   "source": [
    "## Cuda stuff"
   ]
  },
  {
   "cell_type": "code",
   "execution_count": 2,
   "metadata": {
    "colab": {},
    "colab_type": "code",
    "id": "Zs6GLV1NQdLy"
   },
   "outputs": [
    {
     "name": "stdout",
     "output_type": "stream",
     "text": [
      "True\n"
     ]
    }
   ],
   "source": [
    "use_cuda = torch.cuda.is_available()\n",
    "def get_variable(x):\n",
    "    \"\"\" Converts tensors to cuda, if available. \"\"\"\n",
    "    if use_cuda:\n",
    "        return x.cuda()\n",
    "    return x\n",
    "\n",
    "def get_numpy(x):\n",
    "    \"\"\" Get numpy array for both cuda and not. \"\"\"\n",
    "    if use_cuda:\n",
    "        return x.cpu().data.numpy()\n",
    "    return x.data.numpy()\n",
    "\n",
    "print(use_cuda)\n"
   ]
  },
  {
   "cell_type": "markdown",
   "metadata": {},
   "source": [
    "# Data handling"
   ]
  },
  {
   "cell_type": "markdown",
   "metadata": {},
   "source": [
    "## Reduce training datas\n",
    "Evantually taking only a part of the sequences "
   ]
  },
  {
   "cell_type": "code",
   "execution_count": 3,
   "metadata": {},
   "outputs": [],
   "source": [
    "id_seqs = {str(i):[] for i in range(6)}\n",
    "with open('train_filtered.txt','r') as fIn : \n",
    "    for line in fIn : \n",
    "        line = line.split(',')\n",
    "        id_seqs[line[1].strip()].append(line[0])"
   ]
  },
  {
   "cell_type": "markdown",
   "metadata": {},
   "source": [
    "## Upsampling\n",
    "upsampling to handle classe unbalance"
   ]
  },
  {
   "cell_type": "code",
   "execution_count": 4,
   "metadata": {},
   "outputs": [
    {
     "name": "stdout",
     "output_type": "stream",
     "text": [
      "[3486, 5531, 814, 2874, 1578, 328]\n",
      "[5531, 5531, 5531, 5531, 5531, 5531]\n"
     ]
    }
   ],
   "source": [
    "print([len(id_seqs[str(i)]) for i in range(6)])\n",
    "upsampling_len = max([len(id_seqs[str(i)]) for i in range(6)])\n",
    "duplication_factors = [upsampling_len//len(id_seqs[str(i)]) for i in range(6)]\n",
    "id_seqs_duplicate = {str(i) : id_seqs[str(i)]*duplication_factors[i] for i in range(6)}\n",
    "to_add_by_sampling = [upsampling_len - len(id_seqs_duplicate[str(i)]) for i in range(6)]\n",
    "id_seqs_final = {str(i) : id_seqs_duplicate[str(i)] + random.sample(id_seqs_duplicate[str(i)],to_add_by_sampling[i]) for i in range(6)}\n",
    "print([len(id_seqs_final[str(i)]) for i in range(6)])"
   ]
  },
  {
   "cell_type": "markdown",
   "metadata": {},
   "source": [
    "## Reduce Dataset size "
   ]
  },
  {
   "cell_type": "code",
   "execution_count": 5,
   "metadata": {},
   "outputs": [],
   "source": [
    "def reduce_dataset(size, data_dict):\n",
    "    \"\"\"\n",
    "        Reduce a balanced dataset to size (for each category)\n",
    "    \"\"\"\n",
    "    return {str(i) : random.sample(data_dict[str(i)], size) for i in range(6)}"
   ]
  },
  {
   "cell_type": "code",
   "execution_count": 6,
   "metadata": {},
   "outputs": [],
   "source": [
    "\n",
    "ids_seqs_final_reduced = reduce_dataset(3486,id_seqs_final)"
   ]
  },
  {
   "cell_type": "markdown",
   "metadata": {},
   "source": [
    "## Select certain categories\n",
    "We foccused our efforts on classifying categories 0 and 3. Selection of corresponding data both in training and testing files"
   ]
  },
  {
   "cell_type": "code",
   "execution_count": 7,
   "metadata": {},
   "outputs": [],
   "source": [
    "TAKE_FIRST = 600\n",
    "TAKE_LAST = 600\n",
    "\n",
    "with open('train_mini.txt','w') as fOut : \n",
    "    for classif in [0,3]:\n",
    "        for seq in ids_seqs_final_reduced[str(classif)]:\n",
    "            fOut.write(seq[:2*TAKE_FIRST] + \",\" + seq[-2*TAKE_LAST:] + \",\" + str(classif) +\"\\n\")\n"
   ]
  },
  {
   "cell_type": "code",
   "execution_count": 8,
   "metadata": {},
   "outputs": [],
   "source": [
    "id_seqs = {str(i):[] for i in range(6)}\n",
    "with open('test_filtered.txt','r') as fIn : \n",
    "    for line in fIn : \n",
    "        line = line.split(',')\n",
    "        id_seqs[line[1].strip()].append(line[0])\n",
    "\n",
    "with open('test_mini.txt','w') as fOut : \n",
    "    for classif in [0,3]:\n",
    "        for seq in id_seqs[str(classif)]:\n",
    "            fOut.write(seq[:2*TAKE_FIRST] + \",\" + seq[-2*TAKE_LAST:] + \",\" + str(classif) +\"\\n\")"
   ]
  },
  {
   "cell_type": "markdown",
   "metadata": {
    "colab_type": "text",
    "id": "rlwv4O-oQdL1"
   },
   "source": [
    "# Torchtext dataloader "
   ]
  },
  {
   "cell_type": "code",
   "execution_count": 9,
   "metadata": {
    "colab": {},
    "colab_type": "code",
    "id": "Tm9u1DvFQdL2"
   },
   "outputs": [],
   "source": [
    "#Initialize the two fields: Sequence and Class\n",
    "SEQ_B = data.Field(sequential=True,include_lengths=True, unk_token='N')\n",
    "SEQ_E = data.Field(sequential=True,include_lengths=True, unk_token='N')\n",
    "LABEL = data.Field(sequential=False, unk_token='1') # is_target = True ?\n",
    "\n",
    "\n",
    "train_set, validation_set, test_set = data.TabularDataset.splits(path='',\n",
    "                                                                 train='train_mini.txt',\n",
    "                                                                 validation='test_mini.txt',\n",
    "                                                                 test='train_mini.txt', \n",
    "                                                                 format = 'csv',\n",
    "                                                                 fields=[('sequence_B', SEQ_B), ('sequence_E', SEQ_E), ('label', LABEL)])"
   ]
  },
  {
   "cell_type": "code",
   "execution_count": 10,
   "metadata": {
    "colab": {
     "base_uri": "https://localhost:8080/",
     "height": 199
    },
    "colab_type": "code",
    "executionInfo": {
     "elapsed": 6224,
     "status": "ok",
     "timestamp": 1543681846758,
     "user": {
      "displayName": "Lea Riera",
      "photoUrl": "",
      "userId": "09506228137911101216"
     },
     "user_tz": -60
    },
    "id": "f5Pn8cI6QdL_",
    "outputId": "00c55434-0572-47cc-8923-ddf28d43f994"
   },
   "outputs": [
    {
     "name": "stdout",
     "output_type": "stream",
     "text": [
      "train_set.fields: ['sequence_B', 'sequence_E', 'label']\n",
      "validation_set.fields: ['sequence_B', 'sequence_E', 'label']\n",
      "test_set.fields: ['sequence_B', 'sequence_E', 'label']\n",
      "\n",
      "size of training set 6972\n",
      "size of validation set 1813\n",
      "\n",
      "content of first training sample:\n",
      "{'sequence_B': ['G', 'C', 'G', 'G', 'A', 'A', 'G', 'T', 'G', 'G', 'C', 'G', 'C', 'G', 'C', 'A', 'G', 'G', 'G', 'T', 'C', 'C', 'G', 'G', 'C', 'G', 'T', 'G', 'T', 'G', 'A', 'A', 'G', 'A', 'C', 'C', 'T', 'T', 'C', 'C', 'G', 'G', 'G', 'G', 'A', 'G', 'G', 'T', 'G', 'G', 'C', 'G', 'G', 'C', 'C', 'G', 'A', 'G', 'G', 'C', 'G', 'G', 'C', 'C', 'G', 'T', 'C', 'G', 'C', 'G', 'G', 'G', 'A', 'G', 'C', 'A', 'G', 'A', 'C', 'C', 'C', 'G', 'G', 'A', 'G', 'G', 'C', 'G', 'G', 'A', 'G', 'A', 'C', 'G', 'G', 'A', 'G', 'A', 'C', 'C', 'G', 'A', 'G', 'G', 'A', 'G', 'G', 'T', 'G', 'A', 'C', 'A', 'G', 'C', 'G', 'G', 'C', 'G', 'G', 'A', 'G', 'C', 'T', 'G', 'G', 'G', 'A', 'G', 'G', 'C', 'C', 'C', 'A', 'G', 'C', 'C', 'A', 'G', 'C', 'A', 'G', 'A', 'A', 'G', 'A', 'A', 'A', 'G', 'A', 'C', 'A', 'G', 'G', 'A', 'C', 'G', 'A', 'A', 'G', 'C', 'A', 'T', 'C', 'C', 'G', 'A', 'A', 'A', 'A', 'G', 'A', 'G', 'C', 'A', 'G', 'A', 'G', 'A', 'C', 'C', 'A', 'A', 'G', 'T', 'T', 'G', 'C', 'A', 'G', 'G', 'C', 'C', 'T', 'T', 'G', 'A', 'C', 'T', 'G', 'T', 'G', 'G', 'C', 'A', 'G', 'A', 'G', 'C', 'A', 'G', 'A', 'A', 'A', 'C', 'A', 'A', 'T', 'G', 'G', 'A', 'C', 'C', 'T', 'C', 'A', 'A', 'G', 'T', 'T', 'C', 'A', 'A', 'C', 'A', 'A', 'C', 'T', 'C', 'C', 'A', 'G', 'G', 'A', 'A', 'G', 'T', 'A', 'T', 'G', 'T', 'C', 'T', 'C', 'C', 'A', 'T', 'C', 'T', 'C', 'A', 'G', 'T', 'G', 'C', 'C', 'C', 'T', 'C', 'C', 'A', 'A', 'A', 'A', 'C', 'G', 'C', 'A', 'G', 'G', 'C', 'C', 'A', 'T', 'G', 'T', 'C', 'G', 'C', 'C', 'G', 'C', 'A', 'C', 'A', 'T', 'C', 'A', 'A', 'G', 'T', 'C', 'A', 'G', 'T', 'T', 'G', 'A', 'G', 'G', 'A', 'C', 'G', 'T', 'C', 'G', 'T', 'G', 'G', 'T', 'G', 'C', 'T', 'G', 'G', 'G', 'C', 'G', 'T', 'G', 'A', 'A', 'C', 'C', 'T', 'C', 'A', 'G', 'C', 'A', 'A', 'G', 'T', 'T', 'T', 'A', 'G', 'C', 'A', 'A', 'G', 'C', 'T', 'C', 'A', 'C', 'A', 'C', 'A', 'G', 'T', 'T', 'T', 'C', 'T', 'C', 'A', 'T', 'C', 'T', 'G', 'T', 'G', 'T', 'G', 'G', 'C', 'T', 'G', 'G', 'A', 'G', 'T', 'T', 'T', 'T', 'T', 'G', 'T', 'A', 'T', 'T', 'T', 'T', 'A', 'C', 'C', 'T', 'A', 'A', 'T', 'T', 'T', 'A', 'T', 'G', 'G', 'A', 'T', 'A', 'C', 'T', 'T', 'A', 'C', 'A', 'G', 'G', 'A', 'G', 'C', 'T', 'G', 'A', 'T', 'C', 'T', 'T', 'T', 'T', 'C', 'A', 'G', 'T', 'G', 'G', 'A', 'A', 'G', 'G', 'C', 'T', 'T', 'T', 'A', 'A', 'G', 'C', 'C', 'T', 'T', 'A', 'C', 'G', 'G', 'C', 'T', 'G', 'G', 'T', 'A', 'C', 'C', 'T', 'T', 'A', 'C', 'C', 'T', 'T', 'A', 'G', 'T', 'G', 'C', 'A', 'G', 'T', 'T', 'T', 'G', 'C', 'C', 'T', 'T', 'T', 'T', 'A', 'C', 'T', 'C', 'C', 'G', 'T', 'A', 'T', 'T', 'T', 'G', 'G', 'C', 'C', 'T', 'A', 'A', 'T', 'C', 'G', 'A', 'G', 'C', 'T', 'A', 'C', 'A', 'G', 'C', 'T', 'C', 'A', 'C', 'T', 'C', 'A', 'G', 'G', 'A', 'C', 'A', 'G', 'A', 'A', 'G', 'G', 'A', 'G', 'A', 'A', 'G', 'A', 'A', 'T', 'A', 'C', 'C', 'A', 'G', 'G', 'A', 'A', 'A', 'A', 'A', 'C', 'C', 'T', 'A', 'C', 'A', 'T', 'G', 'C', 'T', 'A', 'A', 'T', 'A', 'G', 'C', 'T', 'T', 'T', 'T', 'C', 'T', 'A', 'A', 'C', 'T', 'G', 'T', 'G', 'G', 'G', 'T', 'A', 'C', 'T', 'A', 'T', 'G', 'G', 'G', 'C', 'T', 'T', 'A', 'T', 'C', 'A', 'A'], 'sequence_E': ['A', 'G', 'C', 'T', 'C', 'T', 'G', 'T', 'G', 'G', 'G', 'A', 'A', 'C', 'A', 'A', 'C', 'C', 'A', 'T', 'T', 'A', 'A', 'T', 'C', 'A', 'A', 'T', 'T', 'C', 'A', 'C', 'T', 'T', 'T', 'G', 'C', 'A', 'A', 'A', 'G', 'G', 'C', 'T', 'T', 'G', 'T', 'G', 'A', 'T', 'A', 'C', 'A', 'A', 'A', 'C', 'C', 'A', 'A', 'A', 'G', 'G', 'A', 'T', 'C', 'T', 'G', 'A', 'A', 'G', 'G', 'C', 'C', 'G', 'C', 'T', 'G', 'T', 'C', 'A', 'G', 'A', 'T', 'G', 'A', 'G', 'C', 'A', 'G', 'A', 'T', 'T', 'G', 'T', 'A', 'C', 'A', 'T', 'C', 'C', 'A', 'G', 'T', 'G', 'G', 'T', 'T', 'C', 'C', 'T', 'T', 'G', 'G', 'C', 'A', 'T', 'C', 'C', 'A', 'C', 'C', 'T', 'C', 'T', 'A', 'C', 'A', 'G', 'A', 'A', 'T', 'A', 'C', 'A', 'G', 'G', 'C', 'T', 'T', 'T', 'T', 'G', 'A', 'T', 'C', 'A', 'A', 'C', 'T', 'C', 'C', 'A', 'A', 'A', 'T', 'G', 'A', 'T', 'C', 'A', 'A', 'G', 'A', 'G', 'C', 'C', 'C', 'A', 'C', 'A', 'C', 'C', 'T', 'A', 'G', 'G', 'A', 'C', 'G', 'T', 'G', 'T', 'T', 'G', 'C', 'A', 'A', 'T', 'A', 'A', 'A', 'G', 'T', 'C', 'A', 'G', 'T', 'A', 'T', 'G', 'A', 'A', 'G', 'G', 'A', 'A', 'A', 'G', 'T', 'G', 'C', 'T', 'T', 'C', 'C', 'T', 'A', 'G', 'C', 'A', 'A', 'T', 'G', 'T', 'T', 'C', 'T', 'G', 'A', 'A', 'C', 'A', 'T', 'T', 'T', 'C', 'A', 'C', 'T', 'G', 'G', 'A', 'A', 'A', 'T', 'G', 'G', 'A', 'C', 'C', 'G', 'T', 'G', 'T', 'T', 'G', 'T', 'A', 'A', 'G', 'A', 'C', 'T', 'G', 'A', 'T', 'T', 'G', 'G', 'A', 'A', 'A', 'T', 'C', 'C', 'T', 'C', 'C', 'C', 'A', 'G', 'C', 'C', 'T', 'G', 'C', 'A', 'G', 'C', 'G', 'C', 'G', 'G', 'T', 'A', 'C', 'T', 'G', 'T', 'G', 'A', 'G', 'T', 'G', 'G', 'C', 'A', 'C', 'T', 'G', 'T', 'G', 'T', 'C', 'T', 'C', 'C', 'A', 'T', 'T', 'C', 'C', 'G', 'T', 'T', 'T', 'T', 'G', 'C', 'T', 'G', 'G', 'T', 'G', 'T', 'T', 'A', 'T', 'T', 'T', 'A', 'A', 'A', 'T', 'T', 'C', 'T', 'T', 'C', 'T', 'C', 'T', 'G', 'T', 'T', 'A', 'T', 'A', 'A', 'G', 'A', 'G', 'T', 'G', 'A', 'A', 'C', 'T', 'G', 'A', 'T', 'G', 'A', 'T', 'T', 'T', 'G', 'A', 'A', 'G', 'T', 'G', 'T', 'A', 'G', 'A', 'G', 'A', 'A', 'A', 'A', 'T', 'A', 'C', 'C', 'A', 'T', 'T', 'C', 'A', 'T', 'T', 'T', 'A', 'T', 'A', 'A', 'A', 'T', 'A', 'A', 'A', 'A', 'T', 'T', 'A', 'T', 'C', 'C', 'T', 'G', 'T', 'G', 'A', 'T', 'T', 'T', 'T', 'T', 'T', 'T', 'T', 'A', 'A', 'A', 'T', 'G', 'G', 'T', 'G', 'T', 'T', 'T', 'T', 'A', 'A', 'T', 'A', 'G', 'A', 'A', 'T', 'T', 'T', 'G', 'T', 'T', 'A', 'T', 'G', 'G', 'C', 'A', 'G', 'A', 'G', 'A', 'A', 'T', 'G', 'G', 'A', 'G', 'A', 'T', 'G', 'G', 'G', 'A', 'T', 'G', 'A', 'A', 'G', 'G', 'G', 'C', 'T', 'A', 'A', 'T', 'G', 'T', 'A', 'T', 'A', 'C', 'T', 'T', 'T', 'A', 'A', 'A', 'A', 'C', 'T', 'T', 'G', 'G', 'G', 'T', 'T', 'T', 'T', 'T', 'A', 'A', 'A', 'G', 'T', 'T', 'T', 'T', 'G', 'A', 'G', 'A', 'A', 'A', 'A', 'T', 'A', 'A', 'C', 'A', 'T', 'T', 'C', 'A', 'C', 'T', 'T', 'A', 'A', 'A', 'T', 'A', 'A', 'A', 'A', 'T', 'T', 'A', 'T', 'C', 'C', 'T', 'C', 'T', 'C', 'A', 'T', 'T', 'T', 'T', 'T', 'A', 'A', 'A', 'A', 'A', 'A', 'A', 'A', 'T', 'G', 'T', 'A', 'T', 'T', 'A', 'A', 'T', 'A', 'A', 'A', 'A', 'T', 'T', 'T', 'G', 'T', 'T', 'A', 'T', 'T', 'G', 'A', 'A', 'G'], 'label': '0'}\n"
     ]
    }
   ],
   "source": [
    "print('train_set.fields:', list(train_set.fields.keys()))\n",
    "print('validation_set.fields:', list(validation_set.fields.keys()))\n",
    "print('test_set.fields:', list(test_set.fields.keys()))\n",
    "print()\n",
    "print('size of training set', len(train_set))\n",
    "print('size of validation set', len(validation_set))\n",
    "print()\n",
    "print('content of first training sample:')\n",
    "print(vars(train_set[0]))"
   ]
  },
  {
   "cell_type": "code",
   "execution_count": 11,
   "metadata": {
    "colab": {},
    "colab_type": "code",
    "id": "FX65bqRlQdMD"
   },
   "outputs": [],
   "source": [
    "# build the vocabularies\n",
    "SEQ_E.build_vocab(train_set) #NO unknows \n",
    "SEQ_B.build_vocab(train_set)\n",
    "LABEL.build_vocab(train_set)"
   ]
  },
  {
   "cell_type": "code",
   "execution_count": 12,
   "metadata": {
    "colab": {
     "base_uri": "https://localhost:8080/",
     "height": 217
    },
    "colab_type": "code",
    "executionInfo": {
     "elapsed": 10161,
     "status": "ok",
     "timestamp": 1543681850711,
     "user": {
      "displayName": "Lea Riera",
      "photoUrl": "",
      "userId": "09506228137911101216"
     },
     "user_tz": -60
    },
    "id": "RUdIeFdjQdMG",
    "outputId": "f153fcce-be59-4e5f-c88b-f0b3088ea40b",
    "scrolled": true
   },
   "outputs": [
    {
     "name": "stdout",
     "output_type": "stream",
     "text": [
      "Text fields <E>:\n",
      " size of vocabulary: 6\n",
      " no. times the \"N\" appear in the dataset: 0\n",
      " list of vocabulary (int-to-str): ['N', '<pad>', 'A', 'T', 'G', 'C']\n",
      " list of vocabulary (str-to-int): {'N': 0, '<pad>': 1, 'A': 2, 'T': 3, 'G': 4, 'C': 5}\n",
      "Counter({'A': 1203627, 'T': 1202297, 'G': 901756, 'C': 869296})\n",
      "Text fields <B>:\n",
      " size of vocabulary: 6\n",
      " no. times the \"N\" appear in the dataset: 0\n",
      " list of vocabulary (int-to-str): ['N', '<pad>', 'G', 'C', 'A', 'T']\n",
      " list of vocabulary (str-to-int): {'N': 0, '<pad>': 1, 'G': 2, 'C': 3, 'A': 4, 'T': 5}\n",
      "Counter({'G': 1223301, 'C': 1131385, 'A': 958217, 'T': 864073})\n",
      "\n",
      "Label fields:\n",
      " list of vocabulary (int-to-str): ['1', '0', '3']\n",
      " list of vocabulary (str-to-int): {'1': 0, '0': 1, '3': 2}\n",
      "Counter({'0': 3486, '3': 3486})\n"
     ]
    }
   ],
   "source": [
    "print('Text fields <E>:')\n",
    "print(' size of vocabulary:', len(SEQ_E.vocab))\n",
    "# print(\" vocabulary's embedding dimension:\", SEQ.vocab.vectors.size())\n",
    "print(' no. times the \"N\" appear in the dataset:', SEQ_E.vocab.freqs['N'])\n",
    "print(\" list of vocabulary (int-to-str):\", SEQ_E.vocab.itos)\n",
    "print(\" list of vocabulary (str-to-int):\", dict(SEQ_E.vocab.stoi))\n",
    "print(SEQ_E.vocab.freqs)\n",
    "\n",
    "\n",
    "print('Text fields <B>:')\n",
    "print(' size of vocabulary:', len(SEQ_B.vocab))\n",
    "# print(\" vocabulary's embedding dimension:\", SEQ.vocab.vectors.size())\n",
    "print(' no. times the \"N\" appear in the dataset:', SEQ_B.vocab.freqs['N'])\n",
    "print(\" list of vocabulary (int-to-str):\", SEQ_B.vocab.itos)\n",
    "print(\" list of vocabulary (str-to-int):\", dict(SEQ_B.vocab.stoi))\n",
    "print(SEQ_B.vocab.freqs)\n",
    "\n",
    "print('\\nLabel fields:')\n",
    "#print('keys of LABEL.vocab:', list(LABEL.vocab.__dict__.keys()))\n",
    "print(\" list of vocabulary (int-to-str):\", LABEL.vocab.itos)\n",
    "print(\" list of vocabulary (str-to-int):\", dict(LABEL.vocab.stoi))\n",
    "print(LABEL.vocab.freqs)"
   ]
  },
  {
   "cell_type": "code",
   "execution_count": 13,
   "metadata": {
    "colab": {},
    "colab_type": "code",
    "id": "ek4Eo9DUQdMP"
   },
   "outputs": [],
   "source": [
    "BATCH_SIZE = 90\n",
    "\n",
    "train_iter = data.BucketIterator(train_set,\n",
    "                                 batch_size=BATCH_SIZE, \n",
    "                                 device=torch.device(\"cuda:0\" if use_cuda else \"cpu\"),\n",
    "                                 sort_key=lambda x: len(x.sequence_E), #Sorting within the batch\n",
    "                                 sort = True,\n",
    "                                 repeat = False\n",
    "                                )\n",
    "\n",
    "validation_iter = data.BucketIterator(validation_set,\n",
    "                                 batch_size=BATCH_SIZE, \n",
    "                                 device=torch.device(\"cuda:0\" if use_cuda else \"cpu\"),\n",
    "                                 sort_key=lambda x: len(x.sequence_E), #Sorting within the batch\n",
    "                                sort = True,\n",
    "                                repeat = False\n",
    "                                )\n"
   ]
  },
  {
   "cell_type": "markdown",
   "metadata": {},
   "source": [
    "# Network"
   ]
  },
  {
   "cell_type": "code",
   "execution_count": 14,
   "metadata": {
    "colab": {
     "base_uri": "https://localhost:8080/",
     "height": 121
    },
    "colab_type": "code",
    "executionInfo": {
     "elapsed": 4457,
     "status": "ok",
     "timestamp": 1543840045364,
     "user": {
      "displayName": "Lea Riera",
      "photoUrl": "",
      "userId": "09506228137911101216"
     },
     "user_tz": -60
    },
    "id": "gqMzFHkbQdM1",
    "outputId": "d3f9d070-a4cd-4f11-b538-e82d55702537",
    "scrolled": true
   },
   "outputs": [
    {
     "name": "stdout",
     "output_type": "stream",
     "text": [
      "using cuda\n",
      "Net(\n",
      "  (embeddings): Embedding(6, 100)\n",
      "  (conv1): Conv1d(100, 100, kernel_size=(3,), stride=(3,))\n",
      "  (lstm_begining): LSTM(100, 111)\n",
      "  (lstm_end): LSTM(100, 111)\n",
      "  (hidden2tag): Linear(in_features=222, out_features=3, bias=False)\n",
      ")\n"
     ]
    }
   ],
   "source": [
    "import sys\n",
    "# size of embeddings\n",
    "EMBEDDING_DIM = 100\n",
    "NUM_EMBEDDING = len(SEQ_E.vocab) #size of vocab \n",
    "NUM_CLASSES = len(LABEL.vocab.itos)\n",
    "HIDDEN_DIM_B = 111\n",
    "HIDDEN_DIM_A = 111\n",
    "HIDDEN_DIM_TOTAL = HIDDEN_DIM_B + HIDDEN_DIM_A\n",
    "NUM_LAYERS_LSTM = 1\n",
    "\n",
    "\n",
    "class Net(nn.Module):\n",
    "    def __init__(self):\n",
    "        super(Net, self).__init__()\n",
    "        \n",
    "        \n",
    "        #learn a new embedding\n",
    "        self.embeddings = nn.Embedding(NUM_EMBEDDING, EMBEDDING_DIM)\n",
    "\n",
    "        # use pretrained embeddings\n",
    "        \n",
    "        self.conv1 = Conv1d(in_channels= EMBEDDING_DIM,\n",
    "                            out_channels= EMBEDDING_DIM ,\n",
    "                            kernel_size=3,\n",
    "                            stride=3)\n",
    "        \n",
    "        self.lstm_begining = LSTM(input_size=EMBEDDING_DIM,\n",
    "                         hidden_size=HIDDEN_DIM_B,\n",
    "                         num_layers=NUM_LAYERS_LSTM,\n",
    "                         bidirectional=False)\n",
    "        \n",
    "        self.lstm_end = LSTM(input_size=EMBEDDING_DIM,\n",
    "                         hidden_size=HIDDEN_DIM_A,\n",
    "                         num_layers=NUM_LAYERS_LSTM,\n",
    "                         bidirectional=False)\n",
    "        \n",
    "        # link hidden to tag \n",
    "        self.hidden2tag = Linear(in_features=int(HIDDEN_DIM_TOTAL),\n",
    "                            out_features=NUM_CLASSES,\n",
    "                            bias=False)\n",
    "        \n",
    "        \n",
    "        #init lstm hidden units \n",
    "#         self.hidden = self.init_hidden(BATCH_SIZE)\n",
    "\n",
    "    def forward_split(self,x,is_begin = True): \n",
    "            \n",
    "            seqs = x[0]\n",
    "            lengths = x[1]\n",
    "            \n",
    "            #Embedding\n",
    "            embeds = self.embeddings(seqs)\n",
    "            \n",
    "            #Convolution\n",
    "            embeds = embeds.permute([1,2,0])\n",
    "            embeds = self.conv1(embeds)\n",
    "            embeds = embeds.permute([2,0,1])\n",
    "            \n",
    "            #LSTM\n",
    "            embeds = nn.utils.rnn.pack_padded_sequence(embeds,lengths/3, batch_first=False)\n",
    "            # rnn returns output and last hidden state\n",
    "            if is_begin : \n",
    "                lstm_out, self.hidden_B = self.lstm_begining(embeds)\n",
    "            else : \n",
    "                lstm_out, self.hidden_E = self.lstm_end(embeds)\n",
    "                \n",
    "            unpacked, unpacked_len = torch.nn.utils.rnn.pad_packed_sequence(lstm_out, batch_first=False)\n",
    "            last_output = unpacked[-1].type(torch.float)\n",
    "            \n",
    "            return(last_output)\n",
    "        \n",
    "    def forward(self, x):\n",
    "        \n",
    "        #x = {\"B\": [seq,length], \"E\": [seq,length]}\n",
    "\n",
    "            \n",
    "        x_B = x[\"B\"]\n",
    "        x_E = x[\"E\"]\n",
    "        \n",
    "        last_output_B = self.forward_split(x_B)\n",
    "        last_output_E = self.forward_split(x_E, is_begin = False)\n",
    "        \n",
    "        last_output = torch.cat([last_output_B, last_output_E], 1)\n",
    "        \n",
    "        \n",
    "        tag_space = self.hidden2tag(last_output)\n",
    "        tag_scores = softmax(tag_space)\n",
    "        return tag_scores\n",
    "\n",
    "    \n",
    "\n",
    "\n",
    "net = Net()\n",
    "if use_cuda:\n",
    "    net.cuda()\n",
    "    print(\"using cuda\")\n",
    "print(net)"
   ]
  },
  {
   "cell_type": "code",
   "execution_count": 15,
   "metadata": {
    "colab": {
     "base_uri": "https://localhost:8080/",
     "height": 121
    },
    "colab_type": "code",
    "executionInfo": {
     "elapsed": 1302,
     "status": "ok",
     "timestamp": 1543840050477,
     "user": {
      "displayName": "Lea Riera",
      "photoUrl": "",
      "userId": "09506228137911101216"
     },
     "user_tz": -60
    },
    "id": "wZwbtsNYQdM5",
    "outputId": "6a30afc3-9cb1-4fe8-b909-f5b917f3439c"
   },
   "outputs": [
    {
     "data": {
      "text/plain": [
       "{'embeddings.weight': True,\n",
       " 'conv1.weight': True,\n",
       " 'conv1.bias': True,\n",
       " 'lstm_begining.weight_ih_l0': True,\n",
       " 'lstm_begining.weight_hh_l0': True,\n",
       " 'lstm_begining.bias_ih_l0': True,\n",
       " 'lstm_begining.bias_hh_l0': True,\n",
       " 'lstm_end.weight_ih_l0': True,\n",
       " 'lstm_end.weight_hh_l0': True,\n",
       " 'lstm_end.bias_ih_l0': True,\n",
       " 'lstm_end.bias_hh_l0': True,\n",
       " 'hidden2tag.weight': True}"
      ]
     },
     "execution_count": 15,
     "metadata": {},
     "output_type": "execute_result"
    }
   ],
   "source": [
    "# check which params require grad\n",
    "{p[0]: p[1].requires_grad for p in net.named_parameters()}"
   ]
  },
  {
   "cell_type": "code",
   "execution_count": 16,
   "metadata": {
    "colab": {},
    "colab_type": "code",
    "id": "GoEQYT0TQdM9"
   },
   "outputs": [],
   "source": [
    "criterion = nn.CrossEntropyLoss() #weight = final_weights\n",
    "# we filter the model's parameters such that we can remove the embedding layer, \n",
    "# which does not have requires_grad\n",
    "optimizer = optim.Adam(filter(lambda p: p.requires_grad, net.parameters()), lr=0.0001)\n",
    "\n",
    "def accuracy(ys, ts):\n",
    "    # making a one-hot encoded vector of correct (1) and incorrect (0) predictions\n",
    "    correct_prediction = torch.eq(torch.max(ys, 1)[1], ts)\n",
    "#     print(torch.max(ys, 1)[1], ts)\n",
    "#     print(correct_prediction)\n",
    "    # averaging the one-hot encoded vector\n",
    "    return torch.mean(correct_prediction.float())\n",
    "\n",
    "def construct_sentences(batch):\n",
    "    return [\" \".join([SEQ.vocab.itos[elm] \n",
    "                      for elm in get_numpy(batch.sequence[:,i])])\n",
    "            for i in range(batch.sequence.size()[1])]\n",
    "\n",
    "def get_labels(batch):\n",
    "    return [LABEL.vocab.itos[get_numpy(batch.label[i])] for i in range(len(batch.label))]"
   ]
  },
  {
   "cell_type": "code",
   "execution_count": 17,
   "metadata": {},
   "outputs": [
    {
     "name": "stderr",
     "output_type": "stream",
     "text": [
      "/opt/anaconda3/lib/python3.7/site-packages/ipykernel_launcher.py:87: UserWarning: Implicit dimension choice for softmax has been deprecated. Change the call to include dim=X as an argument.\n"
     ]
    },
    {
     "name": "stdout",
     "output_type": "stream",
     "text": [
      "Epoch 0\tTrain 1.128\tVal 1.107\n"
     ]
    },
    {
     "ename": "KeyboardInterrupt",
     "evalue": "",
     "output_type": "error",
     "traceback": [
      "\u001b[0;31m---------------------------------------------------------------------------\u001b[0m",
      "\u001b[0;31mKeyboardInterrupt\u001b[0m                         Traceback (most recent call last)",
      "\u001b[0;32m<ipython-input-17-56aace972d21>\u001b[0m in \u001b[0;36m<module>\u001b[0;34m\u001b[0m\n\u001b[1;32m     53\u001b[0m             \u001b[0mnet\u001b[0m\u001b[0;34m.\u001b[0m\u001b[0mtrain\u001b[0m\u001b[0;34m(\u001b[0m\u001b[0;34m)\u001b[0m\u001b[0;34m\u001b[0m\u001b[0m\n\u001b[1;32m     54\u001b[0m \u001b[0;34m\u001b[0m\u001b[0m\n\u001b[0;32m---> 55\u001b[0;31m         \u001b[0mbatch_loss\u001b[0m\u001b[0;34m.\u001b[0m\u001b[0mbackward\u001b[0m\u001b[0;34m(\u001b[0m\u001b[0;34m)\u001b[0m\u001b[0;34m\u001b[0m\u001b[0m\n\u001b[0m\u001b[1;32m     56\u001b[0m         \u001b[0moptimizer\u001b[0m\u001b[0;34m.\u001b[0m\u001b[0mstep\u001b[0m\u001b[0;34m(\u001b[0m\u001b[0;34m)\u001b[0m\u001b[0;34m\u001b[0m\u001b[0m\n\u001b[1;32m     57\u001b[0m \u001b[0;34m\u001b[0m\u001b[0m\n",
      "\u001b[0;32m/opt/anaconda3/lib/python3.7/site-packages/torch/tensor.py\u001b[0m in \u001b[0;36mbackward\u001b[0;34m(self, gradient, retain_graph, create_graph)\u001b[0m\n\u001b[1;32m    100\u001b[0m                 \u001b[0mproducts\u001b[0m\u001b[0;34m.\u001b[0m \u001b[0mDefaults\u001b[0m \u001b[0mto\u001b[0m\u001b[0;31m \u001b[0m\u001b[0;31m`\u001b[0m\u001b[0;31m`\u001b[0m\u001b[0;32mFalse\u001b[0m\u001b[0;31m`\u001b[0m\u001b[0;31m`\u001b[0m\u001b[0;34m.\u001b[0m\u001b[0;34m\u001b[0m\u001b[0m\n\u001b[1;32m    101\u001b[0m         \"\"\"\n\u001b[0;32m--> 102\u001b[0;31m         \u001b[0mtorch\u001b[0m\u001b[0;34m.\u001b[0m\u001b[0mautograd\u001b[0m\u001b[0;34m.\u001b[0m\u001b[0mbackward\u001b[0m\u001b[0;34m(\u001b[0m\u001b[0mself\u001b[0m\u001b[0;34m,\u001b[0m \u001b[0mgradient\u001b[0m\u001b[0;34m,\u001b[0m \u001b[0mretain_graph\u001b[0m\u001b[0;34m,\u001b[0m \u001b[0mcreate_graph\u001b[0m\u001b[0;34m)\u001b[0m\u001b[0;34m\u001b[0m\u001b[0m\n\u001b[0m\u001b[1;32m    103\u001b[0m \u001b[0;34m\u001b[0m\u001b[0m\n\u001b[1;32m    104\u001b[0m     \u001b[0;32mdef\u001b[0m \u001b[0mregister_hook\u001b[0m\u001b[0;34m(\u001b[0m\u001b[0mself\u001b[0m\u001b[0;34m,\u001b[0m \u001b[0mhook\u001b[0m\u001b[0;34m)\u001b[0m\u001b[0;34m:\u001b[0m\u001b[0;34m\u001b[0m\u001b[0m\n",
      "\u001b[0;32m/opt/anaconda3/lib/python3.7/site-packages/torch/autograd/__init__.py\u001b[0m in \u001b[0;36mbackward\u001b[0;34m(tensors, grad_tensors, retain_graph, create_graph, grad_variables)\u001b[0m\n\u001b[1;32m     88\u001b[0m     Variable._execution_engine.run_backward(\n\u001b[1;32m     89\u001b[0m         \u001b[0mtensors\u001b[0m\u001b[0;34m,\u001b[0m \u001b[0mgrad_tensors\u001b[0m\u001b[0;34m,\u001b[0m \u001b[0mretain_graph\u001b[0m\u001b[0;34m,\u001b[0m \u001b[0mcreate_graph\u001b[0m\u001b[0;34m,\u001b[0m\u001b[0;34m\u001b[0m\u001b[0m\n\u001b[0;32m---> 90\u001b[0;31m         allow_unreachable=True)  # allow_unreachable flag\n\u001b[0m\u001b[1;32m     91\u001b[0m \u001b[0;34m\u001b[0m\u001b[0m\n\u001b[1;32m     92\u001b[0m \u001b[0;34m\u001b[0m\u001b[0m\n",
      "\u001b[0;31mKeyboardInterrupt\u001b[0m: "
     ]
    }
   ],
   "source": [
    "num_epoch = 40\n",
    "iter_by_epoch = int(len(train_set)/BATCH_SIZE)\n",
    "eval_every = 100\n",
    "\n",
    "reduced_train_lost = []\n",
    "reduced_train_accuracy = []\n",
    "\n",
    "reduced_val_lost = []\n",
    "reduced_val_accuracy = []\n",
    "\n",
    "train_loss, train_accs = [], []\n",
    "val_loss, val_accs = [], []\n",
    "\n",
    "epoch_index = []\n",
    "times = []\n",
    "i = 0\n",
    "\n",
    "\n",
    "for epoch in range(num_epoch):\n",
    "    \n",
    "    train_loss, train_accs = [], []\n",
    "    val_loss, val_accs = [], []\n",
    "    \n",
    "    net.train()\n",
    "    # Training\n",
    "    for i, batch in enumerate(train_iter):\n",
    "            \n",
    "        optimizer.zero_grad()\n",
    "        feed_network = {\"B\":batch.sequence_B, \"E\":batch.sequence_E}\n",
    "        output = net(feed_network)\n",
    "        batch_loss = criterion(output, batch.label)\n",
    "\n",
    "        train_loss.append(get_numpy(batch_loss))\n",
    "        train_accs.append(get_numpy(accuracy(output, batch.label)))\n",
    "\n",
    "\n",
    "        if i % eval_every == 0:     \n",
    "            net.eval()\n",
    "            val_losses_running, val_accs_running, val_lengths = 0, 0, 0\n",
    "            \n",
    "            for val_batch in validation_iter:\n",
    "                feed_network = {\"B\":val_batch.sequence_B, \"E\":val_batch.sequence_E}\n",
    "                output = net(feed_network)\n",
    "                val_losses_running += criterion(output, val_batch.label)*val_batch.batch_size\n",
    "                val_accs_running += accuracy(output, val_batch.label) *val_batch.batch_size\n",
    "                val_lengths += val_batch.batch_size\n",
    "\n",
    "            # divide by the total accumulated batch sizes\n",
    "            val_losses_running /= val_lengths\n",
    "            val_accs_running /= val_lengths\n",
    "            val_loss.append(get_numpy(val_losses_running))\n",
    "            val_accs.append(get_numpy(val_accs_running))\n",
    "            net.train()\n",
    "        \n",
    "        batch_loss.backward()     \n",
    "        optimizer.step()\n",
    "        \n",
    "        i += 1\n",
    "    \n",
    "    reduced_train_lost.append(np.mean(train_loss))\n",
    "    reduced_train_accuracy.append(np.mean(train_accs))\n",
    "    \n",
    "    reduced_val_lost.append(np.mean(val_loss))\n",
    "    reduced_val_accuracy.append(np.mean(val_accs))\n",
    "    \n",
    "    epoch_index.append(epoch)\n",
    "    times.append(time.time())\n",
    "    \n",
    "    print(f'Epoch {epoch}\\tTrain {np.mean(train_loss):.3f}\\tVal {np.mean(val_loss):.3f}')\n",
    "    \n",
    "# 500, 20, 100/"
   ]
  },
  {
   "cell_type": "code",
   "execution_count": 22,
   "metadata": {},
   "outputs": [
    {
     "data": {
      "image/png": "[encoded data removed]",
      "text/plain": [
       "<Figure size 864x288 with 2 Axes>"
      ]
     },
     "metadata": {
      "needs_background": "light"
     },
     "output_type": "display_data"
    },
    {
     "ename": "ValueError",
     "evalue": "fname must be a PathLike or file handle",
     "output_type": "error",
     "traceback": [
      "\u001b[0;31m---------------------------------------------------------------------------\u001b[0m",
      "\u001b[0;31mValueError\u001b[0m                                Traceback (most recent call last)",
      "\u001b[0;32m<ipython-input-22-4ad33f2009f5>\u001b[0m in \u001b[0;36m<module>\u001b[0;34m\u001b[0m\n\u001b[1;32m     10\u001b[0m \u001b[0mplt\u001b[0m\u001b[0;34m.\u001b[0m\u001b[0mlegend\u001b[0m\u001b[0;34m(\u001b[0m\u001b[0;34m)\u001b[0m\u001b[0;34m\u001b[0m\u001b[0m\n\u001b[1;32m     11\u001b[0m \u001b[0mplt\u001b[0m\u001b[0;34m.\u001b[0m\u001b[0mshow\u001b[0m\u001b[0;34m(\u001b[0m\u001b[0;34m)\u001b[0m\u001b[0;34m\u001b[0m\u001b[0m\n\u001b[0;32m---> 12\u001b[0;31m \u001b[0mplt\u001b[0m\u001b[0;34m.\u001b[0m\u001b[0msavefig\u001b[0m\u001b[0;34m(\u001b[0m\u001b[0mfig\u001b[0m\u001b[0;34m,\u001b[0m \u001b[0mformat\u001b[0m\u001b[0;34m=\u001b[0m\u001b[0;34m\"svg\"\u001b[0m\u001b[0;34m)\u001b[0m\u001b[0;34m\u001b[0m\u001b[0m\n\u001b[0m",
      "\u001b[0;32m/opt/anaconda3/lib/python3.7/site-packages/matplotlib/pyplot.py\u001b[0m in \u001b[0;36msavefig\u001b[0;34m(*args, **kwargs)\u001b[0m\n\u001b[1;32m    693\u001b[0m \u001b[0;32mdef\u001b[0m \u001b[0msavefig\u001b[0m\u001b[0;34m(\u001b[0m\u001b[0;34m*\u001b[0m\u001b[0margs\u001b[0m\u001b[0;34m,\u001b[0m \u001b[0;34m**\u001b[0m\u001b[0mkwargs\u001b[0m\u001b[0;34m)\u001b[0m\u001b[0;34m:\u001b[0m\u001b[0;34m\u001b[0m\u001b[0m\n\u001b[1;32m    694\u001b[0m     \u001b[0mfig\u001b[0m \u001b[0;34m=\u001b[0m \u001b[0mgcf\u001b[0m\u001b[0;34m(\u001b[0m\u001b[0;34m)\u001b[0m\u001b[0;34m\u001b[0m\u001b[0m\n\u001b[0;32m--> 695\u001b[0;31m     \u001b[0mres\u001b[0m \u001b[0;34m=\u001b[0m \u001b[0mfig\u001b[0m\u001b[0;34m.\u001b[0m\u001b[0msavefig\u001b[0m\u001b[0;34m(\u001b[0m\u001b[0;34m*\u001b[0m\u001b[0margs\u001b[0m\u001b[0;34m,\u001b[0m \u001b[0;34m**\u001b[0m\u001b[0mkwargs\u001b[0m\u001b[0;34m)\u001b[0m\u001b[0;34m\u001b[0m\u001b[0m\n\u001b[0m\u001b[1;32m    696\u001b[0m     \u001b[0mfig\u001b[0m\u001b[0;34m.\u001b[0m\u001b[0mcanvas\u001b[0m\u001b[0;34m.\u001b[0m\u001b[0mdraw_idle\u001b[0m\u001b[0;34m(\u001b[0m\u001b[0;34m)\u001b[0m   \u001b[0;31m# need this if 'transparent=True' to reset colors\u001b[0m\u001b[0;34m\u001b[0m\u001b[0m\n\u001b[1;32m    697\u001b[0m     \u001b[0;32mreturn\u001b[0m \u001b[0mres\u001b[0m\u001b[0;34m\u001b[0m\u001b[0m\n",
      "\u001b[0;32m/opt/anaconda3/lib/python3.7/site-packages/matplotlib/figure.py\u001b[0m in \u001b[0;36msavefig\u001b[0;34m(self, fname, **kwargs)\u001b[0m\n\u001b[1;32m   2060\u001b[0m             \u001b[0mself\u001b[0m\u001b[0;34m.\u001b[0m\u001b[0mset_frameon\u001b[0m\u001b[0;34m(\u001b[0m\u001b[0mframeon\u001b[0m\u001b[0;34m)\u001b[0m\u001b[0;34m\u001b[0m\u001b[0m\n\u001b[1;32m   2061\u001b[0m \u001b[0;34m\u001b[0m\u001b[0m\n\u001b[0;32m-> 2062\u001b[0;31m         \u001b[0mself\u001b[0m\u001b[0;34m.\u001b[0m\u001b[0mcanvas\u001b[0m\u001b[0;34m.\u001b[0m\u001b[0mprint_figure\u001b[0m\u001b[0;34m(\u001b[0m\u001b[0mfname\u001b[0m\u001b[0;34m,\u001b[0m \u001b[0;34m**\u001b[0m\u001b[0mkwargs\u001b[0m\u001b[0;34m)\u001b[0m\u001b[0;34m\u001b[0m\u001b[0m\n\u001b[0m\u001b[1;32m   2063\u001b[0m \u001b[0;34m\u001b[0m\u001b[0m\n\u001b[1;32m   2064\u001b[0m         \u001b[0;32mif\u001b[0m \u001b[0mframeon\u001b[0m\u001b[0;34m:\u001b[0m\u001b[0;34m\u001b[0m\u001b[0m\n",
      "\u001b[0;32m/opt/anaconda3/lib/python3.7/site-packages/matplotlib/backend_bases.py\u001b[0m in \u001b[0;36mprint_figure\u001b[0;34m(self, filename, dpi, facecolor, edgecolor, orientation, format, **kwargs)\u001b[0m\n\u001b[1;32m   2261\u001b[0m                 \u001b[0morientation\u001b[0m\u001b[0;34m=\u001b[0m\u001b[0morientation\u001b[0m\u001b[0;34m,\u001b[0m\u001b[0;34m\u001b[0m\u001b[0m\n\u001b[1;32m   2262\u001b[0m                 \u001b[0mbbox_inches_restore\u001b[0m\u001b[0;34m=\u001b[0m\u001b[0m_bbox_inches_restore\u001b[0m\u001b[0;34m,\u001b[0m\u001b[0;34m\u001b[0m\u001b[0m\n\u001b[0;32m-> 2263\u001b[0;31m                 **kwargs)\n\u001b[0m\u001b[1;32m   2264\u001b[0m         \u001b[0;32mfinally\u001b[0m\u001b[0;34m:\u001b[0m\u001b[0;34m\u001b[0m\u001b[0m\n\u001b[1;32m   2265\u001b[0m             \u001b[0;32mif\u001b[0m \u001b[0mbbox_inches\u001b[0m \u001b[0;32mand\u001b[0m \u001b[0mrestore_bbox\u001b[0m\u001b[0;34m:\u001b[0m\u001b[0;34m\u001b[0m\u001b[0m\n",
      "\u001b[0;32m/opt/anaconda3/lib/python3.7/site-packages/matplotlib/backends/backend_svg.py\u001b[0m in \u001b[0;36mprint_svg\u001b[0;34m(self, filename, *args, **kwargs)\u001b[0m\n\u001b[1;32m   1193\u001b[0m \u001b[0;34m\u001b[0m\u001b[0m\n\u001b[1;32m   1194\u001b[0m     \u001b[0;32mdef\u001b[0m \u001b[0mprint_svg\u001b[0m\u001b[0;34m(\u001b[0m\u001b[0mself\u001b[0m\u001b[0;34m,\u001b[0m \u001b[0mfilename\u001b[0m\u001b[0;34m,\u001b[0m \u001b[0;34m*\u001b[0m\u001b[0margs\u001b[0m\u001b[0;34m,\u001b[0m \u001b[0;34m**\u001b[0m\u001b[0mkwargs\u001b[0m\u001b[0;34m)\u001b[0m\u001b[0;34m:\u001b[0m\u001b[0;34m\u001b[0m\u001b[0m\n\u001b[0;32m-> 1195\u001b[0;31m         \u001b[0;32mwith\u001b[0m \u001b[0mcbook\u001b[0m\u001b[0;34m.\u001b[0m\u001b[0mopen_file_cm\u001b[0m\u001b[0;34m(\u001b[0m\u001b[0mfilename\u001b[0m\u001b[0;34m,\u001b[0m \u001b[0;34m\"w\"\u001b[0m\u001b[0;34m,\u001b[0m \u001b[0mencoding\u001b[0m\u001b[0;34m=\u001b[0m\u001b[0;34m\"utf-8\"\u001b[0m\u001b[0;34m)\u001b[0m \u001b[0;32mas\u001b[0m \u001b[0mfh\u001b[0m\u001b[0;34m:\u001b[0m\u001b[0;34m\u001b[0m\u001b[0m\n\u001b[0m\u001b[1;32m   1196\u001b[0m \u001b[0;34m\u001b[0m\u001b[0m\n\u001b[1;32m   1197\u001b[0m             \u001b[0mfilename\u001b[0m \u001b[0;34m=\u001b[0m \u001b[0mgetattr\u001b[0m\u001b[0;34m(\u001b[0m\u001b[0mfh\u001b[0m\u001b[0;34m,\u001b[0m \u001b[0;34m'name'\u001b[0m\u001b[0;34m,\u001b[0m \u001b[0;34m''\u001b[0m\u001b[0;34m)\u001b[0m\u001b[0;34m\u001b[0m\u001b[0m\n",
      "\u001b[0;32m/opt/anaconda3/lib/python3.7/contextlib.py\u001b[0m in \u001b[0;36m__enter__\u001b[0;34m(self)\u001b[0m\n\u001b[1;32m    110\u001b[0m         \u001b[0;32mdel\u001b[0m \u001b[0mself\u001b[0m\u001b[0;34m.\u001b[0m\u001b[0margs\u001b[0m\u001b[0;34m,\u001b[0m \u001b[0mself\u001b[0m\u001b[0;34m.\u001b[0m\u001b[0mkwds\u001b[0m\u001b[0;34m,\u001b[0m \u001b[0mself\u001b[0m\u001b[0;34m.\u001b[0m\u001b[0mfunc\u001b[0m\u001b[0;34m\u001b[0m\u001b[0m\n\u001b[1;32m    111\u001b[0m         \u001b[0;32mtry\u001b[0m\u001b[0;34m:\u001b[0m\u001b[0;34m\u001b[0m\u001b[0m\n\u001b[0;32m--> 112\u001b[0;31m             \u001b[0;32mreturn\u001b[0m \u001b[0mnext\u001b[0m\u001b[0;34m(\u001b[0m\u001b[0mself\u001b[0m\u001b[0;34m.\u001b[0m\u001b[0mgen\u001b[0m\u001b[0;34m)\u001b[0m\u001b[0;34m\u001b[0m\u001b[0m\n\u001b[0m\u001b[1;32m    113\u001b[0m         \u001b[0;32mexcept\u001b[0m \u001b[0mStopIteration\u001b[0m\u001b[0;34m:\u001b[0m\u001b[0;34m\u001b[0m\u001b[0m\n\u001b[1;32m    114\u001b[0m             \u001b[0;32mraise\u001b[0m \u001b[0mRuntimeError\u001b[0m\u001b[0;34m(\u001b[0m\u001b[0;34m\"generator didn't yield\"\u001b[0m\u001b[0;34m)\u001b[0m \u001b[0;32mfrom\u001b[0m \u001b[0;32mNone\u001b[0m\u001b[0;34m\u001b[0m\u001b[0m\n",
      "\u001b[0;32m/opt/anaconda3/lib/python3.7/site-packages/matplotlib/cbook/__init__.py\u001b[0m in \u001b[0;36mopen_file_cm\u001b[0;34m(path_or_file, mode, encoding)\u001b[0m\n\u001b[1;32m    624\u001b[0m \u001b[0;32mdef\u001b[0m \u001b[0mopen_file_cm\u001b[0m\u001b[0;34m(\u001b[0m\u001b[0mpath_or_file\u001b[0m\u001b[0;34m,\u001b[0m \u001b[0mmode\u001b[0m\u001b[0;34m=\u001b[0m\u001b[0;34m\"r\"\u001b[0m\u001b[0;34m,\u001b[0m \u001b[0mencoding\u001b[0m\u001b[0;34m=\u001b[0m\u001b[0;32mNone\u001b[0m\u001b[0;34m)\u001b[0m\u001b[0;34m:\u001b[0m\u001b[0;34m\u001b[0m\u001b[0m\n\u001b[1;32m    625\u001b[0m     \u001b[0;34mr\"\"\"Pass through file objects and context-manage `.PathLike`\\s.\"\"\"\u001b[0m\u001b[0;34m\u001b[0m\u001b[0m\n\u001b[0;32m--> 626\u001b[0;31m     \u001b[0mfh\u001b[0m\u001b[0;34m,\u001b[0m \u001b[0mopened\u001b[0m \u001b[0;34m=\u001b[0m \u001b[0mto_filehandle\u001b[0m\u001b[0;34m(\u001b[0m\u001b[0mpath_or_file\u001b[0m\u001b[0;34m,\u001b[0m \u001b[0mmode\u001b[0m\u001b[0;34m,\u001b[0m \u001b[0;32mTrue\u001b[0m\u001b[0;34m,\u001b[0m \u001b[0mencoding\u001b[0m\u001b[0;34m)\u001b[0m\u001b[0;34m\u001b[0m\u001b[0m\n\u001b[0m\u001b[1;32m    627\u001b[0m     \u001b[0;32mif\u001b[0m \u001b[0mopened\u001b[0m\u001b[0;34m:\u001b[0m\u001b[0;34m\u001b[0m\u001b[0m\n\u001b[1;32m    628\u001b[0m         \u001b[0;32mwith\u001b[0m \u001b[0mfh\u001b[0m\u001b[0;34m:\u001b[0m\u001b[0;34m\u001b[0m\u001b[0m\n",
      "\u001b[0;32m/opt/anaconda3/lib/python3.7/site-packages/matplotlib/cbook/__init__.py\u001b[0m in \u001b[0;36mto_filehandle\u001b[0;34m(fname, flag, return_opened, encoding)\u001b[0m\n\u001b[1;32m    615\u001b[0m         \u001b[0mopened\u001b[0m \u001b[0;34m=\u001b[0m \u001b[0;32mFalse\u001b[0m\u001b[0;34m\u001b[0m\u001b[0m\n\u001b[1;32m    616\u001b[0m     \u001b[0;32melse\u001b[0m\u001b[0;34m:\u001b[0m\u001b[0;34m\u001b[0m\u001b[0m\n\u001b[0;32m--> 617\u001b[0;31m         \u001b[0;32mraise\u001b[0m \u001b[0mValueError\u001b[0m\u001b[0;34m(\u001b[0m\u001b[0;34m'fname must be a PathLike or file handle'\u001b[0m\u001b[0;34m)\u001b[0m\u001b[0;34m\u001b[0m\u001b[0m\n\u001b[0m\u001b[1;32m    618\u001b[0m     \u001b[0;32mif\u001b[0m \u001b[0mreturn_opened\u001b[0m\u001b[0;34m:\u001b[0m\u001b[0;34m\u001b[0m\u001b[0m\n\u001b[1;32m    619\u001b[0m         \u001b[0;32mreturn\u001b[0m \u001b[0mfh\u001b[0m\u001b[0;34m,\u001b[0m \u001b[0mopened\u001b[0m\u001b[0;34m\u001b[0m\u001b[0m\n",
      "\u001b[0;31mValueError\u001b[0m: fname must be a PathLike or file handle"
     ]
    },
    {
     "data": {
      "text/plain": [
       "<Figure size 432x288 with 0 Axes>"
      ]
     },
     "metadata": {},
     "output_type": "display_data"
    }
   ],
   "source": [
    "fig = plt.figure(figsize=(12,4))\n",
    "plt.subplot(1, 2, 1)\n",
    "plt.plot(epoch_index,reduced_train_lost,label='train_loss')\n",
    "plt.plot(epoch_index,reduced_val_lost, label='valid_loss')\n",
    "plt.legend()\n",
    "\n",
    "plt.subplot(1, 2, 2)\n",
    "plt.plot(epoch_index, reduced_train_accuracy, label='train_accs')\n",
    "plt.plot(epoch_index, reduced_val_accuracy, label='valid_accs')\n",
    "plt.legend()\n",
    "plt.show()\n",
    "plt.savefig(fig, format=\"svg\")\n"
   ]
  },
  {
   "cell_type": "code",
   "execution_count": null,
   "metadata": {},
   "outputs": [],
   "source": [
    "## eventually store data in files \n",
    "\n",
    "with open(\"train_loss\",'w') as fOut :\n",
    "    for i,j in zip(train_iter_index,reduced_train_lost) : \n",
    "        fOut.write(str(i)+\",\" + str(j)+\"\\n\")\n",
    "\n",
    "with open(\"valid_loss\",'w') as fOut :\n",
    "    for i,j in zip(valid_iter_index, valid_loss) : \n",
    "        fOut.write(str(i)+\",\" + str(j)+\"\\n\")\n",
    "        \n",
    "with open(\"train_acc\",'w') as fOut :\n",
    "    for i,j in zip(train_iter_index, reduced_train_accuracy) : \n",
    "        fOut.write(str(i)+\",\" + str(j)+\"\\n\")\n",
    "        \n",
    "with open(\"val_acc\",'w') as fOut :\n",
    "    for i,j in zip(train_iter_index,reduced_train_lost) : \n",
    "        fOut.write(str(i)+\",\" + str(j)+\"\\n\")\n",
    "\n"
   ]
  },
  {
   "cell_type": "markdown",
   "metadata": {},
   "source": [
    "# Result analysis"
   ]
  },
  {
   "cell_type": "code",
   "execution_count": 18,
   "metadata": {},
   "outputs": [
    {
     "name": "stderr",
     "output_type": "stream",
     "text": [
      "/opt/anaconda3/lib/python3.7/site-packages/ipykernel_launcher.py:87: UserWarning: Implicit dimension choice for softmax has been deprecated. Change the call to include dim=X as an argument.\n"
     ]
    },
    {
     "name": "stdout",
     "output_type": "stream",
     "text": [
      "tensor(67.0000, device='cuda:0') 90\n",
      "tensor(90., device='cuda:0') 90\n",
      "tensor(90., device='cuda:0') 90\n",
      "tensor(90., device='cuda:0') 90\n",
      "tensor(90., device='cuda:0') 90\n",
      "tensor(90., device='cuda:0') 90\n",
      "tensor(90., device='cuda:0') 90\n",
      "tensor(90., device='cuda:0') 90\n",
      "tensor(90., device='cuda:0') 90\n"
     ]
    },
    {
     "ename": "RuntimeError",
     "evalue": "CUDA out of memory. Tried to allocate 20.62 MiB (GPU 0; 11.17 GiB total capacity; 2.10 GiB already allocated; 18.31 MiB free; 342.98 MiB cached)",
     "output_type": "error",
     "traceback": [
      "\u001b[0;31m---------------------------------------------------------------------------\u001b[0m",
      "\u001b[0;31mRuntimeError\u001b[0m                              Traceback (most recent call last)",
      "\u001b[0;32m<ipython-input-18-4c1ce4337773>\u001b[0m in \u001b[0;36m<module>\u001b[0;34m\u001b[0m\n\u001b[1;32m      5\u001b[0m \u001b[0;32mfor\u001b[0m \u001b[0mval_batch\u001b[0m \u001b[0;32min\u001b[0m \u001b[0mvalidation_iter\u001b[0m\u001b[0;34m:\u001b[0m\u001b[0;34m\u001b[0m\u001b[0m\n\u001b[1;32m      6\u001b[0m     \u001b[0mfeed_network\u001b[0m \u001b[0;34m=\u001b[0m \u001b[0;34m{\u001b[0m\u001b[0;34m\"B\"\u001b[0m\u001b[0;34m:\u001b[0m\u001b[0mval_batch\u001b[0m\u001b[0;34m.\u001b[0m\u001b[0msequence_B\u001b[0m\u001b[0;34m,\u001b[0m \u001b[0;34m\"E\"\u001b[0m\u001b[0;34m:\u001b[0m\u001b[0mval_batch\u001b[0m\u001b[0;34m.\u001b[0m\u001b[0msequence_E\u001b[0m\u001b[0;34m}\u001b[0m\u001b[0;34m\u001b[0m\u001b[0m\n\u001b[0;32m----> 7\u001b[0;31m     \u001b[0moutput\u001b[0m \u001b[0;34m=\u001b[0m \u001b[0mnet\u001b[0m\u001b[0;34m(\u001b[0m\u001b[0mfeed_network\u001b[0m\u001b[0;34m)\u001b[0m\u001b[0;34m\u001b[0m\u001b[0m\n\u001b[0m\u001b[1;32m      8\u001b[0m     \u001b[0mpredictions\u001b[0m \u001b[0;34m+=\u001b[0m \u001b[0;34m[\u001b[0m \u001b[0mLABEL\u001b[0m\u001b[0;34m.\u001b[0m\u001b[0mvocab\u001b[0m\u001b[0;34m.\u001b[0m\u001b[0mitos\u001b[0m\u001b[0;34m[\u001b[0m\u001b[0mint\u001b[0m\u001b[0;34m(\u001b[0m\u001b[0mi\u001b[0m\u001b[0;34m)\u001b[0m\u001b[0;34m]\u001b[0m \u001b[0;32mfor\u001b[0m \u001b[0mi\u001b[0m \u001b[0;32min\u001b[0m \u001b[0mtorch\u001b[0m\u001b[0;34m.\u001b[0m\u001b[0mmax\u001b[0m\u001b[0;34m(\u001b[0m\u001b[0moutput\u001b[0m\u001b[0;34m,\u001b[0m\u001b[0;36m1\u001b[0m\u001b[0;34m)\u001b[0m\u001b[0;34m[\u001b[0m\u001b[0;36m1\u001b[0m\u001b[0;34m]\u001b[0m\u001b[0;34m]\u001b[0m\u001b[0;34m\u001b[0m\u001b[0m\n\u001b[1;32m      9\u001b[0m     \u001b[0mreal_values\u001b[0m \u001b[0;34m+=\u001b[0m \u001b[0;34m[\u001b[0m\u001b[0mLABEL\u001b[0m\u001b[0;34m.\u001b[0m\u001b[0mvocab\u001b[0m\u001b[0;34m.\u001b[0m\u001b[0mitos\u001b[0m\u001b[0;34m[\u001b[0m\u001b[0mint\u001b[0m\u001b[0;34m(\u001b[0m\u001b[0mi\u001b[0m\u001b[0;34m)\u001b[0m\u001b[0;34m]\u001b[0m \u001b[0;32mfor\u001b[0m \u001b[0mi\u001b[0m \u001b[0;32min\u001b[0m \u001b[0mval_batch\u001b[0m\u001b[0;34m.\u001b[0m\u001b[0mlabel\u001b[0m\u001b[0;34m]\u001b[0m\u001b[0;34m\u001b[0m\u001b[0m\n",
      "\u001b[0;32m/opt/anaconda3/lib/python3.7/site-packages/torch/nn/modules/module.py\u001b[0m in \u001b[0;36m__call__\u001b[0;34m(self, *input, **kwargs)\u001b[0m\n\u001b[1;32m    477\u001b[0m             \u001b[0mresult\u001b[0m \u001b[0;34m=\u001b[0m \u001b[0mself\u001b[0m\u001b[0;34m.\u001b[0m\u001b[0m_slow_forward\u001b[0m\u001b[0;34m(\u001b[0m\u001b[0;34m*\u001b[0m\u001b[0minput\u001b[0m\u001b[0;34m,\u001b[0m \u001b[0;34m**\u001b[0m\u001b[0mkwargs\u001b[0m\u001b[0;34m)\u001b[0m\u001b[0;34m\u001b[0m\u001b[0m\n\u001b[1;32m    478\u001b[0m         \u001b[0;32melse\u001b[0m\u001b[0;34m:\u001b[0m\u001b[0;34m\u001b[0m\u001b[0m\n\u001b[0;32m--> 479\u001b[0;31m             \u001b[0mresult\u001b[0m \u001b[0;34m=\u001b[0m \u001b[0mself\u001b[0m\u001b[0;34m.\u001b[0m\u001b[0mforward\u001b[0m\u001b[0;34m(\u001b[0m\u001b[0;34m*\u001b[0m\u001b[0minput\u001b[0m\u001b[0;34m,\u001b[0m \u001b[0;34m**\u001b[0m\u001b[0mkwargs\u001b[0m\u001b[0;34m)\u001b[0m\u001b[0;34m\u001b[0m\u001b[0m\n\u001b[0m\u001b[1;32m    480\u001b[0m         \u001b[0;32mfor\u001b[0m \u001b[0mhook\u001b[0m \u001b[0;32min\u001b[0m \u001b[0mself\u001b[0m\u001b[0;34m.\u001b[0m\u001b[0m_forward_hooks\u001b[0m\u001b[0;34m.\u001b[0m\u001b[0mvalues\u001b[0m\u001b[0;34m(\u001b[0m\u001b[0;34m)\u001b[0m\u001b[0;34m:\u001b[0m\u001b[0;34m\u001b[0m\u001b[0m\n\u001b[1;32m    481\u001b[0m             \u001b[0mhook_result\u001b[0m \u001b[0;34m=\u001b[0m \u001b[0mhook\u001b[0m\u001b[0;34m(\u001b[0m\u001b[0mself\u001b[0m\u001b[0;34m,\u001b[0m \u001b[0minput\u001b[0m\u001b[0;34m,\u001b[0m \u001b[0mresult\u001b[0m\u001b[0;34m)\u001b[0m\u001b[0;34m\u001b[0m\u001b[0m\n",
      "\u001b[0;32m<ipython-input-14-e000c3af182e>\u001b[0m in \u001b[0;36mforward\u001b[0;34m(self, x)\u001b[0m\n\u001b[1;32m     79\u001b[0m \u001b[0;34m\u001b[0m\u001b[0m\n\u001b[1;32m     80\u001b[0m         \u001b[0mlast_output_B\u001b[0m \u001b[0;34m=\u001b[0m \u001b[0mself\u001b[0m\u001b[0;34m.\u001b[0m\u001b[0mforward_split\u001b[0m\u001b[0;34m(\u001b[0m\u001b[0mx_B\u001b[0m\u001b[0;34m)\u001b[0m\u001b[0;34m\u001b[0m\u001b[0m\n\u001b[0;32m---> 81\u001b[0;31m         \u001b[0mlast_output_E\u001b[0m \u001b[0;34m=\u001b[0m \u001b[0mself\u001b[0m\u001b[0;34m.\u001b[0m\u001b[0mforward_split\u001b[0m\u001b[0;34m(\u001b[0m\u001b[0mx_E\u001b[0m\u001b[0;34m,\u001b[0m \u001b[0mis_begin\u001b[0m \u001b[0;34m=\u001b[0m \u001b[0;32mFalse\u001b[0m\u001b[0;34m)\u001b[0m\u001b[0;34m\u001b[0m\u001b[0m\n\u001b[0m\u001b[1;32m     82\u001b[0m \u001b[0;34m\u001b[0m\u001b[0m\n\u001b[1;32m     83\u001b[0m         \u001b[0mlast_output\u001b[0m \u001b[0;34m=\u001b[0m \u001b[0mtorch\u001b[0m\u001b[0;34m.\u001b[0m\u001b[0mcat\u001b[0m\u001b[0;34m(\u001b[0m\u001b[0;34m[\u001b[0m\u001b[0mlast_output_B\u001b[0m\u001b[0;34m,\u001b[0m \u001b[0mlast_output_E\u001b[0m\u001b[0;34m]\u001b[0m\u001b[0;34m,\u001b[0m \u001b[0;36m1\u001b[0m\u001b[0;34m)\u001b[0m\u001b[0;34m\u001b[0m\u001b[0m\n",
      "\u001b[0;32m<ipython-input-14-e000c3af182e>\u001b[0m in \u001b[0;36mforward_split\u001b[0;34m(self, x, is_begin)\u001b[0m\n\u001b[1;32m     54\u001b[0m             \u001b[0;31m#Convolution\u001b[0m\u001b[0;34m\u001b[0m\u001b[0;34m\u001b[0m\u001b[0m\n\u001b[1;32m     55\u001b[0m             \u001b[0membeds\u001b[0m \u001b[0;34m=\u001b[0m \u001b[0membeds\u001b[0m\u001b[0;34m.\u001b[0m\u001b[0mpermute\u001b[0m\u001b[0;34m(\u001b[0m\u001b[0;34m[\u001b[0m\u001b[0;36m1\u001b[0m\u001b[0;34m,\u001b[0m\u001b[0;36m2\u001b[0m\u001b[0;34m,\u001b[0m\u001b[0;36m0\u001b[0m\u001b[0;34m]\u001b[0m\u001b[0;34m)\u001b[0m\u001b[0;34m\u001b[0m\u001b[0m\n\u001b[0;32m---> 56\u001b[0;31m             \u001b[0membeds\u001b[0m \u001b[0;34m=\u001b[0m \u001b[0mself\u001b[0m\u001b[0;34m.\u001b[0m\u001b[0mconv1\u001b[0m\u001b[0;34m(\u001b[0m\u001b[0membeds\u001b[0m\u001b[0;34m)\u001b[0m\u001b[0;34m\u001b[0m\u001b[0m\n\u001b[0m\u001b[1;32m     57\u001b[0m             \u001b[0membeds\u001b[0m \u001b[0;34m=\u001b[0m \u001b[0membeds\u001b[0m\u001b[0;34m.\u001b[0m\u001b[0mpermute\u001b[0m\u001b[0;34m(\u001b[0m\u001b[0;34m[\u001b[0m\u001b[0;36m2\u001b[0m\u001b[0;34m,\u001b[0m\u001b[0;36m0\u001b[0m\u001b[0;34m,\u001b[0m\u001b[0;36m1\u001b[0m\u001b[0;34m]\u001b[0m\u001b[0;34m)\u001b[0m\u001b[0;34m\u001b[0m\u001b[0m\n\u001b[1;32m     58\u001b[0m \u001b[0;34m\u001b[0m\u001b[0m\n",
      "\u001b[0;32m/opt/anaconda3/lib/python3.7/site-packages/torch/nn/modules/module.py\u001b[0m in \u001b[0;36m__call__\u001b[0;34m(self, *input, **kwargs)\u001b[0m\n\u001b[1;32m    477\u001b[0m             \u001b[0mresult\u001b[0m \u001b[0;34m=\u001b[0m \u001b[0mself\u001b[0m\u001b[0;34m.\u001b[0m\u001b[0m_slow_forward\u001b[0m\u001b[0;34m(\u001b[0m\u001b[0;34m*\u001b[0m\u001b[0minput\u001b[0m\u001b[0;34m,\u001b[0m \u001b[0;34m**\u001b[0m\u001b[0mkwargs\u001b[0m\u001b[0;34m)\u001b[0m\u001b[0;34m\u001b[0m\u001b[0m\n\u001b[1;32m    478\u001b[0m         \u001b[0;32melse\u001b[0m\u001b[0;34m:\u001b[0m\u001b[0;34m\u001b[0m\u001b[0m\n\u001b[0;32m--> 479\u001b[0;31m             \u001b[0mresult\u001b[0m \u001b[0;34m=\u001b[0m \u001b[0mself\u001b[0m\u001b[0;34m.\u001b[0m\u001b[0mforward\u001b[0m\u001b[0;34m(\u001b[0m\u001b[0;34m*\u001b[0m\u001b[0minput\u001b[0m\u001b[0;34m,\u001b[0m \u001b[0;34m**\u001b[0m\u001b[0mkwargs\u001b[0m\u001b[0;34m)\u001b[0m\u001b[0;34m\u001b[0m\u001b[0m\n\u001b[0m\u001b[1;32m    480\u001b[0m         \u001b[0;32mfor\u001b[0m \u001b[0mhook\u001b[0m \u001b[0;32min\u001b[0m \u001b[0mself\u001b[0m\u001b[0;34m.\u001b[0m\u001b[0m_forward_hooks\u001b[0m\u001b[0;34m.\u001b[0m\u001b[0mvalues\u001b[0m\u001b[0;34m(\u001b[0m\u001b[0;34m)\u001b[0m\u001b[0;34m:\u001b[0m\u001b[0;34m\u001b[0m\u001b[0m\n\u001b[1;32m    481\u001b[0m             \u001b[0mhook_result\u001b[0m \u001b[0;34m=\u001b[0m \u001b[0mhook\u001b[0m\u001b[0;34m(\u001b[0m\u001b[0mself\u001b[0m\u001b[0;34m,\u001b[0m \u001b[0minput\u001b[0m\u001b[0;34m,\u001b[0m \u001b[0mresult\u001b[0m\u001b[0;34m)\u001b[0m\u001b[0;34m\u001b[0m\u001b[0m\n",
      "\u001b[0;32m/opt/anaconda3/lib/python3.7/site-packages/torch/nn/modules/conv.py\u001b[0m in \u001b[0;36mforward\u001b[0;34m(self, input)\u001b[0m\n\u001b[1;32m    179\u001b[0m     \u001b[0;32mdef\u001b[0m \u001b[0mforward\u001b[0m\u001b[0;34m(\u001b[0m\u001b[0mself\u001b[0m\u001b[0;34m,\u001b[0m \u001b[0minput\u001b[0m\u001b[0;34m)\u001b[0m\u001b[0;34m:\u001b[0m\u001b[0;34m\u001b[0m\u001b[0m\n\u001b[1;32m    180\u001b[0m         return F.conv1d(input, self.weight, self.bias, self.stride,\n\u001b[0;32m--> 181\u001b[0;31m                         self.padding, self.dilation, self.groups)\n\u001b[0m\u001b[1;32m    182\u001b[0m \u001b[0;34m\u001b[0m\u001b[0m\n\u001b[1;32m    183\u001b[0m \u001b[0;34m\u001b[0m\u001b[0m\n",
      "\u001b[0;31mRuntimeError\u001b[0m: CUDA out of memory. Tried to allocate 20.62 MiB (GPU 0; 11.17 GiB total capacity; 2.10 GiB already allocated; 18.31 MiB free; 342.98 MiB cached)"
     ]
    }
   ],
   "source": [
    "net.eval()\n",
    "val_losses, val_accs, val_lengths = 0, 0, 0\n",
    "predictions = []\n",
    "real_values = []\n",
    "for val_batch in validation_iter:\n",
    "    feed_network = {\"B\":val_batch.sequence_B, \"E\":val_batch.sequence_E}\n",
    "    output = net(feed_network)\n",
    "    predictions += [ LABEL.vocab.itos[int(i)] for i in torch.max(output,1)[1]]\n",
    "    real_values += [LABEL.vocab.itos[int(i)] for i in val_batch.label]\n",
    "    val_losses += criterion(output, val_batch.label)*val_batch.batch_size\n",
    "    print(accuracy(output, val_batch.label) *val_batch.batch_size, val_batch.batch_size)\n",
    "    val_accs += accuracy(output, val_batch.label) *val_batch.batch_size\n",
    "    val_lengths += val_batch.batch_size\n",
    "\n",
    "# divide by the total accumulated batch sizes\n",
    "val_losses /= val_lengths\n",
    "val_accs /= val_lengths\n",
    "valid_loss.append(get_numpy(val_losses))\n",
    "valid_accs.append(get_numpy(val_accs))\n",
    "net.train()"
   ]
  },
  {
   "cell_type": "code",
   "execution_count": 19,
   "metadata": {},
   "outputs": [],
   "source": [
    "from sklearn.metrics import confusion_matrix, classification_report, accuracy_score\n",
    "import itertools"
   ]
  },
  {
   "cell_type": "code",
   "execution_count": 20,
   "metadata": {},
   "outputs": [],
   "source": [
    "\n",
    "\n",
    "def plot_confusion_matrix(cm, classes,\n",
    "                          normalize=False,\n",
    "                          title='Confusion matrix',\n",
    "                          cmap=plt.cm.Blues):\n",
    "    \"\"\"\n",
    "    This function prints and plots the confusion matrix.\n",
    "    Normalization can be applied by setting `normalize=True`.\n",
    "    \"\"\"\n",
    "    if normalize:\n",
    "        cm = cm.astype('float') / cm.sum(axis=1)[:, np.newaxis]\n",
    "        print(\"Normalized confusion matrix\")\n",
    "    else:\n",
    "        print('Confusion matrix, without normalization')\n",
    "\n",
    "    print(cm)\n",
    "\n",
    "    plt.imshow(cm, interpolation='nearest', cmap=cmap)\n",
    "    plt.title(title)\n",
    "    plt.colorbar()\n",
    "    tick_marks = np.arange(len(classes))\n",
    "    plt.xticks(tick_marks, classes, rotation=45)\n",
    "    plt.yticks(tick_marks, classes)\n",
    "\n",
    "    fmt = '.2f' if normalize else 'd'\n",
    "    thresh = cm.max() / 2.\n",
    "    for i, j in itertools.product(range(cm.shape[0]), range(cm.shape[1])):\n",
    "        plt.text(j, i, format(cm[i, j], fmt),\n",
    "                 horizontalalignment=\"center\",\n",
    "                 color=\"white\" if cm[i, j] > thresh else \"black\")\n",
    "\n",
    "    plt.ylabel('True label')\n",
    "    plt.xlabel('Predicted label')\n",
    "    plt.tight_layout()\n",
    "\n"
   ]
  },
  {
   "cell_type": "code",
   "execution_count": 21,
   "metadata": {},
   "outputs": [],
   "source": [
    "#Stupid modification to get order in confusion matrix\n",
    "predictions = [i if i!='1' else '400' for i in predictions]"
   ]
  },
  {
   "cell_type": "code",
   "execution_count": 22,
   "metadata": {},
   "outputs": [],
   "source": [
    "cnf_matrix = confusion_matrix(real_values, predictions)\n",
    "np.set_printoptions(precision=2)"
   ]
  },
  {
   "cell_type": "code",
   "execution_count": 23,
   "metadata": {},
   "outputs": [
    {
     "data": {
      "image/png": "[encoded data removed]",
      "text/plain": [
       "<Figure size 432x288 with 2 Axes>"
      ]
     },
     "metadata": {},
     "output_type": "display_data"
    }
   ],
   "source": [
    "import seaborn as sns; sns.set()\n",
    "ax = plt.axes()\n",
    "\n",
    "sns.heatmap(cnf_matrix,annot=True, cmap= \"GnBu\",fmt=\"d\", xticklabels = [\"Ribosome\", \"Nucleus\", \"Unkown\"], yticklabels = [\"Ribosome\", \"Nucleus\", \"Unkown\"])\n",
    "ax.set_ylabel('True label')\n",
    "ax.set_xlabel('Predicted label')\n",
    "plt.savefig(\"double_lstm_confusion.png\")\n",
    "plt.show()"
   ]
  },
  {
   "cell_type": "code",
   "execution_count": 24,
   "metadata": {},
   "outputs": [
    {
     "name": "stdout",
     "output_type": "stream",
     "text": [
      "By class accuracies :\n",
      "\n",
      "[0.52 0.79  nan]\n",
      "total accuracy :\n",
      "\n",
      "0.971604938271605\n"
     ]
    },
    {
     "name": "stderr",
     "output_type": "stream",
     "text": [
      "/opt/anaconda3/lib/python3.7/site-packages/ipykernel_launcher.py:3: RuntimeWarning: invalid value encountered in true_divide\n",
      "  This is separate from the ipykernel package so we can avoid doing imports until\n"
     ]
    }
   ],
   "source": [
    "\n",
    "cnf_matrix = np.array([[521,465,7],[160,644,16],[0,0,0]])\n",
    "cm = cnf_matrix.astype('float') / cnf_matrix.sum(axis=1)[:, np.newaxis]\n",
    "print(\"By class accuracies :\\n\")\n",
    "print(cm.diagonal())\n",
    "\n",
    "print(\"total accuracy :\\n\")\n",
    "print(accuracy_score(real_values, predictions))"
   ]
  },
  {
   "cell_type": "code",
   "execution_count": null,
   "metadata": {},
   "outputs": [],
   "source": []
  },
  {
   "cell_type": "code",
   "execution_count": null,
   "metadata": {},
   "outputs": [],
   "source": []
  }
 ],
 "metadata": {
  "accelerator": "GPU",
  "colab": {
   "collapsed_sections": [],
   "name": "torchtext_dataloader.ipynb",
   "provenance": [],
   "toc_visible": true,
   "version": "0.3.2"
  },
  "kernelspec": {
   "display_name": "Python 3",
   "language": "python",
   "name": "python3"
  },
  "language_info": {
   "codemirror_mode": {
    "name": "ipython",
    "version": 3
   },
   "file_extension": ".py",
   "mimetype": "text/x-python",
   "name": "python",
   "nbconvert_exporter": "python",
   "pygments_lexer": "ipython3",
   "version": "3.7.0"
  }
 },
 "nbformat": 4,
 "nbformat_minor": 1
}
