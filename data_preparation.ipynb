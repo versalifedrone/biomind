{
 "cells": [
  {
   "cell_type": "code",
   "execution_count": 11,
   "metadata": {},
   "outputs": [],
   "source": [
    "import numpy as np\n",
    "\n",
    "\n",
    "RNA_DICT = {'A': 0, 'T': 1, 'C': 2, 'G': 3, 'N': 4, '-': 6}\n",
    "DATA_DIRECTORY = \"data/\""
   ]
  },
  {
   "cell_type": "code",
   "execution_count": 60,
   "metadata": {},
   "outputs": [],
   "source": [
    "# select file\n",
    "choice = 0\n",
    "data_sets = ['train', 'test', 'val']\n",
    "filename = data_sets[choice] + '.rna.txt'"
   ]
  },
  {
   "cell_type": "code",
   "execution_count": 61,
   "metadata": {},
   "outputs": [],
   "source": [
    "file = open(DATA_DIRECTORY + filename,'r')"
   ]
  },
  {
   "cell_type": "code",
   "execution_count": 62,
   "metadata": {},
   "outputs": [],
   "source": [
    "N_SEQS = 0\n",
    "MAX_LEN = 0\n",
    "seqs_string = []\n",
    "\n",
    "for line in file:\n",
    "    line = line.replace(\" \", \"\").strip().split(\",\")\n",
    "    seqs_string.append(line)\n",
    "    \n",
    "    if len(line[0]) > MAX_LEN:\n",
    "        MAX_LEN = len(line[0])\n",
    "    \n",
    "    N_SEQS += 1"
   ]
  },
  {
   "cell_type": "code",
   "execution_count": 63,
   "metadata": {},
   "outputs": [
    {
     "data": {
      "text/plain": [
       "19333"
      ]
     },
     "execution_count": 63,
     "metadata": {},
     "output_type": "execute_result"
    }
   ],
   "source": [
    "MAX_LEN"
   ]
  },
  {
   "cell_type": "code",
   "execution_count": 64,
   "metadata": {},
   "outputs": [
    {
     "data": {
      "text/plain": [
       "14645"
      ]
     },
     "execution_count": 64,
     "metadata": {},
     "output_type": "execute_result"
    }
   ],
   "source": [
    "N_SEQS"
   ]
  },
  {
   "cell_type": "code",
   "execution_count": 65,
   "metadata": {},
   "outputs": [],
   "source": [
    "def sparse_encode(seq, rna_dict):\n",
    "    \"\"\"For a given nucleotide sequence, return a sequence with each nucleotide encoded as a one hot vector\"\"\"\n",
    "    \n",
    "    enc_seq = np.zeros([len(seq),len(RNA_DICT)])\n",
    "    \n",
    "    for i, nuc in enumerate(seq):\n",
    "        enc_seq[i, rna_dict[nuc]] = 1\n",
    "        \n",
    "    return enc_seq"
   ]
  },
  {
   "cell_type": "code",
   "execution_count": 66,
   "metadata": {},
   "outputs": [],
   "source": [
    "# dtype=uint is very important for converving memory \n",
    "seqs_onehot = np.zeros([N_SEQS, MAX_LEN, len(RNA_DICT)], dtype=np.uint8)\n",
    "\n",
    "for i in range(N_SEQS):\n",
    "    seq = seqs_string[0][0]\n",
    "    length = len(seq)\n",
    "    encoded_seq = sparse_encode(seq, RNA_DICT)\n",
    "    seqs_onehot[i,:length,:] = encoded_seq\n",
    "    seqs_onehot[i,length:,5:6] = 1"
   ]
  },
  {
   "cell_type": "code",
   "execution_count": 37,
   "metadata": {},
   "outputs": [
    {
     "data": {
      "text/plain": [
       "array([0, 0, 1, 0, 0, 0], dtype=uint8)"
      ]
     },
     "execution_count": 37,
     "metadata": {},
     "output_type": "execute_result"
    }
   ],
   "source": [
    "seqs_onehot[0][0]"
   ]
  },
  {
   "cell_type": "code",
   "execution_count": 27,
   "metadata": {},
   "outputs": [],
   "source": [
    "# save arrays to disk if wishes\n",
    "#np.save(DATA_DIRECTORY + \"val.rna.onehot.npy\", seqs_onehot)"
   ]
  },
  {
   "cell_type": "code",
   "execution_count": 28,
   "metadata": {},
   "outputs": [
    {
     "data": {
      "text/plain": [
       "(2088, 16625, 6)"
      ]
     },
     "execution_count": 28,
     "metadata": {},
     "output_type": "execute_result"
    }
   ],
   "source": [
    "seqs_onehot.shape"
   ]
  },
  {
   "cell_type": "code",
   "execution_count": null,
   "metadata": {},
   "outputs": [],
   "source": []
  }
 ],
 "metadata": {
  "kernelspec": {
   "display_name": "Python 3",
   "language": "python",
   "name": "python3"
  },
  "language_info": {
   "codemirror_mode": {
    "name": "ipython",
    "version": 3
   },
   "file_extension": ".py",
   "mimetype": "text/x-python",
   "name": "python",
   "nbconvert_exporter": "python",
   "pygments_lexer": "ipython3",
   "version": "3.7.1rc1"
  }
 },
 "nbformat": 4,
 "nbformat_minor": 1
}
