{
 "cells": [
  {
   "cell_type": "code",
   "execution_count": 32,
   "metadata": {},
   "outputs": [],
   "source": [
    "import numpy as np\n",
    "\n",
    "def sparse_encode(seq, rna_dict):\n",
    "    \"\"\"For a given RNA sequence, return a sequence with each nucleotide encoded as a one hot vector\"\"\"\n",
    "    \n",
    "    enc_seq = np.zeros([len(seq),len(aa_dict)])\n",
    "    \n",
    "    for i, nuc in enumerate(seq):\n",
    "        enc_seq[i, rna_dict[nuc]] = 1\n",
    "        \n",
    "    return enc_seq\n",
    "\n",
    "DATA_DIRECTORY = \"data/\"\n",
    "\n",
    "RNA_DICT = {\"A\": 0, \"T\": 1, \"G\": 2, \"C\": 3, \"N\": 4}"
   ]
  },
  {
   "cell_type": "code",
   "execution_count": 27,
   "metadata": {},
   "outputs": [],
   "source": [
    "val_file = open(DATA_DIRECTORY + \"val.rna.txt\", 'r')"
   ]
  },
  {
   "cell_type": "code",
   "execution_count": 28,
   "metadata": {},
   "outputs": [],
   "source": [
    "N_SEQS = 0\n",
    "MAX_LEN = 0\n",
    "\n",
    "for line in val_file:\n",
    "    line = line.replace(\" \", \"\").strip().split(\",\")\n",
    "    if line != \"\":\n",
    "        N_SEQS += 1\n",
    "    if len(line[0]) > MAX_LEN:\n",
    "        MAX_LEN = len(line[0])"
   ]
  },
  {
   "cell_type": "code",
   "execution_count": 29,
   "metadata": {},
   "outputs": [
    {
     "data": {
      "text/plain": [
       "2088"
      ]
     },
     "execution_count": 29,
     "metadata": {},
     "output_type": "execute_result"
    }
   ],
   "source": [
    "N_SEQS"
   ]
  },
  {
   "cell_type": "code",
   "execution_count": 30,
   "metadata": {},
   "outputs": [
    {
     "data": {
      "text/plain": [
       "16625"
      ]
     },
     "execution_count": 30,
     "metadata": {},
     "output_type": "execute_result"
    }
   ],
   "source": [
    "MAX_LEN"
   ]
  },
  {
   "cell_type": "code",
   "execution_count": null,
   "metadata": {},
   "outputs": [],
   "source": []
  }
 ],
 "metadata": {
  "kernelspec": {
   "display_name": "Python 3",
   "language": "python",
   "name": "python3"
  },
  "language_info": {
   "codemirror_mode": {
    "name": "ipython",
    "version": 3
   },
   "file_extension": ".py",
   "mimetype": "text/x-python",
   "name": "python",
   "nbconvert_exporter": "python",
   "pygments_lexer": "ipython3",
   "version": "3.6.6"
  }
 },
 "nbformat": 4,
 "nbformat_minor": 2
}
