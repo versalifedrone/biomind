{
 "cells": [
  {
   "cell_type": "markdown",
   "metadata": {
    "colab_type": "text",
    "id": "keVHmVHdQdLs"
   },
   "source": [
    "# Imports"
   ]
  },
  {
   "cell_type": "code",
   "execution_count": 1,
   "metadata": {
    "colab": {
     "base_uri": "https://localhost:8080/",
     "height": 315
    },
    "colab_type": "code",
    "executionInfo": {
     "elapsed": 51415,
     "status": "ok",
     "timestamp": 1543839833283,
     "user": {
      "displayName": "Lea Riera",
      "photoUrl": "",
      "userId": "09506228137911101216"
     },
     "user_tz": -60
    },
    "id": "eaH3wIZVBX-y",
    "outputId": "41026238-7e41-44ab-bd7d-27a795de3f26"
   },
   "outputs": [],
   "source": [
    "#sudo env \"PATH=$PATH\" pip install torchtext\n",
    "#sudo apt update && sudo apt upgrade  \n",
    "\n",
    "# wget --no-check-certificate 'https://drive.google.com/uc?export=download&id=1surRtJ9XisxpcM8DmrXYhh2gCSocX8Fs' -O test_filtered.txt\n",
    "\n",
    "# wget --no-check-certificate 'https://drive.google.com/uc?export=download&id=1jkchjUATFXIZsQVux5oilqE1VjyKCaKX' -O train_filtered.txt\n",
    "\n",
    "# wget --no-check-certificate 'https://drive.google.com/uc?export=download&id=1jnQSJraFNxwtqF-kRFYGlwpmHeiTugvG' -O val_filtered.txt\n",
    "\n",
    "\n",
    "# https://docs.aws.amazon.com/fr_fr/AWSEC2/latest/UserGuide/TroubleshootingInstancesConnecting.html\n",
    "# https://docs.aws.amazon.com/fr_fr/dlami/latest/devguide/tutorial-pytorch.html"
   ]
  },
  {
   "cell_type": "code",
   "execution_count": 114,
   "metadata": {
    "colab": {},
    "colab_type": "code",
    "id": "jTciwxFkQdLt"
   },
   "outputs": [],
   "source": [
    "import numpy as np\n",
    "\n",
    "from pprint import pprint\n",
    "from torchtext import data\n",
    "from torchtext import datasets\n",
    "from torchtext.vocab import Vectors, GloVe\n",
    "\n",
    "import torch\n",
    "from torch.autograd import Variable\n",
    "import torch.nn as nn\n",
    "import torch.optim as optim\n",
    "from torch.nn import Linear, RNN, LSTM, GRU, Conv1d\n",
    "from torch.nn.functional import softmax, relu\n",
    "\n",
    "%matplotlib inline\n",
    "import matplotlib\n",
    "import numpy as np\n",
    "import matplotlib.pyplot as plt"
   ]
  },
  {
   "cell_type": "code",
   "execution_count": 3,
   "metadata": {},
   "outputs": [],
   "source": [
    "# torch.backends.cudnn.enabled=False"
   ]
  },
  {
   "cell_type": "code",
   "execution_count": 4,
   "metadata": {
    "colab": {},
    "colab_type": "code",
    "id": "Zs6GLV1NQdLy"
   },
   "outputs": [
    {
     "name": "stdout",
     "output_type": "stream",
     "text": [
      "True\n"
     ]
    }
   ],
   "source": [
    "use_cuda = torch.cuda.is_available()\n",
    "def get_variable(x):\n",
    "    \"\"\" Converts tensors to cuda, if available. \"\"\"\n",
    "    if use_cuda:\n",
    "        return x.cuda()\n",
    "    return x\n",
    "\n",
    "def get_numpy(x):\n",
    "    \"\"\" Get numpy array for both cuda and not. \"\"\"\n",
    "    if use_cuda:\n",
    "        return x.cpu().data.numpy()\n",
    "    return x.data.numpy()\n",
    "\n",
    "print(use_cuda)"
   ]
  },
  {
   "cell_type": "code",
   "execution_count": 336,
   "metadata": {},
   "outputs": [],
   "source": [
    "id_seqs = {str(i):[] for i in range(6)}\n",
    "with open('train_filtered.txt','r') as fIn : \n",
    "    for line in fIn : \n",
    "        line = line.split(',')\n",
    "        id_seqs[line[1].strip()].append(line[0][-1200:])"
   ]
  },
  {
   "cell_type": "code",
   "execution_count": 337,
   "metadata": {},
   "outputs": [
    {
     "name": "stdout",
     "output_type": "stream",
     "text": [
      "3486\n",
      "2874\n"
     ]
    }
   ],
   "source": [
    "print(len(id_seqs['0']))\n",
    "print(len(id_seqs['3']))"
   ]
  },
  {
   "cell_type": "code",
   "execution_count": 298,
   "metadata": {},
   "outputs": [],
   "source": [
    "import random"
   ]
  },
  {
   "cell_type": "code",
   "execution_count": 299,
   "metadata": {},
   "outputs": [],
   "source": [
    "seq_0 = random.sample(id_seqs['0'],200)\n",
    "seq_3 = random.sample(id_seqs['3'],200)"
   ]
  },
  {
   "cell_type": "code",
   "execution_count": 300,
   "metadata": {},
   "outputs": [],
   "source": [
    "with open('train_mini_0and3.txt','w') as fOut : \n",
    "    for seq in seq_0 : \n",
    "        fOut.write(seq + \",\" + \"0\\n\")\n",
    "    for seq in seq_3 : \n",
    "        fOut.write(seq + \",\" + \"3\\n\") "
   ]
  },
  {
   "cell_type": "code",
   "execution_count": 334,
   "metadata": {},
   "outputs": [
    {
     "name": "stdout",
     "output_type": "stream",
     "text": [
      "[2, 3]\n"
     ]
    }
   ],
   "source": [
    "a = [1,2,3]\n",
    "print(a[-2:])"
   ]
  },
  {
   "cell_type": "markdown",
   "metadata": {},
   "source": [
    "## taking only 500 first nucleotids"
   ]
  },
  {
   "cell_type": "code",
   "execution_count": 301,
   "metadata": {},
   "outputs": [],
   "source": [
    "with open('train_filtered.txt','r') as fIn : \n",
    "    with open('train_filtered_reduced.txt','w') as fOut : \n",
    "        for line in fIn : \n",
    "            line = line.split(',')\n",
    "            fOut.write(line[0][:1000] + \",\" + line[1])"
   ]
  },
  {
   "cell_type": "code",
   "execution_count": 302,
   "metadata": {},
   "outputs": [],
   "source": [
    "with open('test_filtered.txt','r') as fIn : \n",
    "    with open('test_filtered_reduced.txt','w') as fOut : \n",
    "        for line in fIn : \n",
    "            line = line.split(',')\n",
    "            fOut.write(line[0][:1000] + \",\" + line[1])"
   ]
  },
  {
   "cell_type": "code",
   "execution_count": 7,
   "metadata": {},
   "outputs": [],
   "source": [
    "with open('val_filtered.txt','r') as fIn : \n",
    "    with open('val_filtered_reduced.txt','w') as fOut : \n",
    "        for line in fIn : \n",
    "            line = line.split(',')\n",
    "            fOut.write(line[0][:1000] + \",\" + line[1])"
   ]
  },
  {
   "cell_type": "code",
   "execution_count": 165,
   "metadata": {},
   "outputs": [],
   "source": [
    "dic = {'0':0, '1':0, '2':0, '3':0, '4':0, '5':0}\n",
    "with open('val_filtered_reduced.txt','r') as fIn : \n",
    "    for line in fIn : \n",
    "        line = line.split(',')\n",
    "        dic[line[1].strip()] +=1 "
   ]
  },
  {
   "cell_type": "code",
   "execution_count": 166,
   "metadata": {},
   "outputs": [
    {
     "data": {
      "text/plain": [
       "{'0': 497, '1': 788, '2': 114, '3': 410, '4': 229, '5': 46}"
      ]
     },
     "execution_count": 166,
     "metadata": {},
     "output_type": "execute_result"
    }
   ],
   "source": [
    "dic"
   ]
  },
  {
   "cell_type": "code",
   "execution_count": 174,
   "metadata": {},
   "outputs": [
    {
     "data": {
      "text/plain": [
       "[0.23848368522072938,\n",
       " 0.3781190019193858,\n",
       " 0.05470249520153551,\n",
       " 0.1967370441458733,\n",
       " 0.10988483685220729,\n",
       " 0.022072936660268713]"
      ]
     },
     "execution_count": 174,
     "metadata": {},
     "output_type": "execute_result"
    }
   ],
   "source": [
    "[i/sum(dic.values()) for i in dic.values()]"
   ]
  },
  {
   "cell_type": "code",
   "execution_count": 85,
   "metadata": {},
   "outputs": [
    {
     "name": "stdout",
     "output_type": "stream",
     "text": [
      "2084 497\n"
     ]
    }
   ],
   "source": [
    "t = 0\n",
    "nb0 = 0\n",
    "for i in validation_set:\n",
    "    t += 1 \n",
    "    if i.label=='0' : \n",
    "        nb0 += 1\n",
    "print(t,nb0)"
   ]
  },
  {
   "cell_type": "code",
   "execution_count": 94,
   "metadata": {},
   "outputs": [
    {
     "name": "stdout",
     "output_type": "stream",
     "text": [
      "2084 788\n"
     ]
    }
   ],
   "source": [
    "t = 0\n",
    "nb0 = 0\n",
    "for i in validation_iter:\n",
    "    t += len(i.label)\n",
    "    nb0 += int(sum(i.label==0))\n",
    "\n",
    "print(t,nb0)"
   ]
  },
  {
   "cell_type": "code",
   "execution_count": 58,
   "metadata": {},
   "outputs": [
    {
     "name": "stdout",
     "output_type": "stream",
     "text": [
      "2099\n",
      "0.24517981676466566\n"
     ]
    }
   ],
   "source": [
    "L = sum([value for value in dic.values()])\n",
    "print(L)\n",
    "print(3586/14626)"
   ]
  },
  {
   "cell_type": "markdown",
   "metadata": {
    "colab_type": "text",
    "id": "rlwv4O-oQdL1"
   },
   "source": [
    "# Torchtext dataloader "
   ]
  },
  {
   "cell_type": "code",
   "execution_count": 338,
   "metadata": {
    "colab": {},
    "colab_type": "code",
    "id": "Tm9u1DvFQdL2"
   },
   "outputs": [],
   "source": [
    "#Initialize the two fields: Sequence and Class\n",
    "SEQ = data.Field(sequential=True,include_lengths=True, unk_token='N')\n",
    "LABEL = data.Field(sequential=False, unk_token='1') # is_target = True ?\n",
    "\n",
    "#Load the data\n",
    "# train_set, validation_set, test_set = data.TabularDataset.splits(path='',\n",
    "#                                                                  train='train_filtered.txt',\n",
    "#                                                                  validation='test_filtered.txt',\n",
    "#                                                                  test='test_filtered.txt', \n",
    "#                                                                  format = 'csv',\n",
    "#                                                                  fields=[('sequence', SEQ), ('label', LABEL)])\n",
    "\n",
    "train_set, validation_set, test_set = data.TabularDataset.splits(path='',\n",
    "                                                                 train='train_mini_0and3.txt',\n",
    "                                                                 validation='train_mini_0and3.txt',\n",
    "                                                                 test='train_mini_0and3.txt', \n",
    "                                                                 format = 'csv',\n",
    "                                                                 fields=[('sequence', SEQ), ('label', LABEL)])"
   ]
  },
  {
   "cell_type": "code",
   "execution_count": 59,
   "metadata": {},
   "outputs": [
    {
     "name": "stdout",
     "output_type": "stream",
     "text": [
      "0\n",
      "0\n",
      "0\n",
      "0\n",
      "0\n",
      "0\n",
      "0\n",
      "0\n",
      "0\n",
      "0\n",
      "0\n",
      "0\n",
      "0\n",
      "0\n",
      "0\n",
      "0\n",
      "0\n",
      "0\n",
      "0\n",
      "0\n",
      "0\n",
      "0\n",
      "0\n",
      "0\n",
      "0\n",
      "0\n",
      "0\n",
      "0\n",
      "0\n",
      "0\n",
      "0\n",
      "0\n",
      "0\n",
      "0\n",
      "0\n",
      "0\n",
      "0\n",
      "0\n",
      "0\n",
      "0\n",
      "0\n",
      "0\n",
      "0\n",
      "0\n",
      "0\n",
      "0\n",
      "0\n",
      "0\n",
      "0\n",
      "0\n",
      "0\n",
      "0\n",
      "0\n",
      "0\n",
      "0\n",
      "0\n",
      "0\n",
      "0\n",
      "0\n",
      "0\n",
      "0\n",
      "0\n",
      "0\n",
      "0\n",
      "0\n",
      "0\n",
      "0\n",
      "0\n",
      "0\n",
      "0\n",
      "0\n",
      "0\n",
      "0\n",
      "0\n",
      "0\n",
      "0\n",
      "0\n",
      "0\n",
      "0\n",
      "0\n",
      "0\n",
      "0\n",
      "0\n",
      "0\n",
      "0\n",
      "0\n",
      "0\n",
      "0\n",
      "0\n",
      "0\n",
      "0\n",
      "0\n",
      "0\n",
      "0\n",
      "0\n",
      "0\n",
      "0\n",
      "0\n",
      "0\n",
      "0\n",
      "0\n",
      "0\n",
      "0\n",
      "0\n",
      "0\n",
      "0\n",
      "0\n",
      "0\n",
      "0\n",
      "0\n",
      "0\n",
      "0\n",
      "0\n",
      "0\n",
      "0\n",
      "0\n",
      "0\n",
      "0\n",
      "0\n",
      "0\n",
      "0\n",
      "0\n",
      "0\n",
      "0\n",
      "0\n",
      "0\n",
      "0\n",
      "0\n",
      "0\n",
      "0\n",
      "0\n",
      "0\n",
      "0\n",
      "0\n",
      "0\n",
      "0\n",
      "0\n",
      "0\n",
      "0\n",
      "0\n",
      "0\n",
      "0\n",
      "0\n",
      "0\n",
      "0\n",
      "0\n",
      "0\n",
      "0\n",
      "0\n",
      "0\n",
      "0\n",
      "0\n",
      "0\n",
      "0\n",
      "0\n",
      "0\n",
      "0\n",
      "0\n",
      "0\n",
      "0\n",
      "0\n",
      "0\n",
      "0\n",
      "0\n",
      "0\n",
      "0\n",
      "0\n",
      "0\n",
      "0\n",
      "0\n",
      "0\n",
      "0\n",
      "0\n",
      "0\n",
      "0\n",
      "0\n",
      "0\n",
      "0\n",
      "0\n",
      "0\n",
      "0\n",
      "0\n",
      "0\n",
      "0\n",
      "0\n",
      "0\n",
      "0\n",
      "0\n",
      "0\n",
      "0\n",
      "0\n",
      "0\n",
      "0\n",
      "0\n",
      "0\n",
      "0\n",
      "0\n",
      "0\n",
      "0\n",
      "0\n",
      "3\n",
      "3\n",
      "3\n",
      "3\n",
      "3\n",
      "3\n",
      "3\n",
      "3\n",
      "3\n",
      "3\n",
      "3\n",
      "3\n",
      "3\n",
      "3\n",
      "3\n",
      "3\n",
      "3\n",
      "3\n",
      "3\n",
      "3\n",
      "3\n",
      "3\n",
      "3\n",
      "3\n",
      "3\n",
      "3\n",
      "3\n",
      "3\n",
      "3\n",
      "3\n",
      "3\n",
      "3\n",
      "3\n",
      "3\n",
      "3\n",
      "3\n",
      "3\n",
      "3\n",
      "3\n",
      "3\n",
      "3\n",
      "3\n",
      "3\n",
      "3\n",
      "3\n",
      "3\n",
      "3\n",
      "3\n",
      "3\n",
      "3\n",
      "3\n",
      "3\n",
      "3\n",
      "3\n",
      "3\n",
      "3\n",
      "3\n",
      "3\n",
      "3\n",
      "3\n",
      "3\n",
      "3\n",
      "3\n",
      "3\n",
      "3\n",
      "3\n",
      "3\n",
      "3\n",
      "3\n",
      "3\n",
      "3\n",
      "3\n",
      "3\n",
      "3\n",
      "3\n",
      "3\n",
      "3\n",
      "3\n",
      "3\n",
      "3\n",
      "3\n",
      "3\n",
      "3\n",
      "3\n",
      "3\n",
      "3\n",
      "3\n",
      "3\n",
      "3\n",
      "3\n",
      "3\n",
      "3\n",
      "3\n",
      "3\n",
      "3\n",
      "3\n",
      "3\n",
      "3\n",
      "3\n",
      "3\n",
      "3\n",
      "3\n",
      "3\n",
      "3\n",
      "3\n",
      "3\n",
      "3\n",
      "3\n",
      "3\n",
      "3\n",
      "3\n",
      "3\n",
      "3\n",
      "3\n",
      "3\n",
      "3\n",
      "3\n",
      "3\n",
      "3\n",
      "3\n",
      "3\n",
      "3\n",
      "3\n",
      "3\n",
      "3\n",
      "3\n",
      "3\n",
      "3\n",
      "3\n",
      "3\n",
      "3\n",
      "3\n",
      "3\n",
      "3\n",
      "3\n",
      "3\n",
      "3\n",
      "3\n",
      "3\n",
      "3\n",
      "3\n",
      "3\n",
      "3\n",
      "3\n",
      "3\n",
      "3\n",
      "3\n",
      "3\n",
      "3\n",
      "3\n",
      "3\n",
      "3\n",
      "3\n",
      "3\n",
      "3\n",
      "3\n",
      "3\n",
      "3\n",
      "3\n",
      "3\n",
      "3\n",
      "3\n",
      "3\n",
      "3\n",
      "3\n",
      "3\n",
      "3\n",
      "3\n",
      "3\n",
      "3\n",
      "3\n",
      "3\n",
      "3\n",
      "3\n",
      "3\n",
      "3\n",
      "3\n",
      "3\n",
      "3\n",
      "3\n",
      "3\n",
      "3\n",
      "3\n",
      "3\n",
      "3\n",
      "3\n",
      "3\n",
      "3\n",
      "3\n",
      "3\n",
      "3\n",
      "3\n",
      "3\n",
      "3\n",
      "3\n",
      "3\n",
      "3\n",
      "3\n",
      "3\n",
      "3\n"
     ]
    }
   ],
   "source": [
    "for i in train_set : \n",
    "    print(i.label)"
   ]
  },
  {
   "cell_type": "code",
   "execution_count": 291,
   "metadata": {
    "colab": {
     "base_uri": "https://localhost:8080/",
     "height": 355
    },
    "colab_type": "code",
    "executionInfo": {
     "elapsed": 6231,
     "status": "ok",
     "timestamp": 1543681846756,
     "user": {
      "displayName": "Lea Riera",
      "photoUrl": "",
      "userId": "09506228137911101216"
     },
     "user_tz": -60
    },
    "id": "yy8up8L-QdL6",
    "outputId": "06cb7283-ec3c-4f8c-dce1-5d793aad83da"
   },
   "outputs": [
    {
     "data": {
      "text/plain": [
       "(array([  1.,   0.,   0.,   0.,   0.,   0.,   1.,   0.,   2., 396.]),\n",
       " array([247. , 282.3, 317.6, 352.9, 388.2, 423.5, 458.8, 494.1, 529.4,\n",
       "        564.7, 600. ]),\n",
       " <a list of 10 Patch objects>)"
      ]
     },
     "execution_count": 291,
     "metadata": {},
     "output_type": "execute_result"
    },
    {
     "data": {
      "image/png": "[encoded data removed]",
      "text/plain": [
       "<Figure size 432x288 with 1 Axes>"
      ]
     },
     "metadata": {},
     "output_type": "display_data"
    }
   ],
   "source": [
    "L = [len(train_set[i].sequence) for i in range(len(train_set))]\n",
    "plt.hist(L)\n"
   ]
  },
  {
   "cell_type": "code",
   "execution_count": 10,
   "metadata": {
    "colab": {
     "base_uri": "https://localhost:8080/",
     "height": 199
    },
    "colab_type": "code",
    "executionInfo": {
     "elapsed": 6224,
     "status": "ok",
     "timestamp": 1543681846758,
     "user": {
      "displayName": "Lea Riera",
      "photoUrl": "",
      "userId": "09506228137911101216"
     },
     "user_tz": -60
    },
    "id": "f5Pn8cI6QdL_",
    "outputId": "00c55434-0572-47cc-8923-ddf28d43f994"
   },
   "outputs": [
    {
     "name": "stdout",
     "output_type": "stream",
     "text": [
      "train_set.fields: ['sequence', 'label']\n",
      "validation_set.fields: ['sequence', 'label']\n",
      "test_set.fields: ['sequence', 'label']\n",
      "\n",
      "size of training set 14611\n",
      "size of validation set 2084\n",
      "\n",
      "content of first training sample:\n",
      "{'sequence': ['T', 'G', 'G', 'G', 'C', 'T', 'C', 'C', 'C', 'G', 'C', 'C', 'T', 'C', 'A', 'G', 'T', 'G', 'C', 'G', 'C', 'A', 'T', 'G', 'T', 'T', 'C', 'A', 'C', 'T', 'G', 'G', 'G', 'C', 'G', 'T', 'C', 'T', 'T', 'C', 'T', 'G', 'C', 'C', 'C', 'G', 'G', 'C', 'C', 'C', 'C', 'T', 'T', 'C', 'G', 'C', 'C', 'C', 'A', 'C', 'G', 'T', 'G', 'A', 'A', 'G', 'A', 'A', 'C', 'G', 'C', 'C', 'A', 'G', 'G', 'G', 'A', 'G', 'C', 'T', 'G', 'T', 'G', 'A', 'G', 'G', 'C', 'A', 'G', 'T', 'G', 'C', 'T', 'G', 'T', 'G', 'T', 'G', 'G', 'T', 'T', 'C', 'C', 'T', 'G', 'C', 'C', 'G', 'T', 'C', 'C', 'G', 'G', 'A', 'C', 'T', 'C', 'T', 'T', 'T', 'T', 'T', 'C', 'C', 'T', 'C', 'T', 'A', 'C', 'T', 'G', 'A', 'G', 'A', 'T', 'T', 'C', 'A', 'T', 'C', 'T', 'G', 'T', 'G', 'T', 'G', 'A', 'A', 'A', 'T', 'A', 'T', 'G', 'A', 'G', 'T', 'T', 'G', 'G', 'C', 'G', 'A', 'G', 'G', 'A', 'A', 'G', 'A', 'T', 'C', 'G', 'A', 'C', 'C', 'T', 'A', 'T', 'T', 'A', 'T', 'T', 'G', 'G', 'C', 'C', 'T', 'A', 'G', 'A', 'C', 'C', 'A', 'A', 'G', 'G', 'C', 'G', 'C', 'T', 'A', 'T', 'G', 'T', 'A', 'C', 'A', 'G', 'C', 'C', 'T', 'C', 'C', 'T', 'G', 'A', 'A', 'A', 'T', 'G', 'A', 'T', 'T', 'G', 'G', 'G', 'C', 'C', 'T', 'A', 'T', 'G', 'C', 'G', 'G', 'C', 'C', 'C', 'G', 'A', 'G', 'C', 'A', 'G', 'T', 'T', 'C', 'A', 'G', 'T', 'G', 'A', 'T', 'G', 'A', 'A', 'G', 'T', 'G', 'G', 'A', 'A', 'C', 'C', 'A', 'G', 'C', 'A', 'A', 'C', 'A', 'C', 'C', 'T', 'G', 'A', 'A', 'G', 'A', 'A', 'G', 'G', 'G', 'G', 'A', 'A', 'C', 'C', 'A', 'G', 'C', 'A', 'A', 'C', 'T', 'C', 'A', 'A', 'C', 'G', 'T', 'C', 'A', 'G', 'G', 'A', 'T', 'C', 'C', 'T', 'G', 'C', 'A', 'G', 'C', 'T', 'G', 'C', 'T', 'C', 'A', 'G', 'G', 'A', 'G', 'G', 'G', 'A', 'G', 'A', 'G', 'G', 'A', 'T', 'G', 'A', 'G', 'G', 'G', 'A', 'G', 'C', 'A', 'T', 'C', 'T', 'G', 'C', 'A', 'G', 'G', 'T', 'C', 'A', 'A', 'G', 'G', 'G', 'C', 'C', 'G', 'A', 'A', 'G', 'C', 'C', 'T', 'G', 'A', 'A', 'G', 'C', 'T', 'C', 'A', 'T', 'A', 'G', 'C', 'C', 'A', 'G', 'G', 'A', 'A', 'C', 'A', 'G', 'G', 'G', 'T', 'C', 'A', 'C', 'C', 'C', 'A', 'C', 'A', 'G', 'A', 'C', 'T', 'G', 'G', 'G', 'T', 'G', 'T', 'G', 'A', 'G', 'T', 'G', 'T', 'G', 'A', 'A', 'G', 'A', 'T', 'G', 'G', 'T', 'C', 'C', 'T', 'G', 'A', 'T', 'G', 'G', 'G', 'C', 'A', 'G', 'G', 'A', 'G', 'A', 'T', 'G', 'G', 'A', 'C', 'C', 'C', 'G', 'C', 'C', 'A', 'A', 'A', 'T', 'C', 'C', 'A', 'G', 'A', 'G', 'G', 'A', 'G', 'G', 'T', 'G', 'A', 'A', 'A', 'A', 'C', 'G', 'C', 'C', 'T', 'G', 'A', 'A', 'G', 'A', 'A', 'G', 'G', 'T', 'G', 'A', 'A', 'A', 'A', 'G', 'C', 'A', 'A', 'T', 'C', 'A', 'C', 'A', 'G', 'T', 'G'], 'label': '3'}\n"
     ]
    }
   ],
   "source": [
    "print('train_set.fields:', list(train_set.fields.keys()))\n",
    "print('validation_set.fields:', list(validation_set.fields.keys()))\n",
    "print('test_set.fields:', list(test_set.fields.keys()))\n",
    "print()\n",
    "print('size of training set', len(train_set))\n",
    "print('size of validation set', len(validation_set))\n",
    "print()\n",
    "print('content of first training sample:')\n",
    "print(vars(train_set[0]))"
   ]
  },
  {
   "cell_type": "code",
   "execution_count": 339,
   "metadata": {
    "colab": {},
    "colab_type": "code",
    "id": "FX65bqRlQdMD"
   },
   "outputs": [],
   "source": [
    "# build the vocabularies\n",
    "SEQ.build_vocab(train_set) #NO unknows \n",
    "LABEL.build_vocab(train_set)"
   ]
  },
  {
   "cell_type": "code",
   "execution_count": 305,
   "metadata": {
    "colab": {
     "base_uri": "https://localhost:8080/",
     "height": 217
    },
    "colab_type": "code",
    "executionInfo": {
     "elapsed": 10161,
     "status": "ok",
     "timestamp": 1543681850711,
     "user": {
      "displayName": "Lea Riera",
      "photoUrl": "",
      "userId": "09506228137911101216"
     },
     "user_tz": -60
    },
    "id": "RUdIeFdjQdMG",
    "outputId": "f153fcce-be59-4e5f-c88b-f0b3088ea40b",
    "scrolled": true
   },
   "outputs": [
    {
     "name": "stdout",
     "output_type": "stream",
     "text": [
      "Text fields:\n",
      " size of vocabulary: 6\n",
      " no. times the \"N\" appear in the dataset: 0\n",
      " list of vocabulary (int-to-str): ['N', '<pad>', 'G', 'C', 'A', 'T']\n",
      " list of vocabulary (str-to-int): {'N': 0, '<pad>': 1, 'G': 2, 'C': 3, 'A': 4, 'T': 5}\n",
      "Counter({'G': 68753, 'C': 65022, 'A': 55174, 'T': 50212})\n",
      "\n",
      "Label fields:\n",
      " list of vocabulary (int-to-str): ['1', '0', '3']\n",
      " list of vocabulary (str-to-int): {'1': 0, '0': 1, '3': 2}\n",
      "Counter({'0': 200, '3': 200})\n"
     ]
    }
   ],
   "source": [
    "print('Text fields:')\n",
    "print(' size of vocabulary:', len(SEQ.vocab))\n",
    "# print(\" vocabulary's embedding dimension:\", SEQ.vocab.vectors.size())\n",
    "print(' no. times the \"N\" appear in the dataset:', SEQ.vocab.freqs['N'])\n",
    "print(\" list of vocabulary (int-to-str):\", SEQ.vocab.itos)\n",
    "print(\" list of vocabulary (str-to-int):\", dict(SEQ.vocab.stoi))\n",
    "print(SEQ.vocab.freqs)\n",
    "print('\\nLabel fields:')\n",
    "#print('keys of LABEL.vocab:', list(LABEL.vocab.__dict__.keys()))\n",
    "print(\" list of vocabulary (int-to-str):\", LABEL.vocab.itos)\n",
    "print(\" list of vocabulary (str-to-int):\", dict(LABEL.vocab.stoi))\n",
    "print(LABEL.vocab.freqs)"
   ]
  },
  {
   "cell_type": "code",
   "execution_count": 284,
   "metadata": {},
   "outputs": [
    {
     "name": "stdout",
     "output_type": "stream",
     "text": [
      "tensor([0.0000, 0.0000, 0.0000, 0.9525, 0.9882, 0.9981], device='cuda:0')\n"
     ]
    }
   ],
   "source": [
    "\n",
    "weight = [i/sum(dic.values()) for i in dic.values()]\n",
    "weight_square = [i**2 for i in weight]\n",
    "weight_square = torch.FloatTensor(weight_square).cuda()\n",
    "weight_square = 1 - weight_square/sum(weight_square)\n",
    "\n",
    "\n",
    "final_weights = torch.FloatTensor([weight_square[int(i)] for i in LABEL.vocab.itos]).cuda()\n",
    "print(final_weights)"
   ]
  },
  {
   "cell_type": "code",
   "execution_count": 285,
   "metadata": {},
   "outputs": [
    {
     "data": {
      "text/plain": [
       "[0.23848368522072938,\n",
       " 0.3781190019193858,\n",
       " 0.05470249520153551,\n",
       " 0.1967370441458733,\n",
       " 0.10988483685220729,\n",
       " 0.022072936660268713]"
      ]
     },
     "execution_count": 285,
     "metadata": {},
     "output_type": "execute_result"
    }
   ],
   "source": [
    "[i/sum(dic.values()) for i in dic.values()]"
   ]
  },
  {
   "cell_type": "code",
   "execution_count": null,
   "metadata": {
    "colab": {
     "base_uri": "https://localhost:8080/",
     "height": 55
    },
    "colab_type": "code",
    "executionInfo": {
     "elapsed": 10156,
     "status": "ok",
     "timestamp": 1543681850715,
     "user": {
      "displayName": "Lea Riera",
      "photoUrl": "",
      "userId": "09506228137911101216"
     },
     "user_tz": -60
    },
    "id": "u6ov9dllQdML",
    "outputId": "b10d08f6-de2f-4adc-9272-241c247d92c3"
   },
   "outputs": [],
   "source": []
  },
  {
   "cell_type": "code",
   "execution_count": 340,
   "metadata": {
    "colab": {},
    "colab_type": "code",
    "id": "ek4Eo9DUQdMP"
   },
   "outputs": [],
   "source": [
    "# make iterator for splits\n",
    "# train_iter, val_iter = data.BucketIterator.splits((train_set, validation_set),\n",
    "#                                                      batch_size=128, \n",
    "#                                                      device=0 if use_cuda else -1,\n",
    "#                                                      sort_key=lambda x: len(x.sequence), #Sorting within the batch\n",
    "#                                                      sort_within_batch=False,\n",
    "#                                                      repeat=False)\n",
    "\n",
    "BATCH_SIZE = 20\n",
    "\n",
    "train_iter = data.BucketIterator(train_set,\n",
    "                                 batch_size=BATCH_SIZE, \n",
    "                                 device=torch.device(\"cuda:0\" if use_cuda else \"cpu\"),\n",
    "                                 sort_key=lambda x: len(x.sequence), #Sorting within the batch\n",
    "                                 sort = True,\n",
    "                                 repeat = False\n",
    "                                )\n",
    "\n",
    "validation_iter = data.BucketIterator(validation_set,\n",
    "                                 batch_size=BATCH_SIZE, \n",
    "                                 device=torch.device(\"cuda:0\" if use_cuda else \"cpu\"),\n",
    "                                 sort_key=lambda x: len(x.sequence), #Sorting within the batch\n",
    "                                sort = True,\n",
    "                                repeat = False\n",
    "                                )\n"
   ]
  },
  {
   "cell_type": "code",
   "execution_count": 73,
   "metadata": {},
   "outputs": [
    {
     "name": "stdout",
     "output_type": "stream",
     "text": [
      "tensor([1, 1, 1, 1, 1, 1, 1, 1, 1, 1, 1, 1, 1, 1, 1, 1, 1, 1, 2, 2], device='cuda:0')\n",
      "tensor([1, 1, 1, 1, 1, 1, 1, 1, 1, 1, 1, 1, 1, 1, 1, 1, 1, 1, 1, 1], device='cuda:0')\n",
      "tensor([1, 1, 1, 1, 1, 1, 1, 1, 1, 1, 1, 1, 1, 1, 1, 1, 1, 1, 1, 1], device='cuda:0')\n",
      "tensor([1, 1, 1, 1, 1, 1, 1, 1, 1, 1, 1, 1, 1, 1, 1, 1, 1, 1, 1, 1], device='cuda:0')\n",
      "tensor([1, 1, 1, 1, 1, 1, 1, 1, 1, 1, 1, 1, 1, 1, 1, 1, 1, 1, 1, 1], device='cuda:0')\n",
      "tensor([1, 1, 1, 1, 1, 1, 1, 1, 1, 1, 1, 1, 1, 1, 1, 1, 1, 1, 1, 1], device='cuda:0')\n",
      "tensor([1, 1, 1, 1, 1, 1, 1, 1, 1, 1, 1, 1, 1, 1, 1, 1, 1, 1, 1, 1], device='cuda:0')\n",
      "tensor([1, 1, 1, 1, 1, 1, 1, 1, 1, 1, 1, 1, 1, 1, 1, 1, 1, 1, 1, 1], device='cuda:0')\n",
      "tensor([1, 1, 1, 1, 1, 1, 1, 1, 1, 1, 1, 1, 1, 1, 1, 1, 1, 1, 1, 1], device='cuda:0')\n",
      "tensor([1, 1, 1, 1, 1, 1, 1, 1, 1, 1, 1, 1, 1, 1, 1, 1, 1, 1, 1, 1], device='cuda:0')\n",
      "tensor([2, 2, 2, 2, 2, 2, 2, 2, 2, 2, 2, 2, 2, 2, 2, 2, 2, 2, 1, 1], device='cuda:0')\n",
      "tensor([2, 2, 2, 2, 2, 2, 2, 2, 2, 2, 2, 2, 2, 2, 2, 2, 2, 2, 2, 2], device='cuda:0')\n",
      "tensor([2, 2, 2, 2, 2, 2, 2, 2, 2, 2, 2, 2, 2, 2, 2, 2, 2, 2, 2, 2], device='cuda:0')\n",
      "tensor([2, 2, 2, 2, 2, 2, 2, 2, 2, 2, 2, 2, 2, 2, 2, 2, 2, 2, 2, 2], device='cuda:0')\n",
      "tensor([2, 2, 2, 2, 2, 2, 2, 2, 2, 2, 2, 2, 2, 2, 2, 2, 2, 2, 2, 2], device='cuda:0')\n",
      "tensor([2, 2, 2, 2, 2, 2, 2, 2, 2, 2, 2, 2, 2, 2, 2, 2, 2, 2, 2, 2], device='cuda:0')\n",
      "tensor([2, 2, 2, 2, 2, 2, 2, 2, 2, 2, 2, 2, 2, 2, 2, 2, 2, 2, 2, 2], device='cuda:0')\n",
      "tensor([2, 2, 2, 2, 2, 2, 2, 2, 2, 2, 2, 2, 2, 2, 2, 2, 2, 2, 2, 2], device='cuda:0')\n",
      "tensor([2, 2, 2, 2, 2, 2, 2, 2, 2, 2, 2, 2, 2, 2, 2, 2, 2, 2, 2, 2], device='cuda:0')\n",
      "tensor([2, 2, 2, 2, 2, 2, 2, 2, 2, 2, 2, 2, 2, 2, 2, 2, 2, 2, 2, 2], device='cuda:0')\n"
     ]
    }
   ],
   "source": [
    "for i in train_iter : \n",
    "    print(i.label)"
   ]
  },
  {
   "cell_type": "code",
   "execution_count": 341,
   "metadata": {
    "colab": {
     "base_uri": "https://localhost:8080/",
     "height": 121
    },
    "colab_type": "code",
    "executionInfo": {
     "elapsed": 4457,
     "status": "ok",
     "timestamp": 1543840045364,
     "user": {
      "displayName": "Lea Riera",
      "photoUrl": "",
      "userId": "09506228137911101216"
     },
     "user_tz": -60
    },
    "id": "gqMzFHkbQdM1",
    "outputId": "d3f9d070-a4cd-4f11-b538-e82d55702537"
   },
   "outputs": [
    {
     "name": "stdout",
     "output_type": "stream",
     "text": [
      "600\n",
      "using cuda\n",
      "Net(\n",
      "  (embeddings): Embedding(6, 100)\n",
      "  (conv1): Conv1d(100, 100, kernel_size=(3,), stride=(3,))\n",
      "  (lstm): LSTM(100, 111)\n",
      "  (hidden2tag): Linear(in_features=111, out_features=3, bias=False)\n",
      ")\n"
     ]
    }
   ],
   "source": [
    "# size of embeddings\n",
    "EMBEDDING_DIM = 100\n",
    "NUM_EMBEDDING = len(SEQ.vocab) #size of vocab \n",
    "NUM_CLASSES = len(LABEL.vocab.itos)\n",
    "HIDDEN_DIM = 111\n",
    "NUM_LAYERS_LSTM = 1\n",
    "SEQ_LEN = len(train_set[0].sequence)\n",
    "print(SEQ_LEN)\n",
    "\n",
    "\n",
    "\n",
    "class Net(nn.Module):\n",
    "    def __init__(self):\n",
    "        super(Net, self).__init__()\n",
    "        \n",
    "        self.hidden_dim = HIDDEN_DIM\n",
    "        \n",
    "        #learn a new embedding\n",
    "        self.embeddings = nn.Embedding(NUM_EMBEDDING, EMBEDDING_DIM)\n",
    "\n",
    "        # use pretrained embeddings\n",
    "        \n",
    "        self.conv1 = Conv1d(in_channels= EMBEDDING_DIM,\n",
    "                            out_channels= EMBEDDING_DIM ,\n",
    "                            kernel_size=3,\n",
    "                            stride=3)\n",
    "        \n",
    "        self.lstm = LSTM(input_size=EMBEDDING_DIM,\n",
    "                         hidden_size=HIDDEN_DIM,\n",
    "                         num_layers=NUM_LAYERS_LSTM,\n",
    "                         bidirectional=False)\n",
    "        \n",
    "        # link hidden to tag \n",
    "        self.hidden2tag = Linear(in_features=HIDDEN_DIM,\n",
    "                            out_features=NUM_CLASSES,\n",
    "                            bias=False)\n",
    "        \n",
    "        \n",
    "        #init lstm hidden units \n",
    "        self.hidden = self.init_hidden(BATCH_SIZE)\n",
    "        \n",
    "    def forward(self, x):\n",
    "        sequences = x[0]\n",
    "        lengths = x[1]\n",
    "#         out = {}\n",
    "        batch_size = sequences.size()[1]\n",
    "        # get embeddings\n",
    "        embeds = self.embeddings(sequences)\n",
    "        \n",
    "        embeds = embeds.permute([1,2,0])\n",
    "        embeds = self.conv1(embeds)\n",
    "        embeds = embeds.permute([2,0,1])\n",
    "        \n",
    "        embeds = nn.utils.rnn.pack_padded_sequence(embeds,lengths/3, batch_first=False)\n",
    "        # rnn returns output and last hidden state\n",
    "        lstm_out, self.hidden = self.lstm(embeds)\n",
    "        unpacked, unpacked_len = torch.nn.utils.rnn.pad_packed_sequence(lstm_out, batch_first=False)\n",
    "        last_output = unpacked[-1].type(torch.float)\n",
    "        \n",
    "        \n",
    "        tag_space = self.hidden2tag(last_output)\n",
    "        tag_scores = softmax(tag_space)\n",
    "        return tag_scores\n",
    "    \n",
    "    \n",
    "    def init_hidden(self, batch_size):\n",
    "        # Before we've done anything, we dont have any hidden state.\n",
    "        # Refer to the Pytorch documentation to see exactly\n",
    "        # why they have this dimensionality.\n",
    "        # The axes semantics are (num_layers, minibatch_size, hidden_dim)\n",
    "        return (torch.zeros(NUM_LAYERS_LSTM, BATCH_SIZE, self.hidden_dim),\n",
    "                torch.zeros(NUM_LAYERS_LSTM, BATCH_SIZE, self.hidden_dim))\n",
    "\n",
    "net = Net()\n",
    "if use_cuda:\n",
    "    net.cuda()\n",
    "    print(\"using cuda\")\n",
    "print(net)"
   ]
  },
  {
   "cell_type": "code",
   "execution_count": 344,
   "metadata": {
    "colab": {
     "base_uri": "https://localhost:8080/",
     "height": 121
    },
    "colab_type": "code",
    "executionInfo": {
     "elapsed": 1302,
     "status": "ok",
     "timestamp": 1543840050477,
     "user": {
      "displayName": "Lea Riera",
      "photoUrl": "",
      "userId": "09506228137911101216"
     },
     "user_tz": -60
    },
    "id": "wZwbtsNYQdM5",
    "outputId": "6a30afc3-9cb1-4fe8-b909-f5b917f3439c"
   },
   "outputs": [
    {
     "data": {
      "text/plain": [
       "{'embeddings.weight': True,\n",
       " 'conv1.weight': True,\n",
       " 'conv1.bias': True,\n",
       " 'lstm.weight_ih_l0': True,\n",
       " 'lstm.weight_hh_l0': True,\n",
       " 'lstm.bias_ih_l0': True,\n",
       " 'lstm.bias_hh_l0': True,\n",
       " 'hidden2tag.weight': True}"
      ]
     },
     "execution_count": 344,
     "metadata": {},
     "output_type": "execute_result"
    }
   ],
   "source": [
    "# check which params require grad\n",
    "{p[0]: p[1].requires_grad for p in net.named_parameters()}"
   ]
  },
  {
   "cell_type": "code",
   "execution_count": 345,
   "metadata": {
    "colab": {},
    "colab_type": "code",
    "id": "GoEQYT0TQdM9"
   },
   "outputs": [],
   "source": [
    "criterion = nn.CrossEntropyLoss() #weight = final_weights\n",
    "# we filter the model's parameters such that we can remove the embedding layer, \n",
    "# which does not have requires_grad\n",
    "optimizer = optim.SGD(filter(lambda p: p.requires_grad, net.parameters()), lr=0.1)\n",
    "\n",
    "def accuracy(ys, ts):\n",
    "    # making a one-hot encoded vector of correct (1) and incorrect (0) predictions\n",
    "    correct_prediction = torch.eq(torch.max(ys, 1)[1], ts)\n",
    "#     print(torch.max(ys, 1)[1], ts)\n",
    "#     print(correct_prediction)\n",
    "    # averaging the one-hot encoded vector\n",
    "    return torch.mean(correct_prediction.float())\n",
    "\n",
    "def construct_sentences(batch):\n",
    "    return [\" \".join([SEQ.vocab.itos[elm] \n",
    "                      for elm in get_numpy(batch.sequence[:,i])])\n",
    "            for i in range(batch.sequence.size()[1])]\n",
    "\n",
    "def get_labels(batch):\n",
    "    return [LABEL.vocab.itos[get_numpy(batch.label[i])] for i in range(len(batch.label))]"
   ]
  },
  {
   "cell_type": "code",
   "execution_count": 350,
   "metadata": {
    "colab": {
     "base_uri": "https://localhost:8080/",
     "height": 2011
    },
    "colab_type": "code",
    "executionInfo": {
     "elapsed": 774,
     "status": "error",
     "timestamp": 1543840061078,
     "user": {
      "displayName": "Lea Riera",
      "photoUrl": "",
      "userId": "09506228137911101216"
     },
     "user_tz": -60
    },
    "id": "7LxsaAH3QdNC",
    "outputId": "a9f861ee-5c40-44ec-ea54-da5eb846c414"
   },
   "outputs": [
    {
     "name": "stdout",
     "output_type": "stream",
     "text": [
      "[0]\n"
     ]
    },
    {
     "name": "stderr",
     "output_type": "stream",
     "text": [
      "/home/ubuntu/anaconda3/envs/pytorch_p36/lib/python3.6/site-packages/ipykernel_launcher.py:62: UserWarning: Implicit dimension choice for softmax has been deprecated. Change the call to include dim=X as an argument.\n"
     ]
    },
    {
     "name": "stdout",
     "output_type": "stream",
     "text": [
      "[1]=\n",
      "[2]==\n",
      "[3]===\n",
      "[4]====\n",
      "[5]=====\n",
      "[6]======\n",
      "[7]=======\n",
      "[8]========\n",
      "[9]=========\n",
      "[10]==========\n",
      "[11]===========\n",
      "[12]============\n",
      "[13]=============\n",
      "[14]==============\n",
      "[15]===============\n",
      "[16]================\n",
      "[17]=================\n",
      "[18]==================\n",
      "[19]===================\n",
      "[20]====================\n",
      "[21]=====================\n",
      "[22]======================\n",
      "[23]=======================\n",
      "[24]========================\n",
      "[25]=========================\n",
      "[26]==========================\n",
      "[27]===========================\n",
      "[28]============================\n",
      "[29]=============================\n",
      "[30]==============================\n",
      "[31]===============================\n",
      "[32]================================\n",
      "[33]=================================\n",
      "[34]==================================\n",
      "[35]===================================\n",
      "[36]====================================\n",
      "[37]=====================================\n",
      "[38]======================================\n",
      "[39]=======================================\n",
      "[40]========================================\n",
      "[41]=========================================\n",
      "[42]==========================================\n",
      "[43]===========================================\n",
      "[44]============================================\n",
      "[45]=============================================\n",
      "[46]==============================================\n",
      "[47]===============================================\n",
      "[48]================================================\n",
      "[49]=================================================\n",
      "[50]==================================================\n",
      "[51]===================================================\n",
      "[52]====================================================\n",
      "[53]=====================================================\n",
      "[54]======================================================\n",
      "[55]=======================================================\n",
      "[56]========================================================\n",
      "[57]=========================================================\n",
      "[58]==========================================================\n",
      "[59]===========================================================\n",
      "[60]============================================================\n",
      "[61]=============================================================\n",
      "[62]==============================================================\n",
      "[63]===============================================================\n",
      "[64]================================================================\n",
      "[65]=================================================================\n",
      "[66]==================================================================\n",
      "[67]===================================================================\n",
      "[68]====================================================================\n",
      "[69]=====================================================================\n",
      "[70]======================================================================\n",
      "[71]=======================================================================\n",
      "[72]========================================================================\n",
      "[73]=========================================================================\n",
      "[74]==========================================================================\n",
      "[75]===========================================================================\n",
      "[76]============================================================================\n",
      "[77]=============================================================================\n",
      "[78]==============================================================================\n",
      "[79]===============================================================================\n",
      "[80]================================================================================\n",
      "[81]=================================================================================\n",
      "[82]==================================================================================\n",
      "[83]===================================================================================\n",
      "[84]====================================================================================\n",
      "[85]=====================================================================================\n",
      "[86]======================================================================================\n",
      "[87]=======================================================================================\n",
      "[88]========================================================================================\n",
      "[89]=========================================================================================\n",
      "[90]==========================================================================================\n",
      "[91]===========================================================================================\n",
      "[92]============================================================================================\n",
      "[93]=============================================================================================\n",
      "[94]==============================================================================================\n",
      "[95]===============================================================================================\n",
      "[96]================================================================================================\n",
      "[97]=================================================================================================\n",
      "[98]==================================================================================================\n",
      "[99]===================================================================================================\n"
     ]
    }
   ],
   "source": [
    "num_epoch = 100\n",
    "iter_by_epoch = int(len(train_set)/BATCH_SIZE)\n",
    "eval_every = 5\n",
    "train_loss, train_accs = [], []\n",
    "valid_loss, valid_accs = [], []\n",
    "valid_iter = []\n",
    "\n",
    "for epoch in range(num_epoch):\n",
    "    print(\"[\"+str(epoch)+\"]\"+\"=\"*epoch)\n",
    "    running_loss = 0.0\n",
    "    net.train()\n",
    "    # Training\n",
    "    for i, batch in enumerate(train_iter):\n",
    "#         print(\"batch \"+ str(i))\n",
    "#         if i % eval_every == 0:\n",
    "#             valid_iter.append(i + (1+epoch)*iter_by_epoch)\n",
    "#             net.eval()\n",
    "#             val_losses, val_accs, val_lengths = 0, 0, 0\n",
    "            \n",
    "#             for val_batch in validation_iter:\n",
    "#                 output = net(val_batch.sequence)\n",
    "#                 val_losses += criterion(output, val_batch.label)*val_batch.batch_size\n",
    "#                 val_accs += accuracy(output, val_batch.label) *val_batch.batch_size\n",
    "#                 val_lengths += val_batch.batch_size\n",
    "\n",
    "#             # divide by the total accumulated batch sizes\n",
    "#             val_losses /= val_lengths\n",
    "#             val_accs /= val_lengths\n",
    "#             valid_loss.append(get_numpy(val_losses))\n",
    "#             valid_accs.append(get_numpy(val_accs))\n",
    "#             net.train()\n",
    "            \n",
    "            \n",
    "        optimizer.zero_grad()\n",
    "\n",
    "        output = net(batch.sequence)\n",
    "        batch_loss = criterion(output, batch.label)\n",
    "\n",
    "        train_loss.append(get_numpy(batch_loss))\n",
    "        train_accs.append(get_numpy(accuracy(output, batch.label)))\n",
    "\n",
    "\n",
    "        batch_loss.backward()\n",
    "        optimizer.step()\n",
    "\n",
    "# 500, 20, 100/\n",
    "\n"
   ]
  },
  {
   "cell_type": "code",
   "execution_count": 323,
   "metadata": {},
   "outputs": [
    {
     "name": "stdout",
     "output_type": "stream",
     "text": [
      "tensor([1, 1, 1, 1, 1, 1, 1, 1, 1, 1, 1, 1, 1, 1, 1, 2, 2, 1, 2, 1], device='cuda:0')\n",
      "tensor([1, 1, 1, 1, 1, 1, 1, 1, 1, 1, 1, 1, 1, 1, 1, 1, 1, 1, 1, 1], device='cuda:0')\n",
      "tensor([1, 1, 1, 1, 1, 1, 1, 1, 1, 1, 1, 1, 1, 1, 1, 1, 1, 1, 1, 1], device='cuda:0')\n",
      "tensor([1, 1, 1, 1, 1, 1, 1, 1, 1, 1, 1, 1, 1, 1, 1, 1, 1, 1, 1, 1], device='cuda:0')\n",
      "tensor([1, 1, 1, 1, 1, 1, 1, 1, 1, 1, 1, 1, 1, 1, 1, 1, 1, 1, 1, 1], device='cuda:0')\n",
      "tensor([1, 1, 1, 1, 1, 1, 1, 1, 1, 1, 1, 1, 1, 1, 1, 1, 1, 1, 1, 1], device='cuda:0')\n",
      "tensor([1, 1, 1, 1, 1, 1, 1, 1, 1, 1, 1, 1, 1, 1, 1, 1, 1, 1, 1, 1], device='cuda:0')\n",
      "tensor([1, 1, 1, 1, 1, 1, 1, 1, 1, 1, 1, 1, 1, 1, 1, 1, 1, 1, 1, 1], device='cuda:0')\n",
      "tensor([1, 1, 1, 1, 1, 1, 1, 1, 1, 1, 1, 1, 1, 1, 1, 1, 1, 1, 1, 1], device='cuda:0')\n",
      "tensor([1, 1, 1, 1, 1, 1, 1, 1, 1, 1, 1, 1, 1, 1, 1, 1, 1, 1, 1, 1], device='cuda:0')\n",
      "tensor([2, 2, 2, 2, 2, 2, 2, 2, 2, 2, 2, 2, 2, 2, 2, 2, 2, 1, 1, 1], device='cuda:0')\n",
      "tensor([2, 2, 2, 2, 2, 2, 2, 2, 2, 2, 2, 2, 2, 2, 2, 2, 2, 2, 2, 2], device='cuda:0')\n",
      "tensor([2, 2, 2, 2, 2, 2, 2, 2, 2, 2, 2, 2, 2, 2, 2, 2, 2, 2, 2, 2], device='cuda:0')\n",
      "tensor([2, 2, 2, 2, 2, 2, 2, 2, 2, 2, 2, 2, 2, 2, 2, 2, 2, 2, 2, 2], device='cuda:0')\n",
      "tensor([2, 2, 2, 2, 2, 2, 2, 2, 2, 2, 2, 2, 2, 2, 2, 2, 2, 2, 2, 2], device='cuda:0')\n",
      "tensor([2, 2, 2, 2, 2, 2, 2, 2, 2, 2, 2, 2, 2, 2, 2, 2, 2, 2, 2, 2], device='cuda:0')\n",
      "tensor([2, 2, 2, 2, 2, 2, 2, 2, 2, 2, 2, 2, 2, 2, 2, 2, 2, 2, 2, 2], device='cuda:0')\n",
      "tensor([2, 2, 2, 2, 2, 2, 2, 2, 2, 2, 2, 2, 2, 2, 2, 2, 2, 2, 2, 2], device='cuda:0')\n",
      "tensor([2, 2, 2, 2, 2, 2, 2, 2, 2, 2, 2, 2, 2, 2, 2, 2, 2, 2, 2, 2], device='cuda:0')\n",
      "tensor([2, 2, 2, 2, 2, 2, 2, 2, 2, 2, 2, 2, 2, 2, 2, 2, 2, 2, 2, 2], device='cuda:0')\n"
     ]
    }
   ],
   "source": [
    "for i in train_iter : \n",
    "    print(i.label)"
   ]
  },
  {
   "cell_type": "code",
   "execution_count": 324,
   "metadata": {},
   "outputs": [],
   "source": [
    "valid_iter = [i - 112 for i in valid_iter]"
   ]
  },
  {
   "cell_type": "code",
   "execution_count": 351,
   "metadata": {},
   "outputs": [
    {
     "name": "stdout",
     "output_type": "stream",
     "text": [
      "100\n",
      "200\n",
      "300\n",
      "400\n",
      "500\n",
      "600\n",
      "700\n",
      "800\n",
      "900\n",
      "1000\n",
      "1100\n",
      "1200\n",
      "1300\n",
      "1400\n",
      "1500\n",
      "1600\n",
      "1700\n",
      "1800\n",
      "1900\n",
      "2000\n"
     ]
    }
   ],
   "source": [
    "train_loss_red = []\n",
    "little = []\n",
    "compt = 1\n",
    "for i in train_loss : \n",
    "    little.append(i)\n",
    "    if compt%100 == 0:\n",
    "        print(compt)\n",
    "        train_loss_red.append(np.mean(little))\n",
    "        little = []\n",
    "    compt+=1"
   ]
  },
  {
   "cell_type": "code",
   "execution_count": 352,
   "metadata": {},
   "outputs": [
    {
     "data": {
      "text/plain": [
       "0.96010524"
      ]
     },
     "execution_count": 352,
     "metadata": {},
     "output_type": "execute_result"
    }
   ],
   "source": [
    "np.mean(train_accs[:-100])"
   ]
  },
  {
   "cell_type": "code",
   "execution_count": 353,
   "metadata": {},
   "outputs": [
    {
     "data": {
      "image/png": "[encoded data removed]",
      "text/plain": [
       "<Figure size 864x288 with 2 Axes>"
      ]
     },
     "metadata": {},
     "output_type": "display_data"
    }
   ],
   "source": [
    "fig = plt.figure(figsize=(12,4))\n",
    "plt.subplot(1, 2, 1)\n",
    "plt.plot(train_loss_red, label='train_loss')\n",
    "plt.plot(valid_iter, valid_loss, label='valid_loss')\n",
    "plt.legend()\n",
    "\n",
    "plt.subplot(1, 2, 2)\n",
    "plt.plot(train_accs, label='train_accs')\n",
    "plt.plot(valid_iter, valid_accs, label='valid_accs')\n",
    "plt.legend()\n",
    "plt.show()\n"
   ]
  },
  {
   "cell_type": "code",
   "execution_count": 293,
   "metadata": {},
   "outputs": [
    {
     "data": {
      "text/plain": [
       "tensor([3, 3, 3, 3, 3, 3, 3, 3, 3, 3, 3, 3, 3, 3, 3, 3, 3, 3, 3, 3, 3, 3, 3, 3,\n",
       "        3, 3, 3, 3, 3, 3, 3, 3, 3, 3, 3, 3, 3, 3, 3, 3, 3, 3, 3, 3, 3, 3, 3, 3,\n",
       "        3, 3, 3], device='cuda:0')"
      ]
     },
     "execution_count": 293,
     "metadata": {},
     "output_type": "execute_result"
    }
   ],
   "source": [
    "torch.max(output,1)[1]"
   ]
  },
  {
   "cell_type": "code",
   "execution_count": 356,
   "metadata": {},
   "outputs": [
    {
     "name": "stderr",
     "output_type": "stream",
     "text": [
      "/home/ubuntu/anaconda3/envs/pytorch_p36/lib/python3.6/site-packages/ipykernel_launcher.py:62: UserWarning: Implicit dimension choice for softmax has been deprecated. Change the call to include dim=X as an argument.\n"
     ]
    },
    {
     "name": "stdout",
     "output_type": "stream",
     "text": [
      "tensor(15., device='cuda:0') 20\n",
      "tensor(20., device='cuda:0') 20\n",
      "tensor(17., device='cuda:0') 20\n",
      "tensor(19., device='cuda:0') 20\n",
      "tensor(20., device='cuda:0') 20\n",
      "tensor(20., device='cuda:0') 20\n",
      "tensor(20., device='cuda:0') 20\n",
      "tensor(20., device='cuda:0') 20\n",
      "tensor(20., device='cuda:0') 20\n",
      "tensor(20., device='cuda:0') 20\n",
      "tensor(19., device='cuda:0') 20\n",
      "tensor(19., device='cuda:0') 20\n",
      "tensor(19., device='cuda:0') 20\n",
      "tensor(20., device='cuda:0') 20\n",
      "tensor(19., device='cuda:0') 20\n",
      "tensor(20., device='cuda:0') 20\n",
      "tensor(20., device='cuda:0') 20\n",
      "tensor(20., device='cuda:0') 20\n",
      "tensor(20., device='cuda:0') 20\n",
      "tensor(20., device='cuda:0') 20\n",
      "[387] 400 tensor(387., device='cuda:0')\n",
      "[0]\n"
     ]
    },
    {
     "data": {
      "text/plain": [
       "Net(\n",
       "  (embeddings): Embedding(6, 100)\n",
       "  (conv1): Conv1d(100, 100, kernel_size=(3,), stride=(3,))\n",
       "  (lstm): LSTM(100, 111)\n",
       "  (hidden2tag): Linear(in_features=111, out_features=3, bias=False)\n",
       ")"
      ]
     },
     "execution_count": 356,
     "metadata": {},
     "output_type": "execute_result"
    }
   ],
   "source": [
    "net.eval()\n",
    "val_losses, val_accs, val_lengths = 0, 0, 0\n",
    "predictions = []\n",
    "real_values = []\n",
    "for val_batch in train_iter:\n",
    "    output = net(val_batch.sequence)\n",
    "    predictions += [int(i) for i in torch.max(output,1)[1]]\n",
    "    real_values += [int(i) for i in val_batch.label]\n",
    "    val_losses += criterion(output, val_batch.label)*val_batch.batch_size\n",
    "    print(accuracy(output, val_batch.label) *val_batch.batch_size, val_batch.batch_size)\n",
    "    val_accs += accuracy(output, val_batch.label) *val_batch.batch_size\n",
    "    val_lengths += val_batch.batch_size\n",
    "\n",
    "print(\"[%i]\"%get_numpy(val_accs), val_lengths, val_accs)\n",
    "# divide by the total accumulated batch sizes\n",
    "val_losses /= val_lengths\n",
    "val_accs /= val_lengths\n",
    "valid_loss.append(get_numpy(val_losses))\n",
    "valid_accs.append(get_numpy(val_accs))\n",
    "print(\"[%i]\"%get_numpy(val_accs))\n",
    "net.train()"
   ]
  },
  {
   "cell_type": "code",
   "execution_count": 357,
   "metadata": {},
   "outputs": [
    {
     "data": {
      "text/plain": [
       "[1,\n",
       " 1,\n",
       " 1,\n",
       " 1,\n",
       " 1,\n",
       " 1,\n",
       " 1,\n",
       " 1,\n",
       " 1,\n",
       " 1,\n",
       " 1,\n",
       " 1,\n",
       " 1,\n",
       " 1,\n",
       " 1,\n",
       " 0,\n",
       " 0,\n",
       " 0,\n",
       " 0,\n",
       " 0,\n",
       " 1,\n",
       " 1,\n",
       " 1,\n",
       " 1,\n",
       " 1,\n",
       " 1,\n",
       " 1,\n",
       " 1,\n",
       " 1,\n",
       " 1,\n",
       " 1,\n",
       " 1,\n",
       " 1,\n",
       " 1,\n",
       " 1,\n",
       " 1,\n",
       " 1,\n",
       " 1,\n",
       " 1,\n",
       " 1,\n",
       " 1,\n",
       " 1,\n",
       " 1,\n",
       " 1,\n",
       " 1,\n",
       " 1,\n",
       " 1,\n",
       " 2,\n",
       " 1,\n",
       " 1,\n",
       " 1,\n",
       " 1,\n",
       " 1,\n",
       " 1,\n",
       " 1,\n",
       " 2,\n",
       " 2,\n",
       " 1,\n",
       " 1,\n",
       " 1,\n",
       " 1,\n",
       " 1,\n",
       " 1,\n",
       " 1,\n",
       " 1,\n",
       " 1,\n",
       " 1,\n",
       " 1,\n",
       " 1,\n",
       " 1,\n",
       " 1,\n",
       " 2,\n",
       " 1,\n",
       " 1,\n",
       " 1,\n",
       " 1,\n",
       " 1,\n",
       " 1,\n",
       " 1,\n",
       " 1,\n",
       " 1,\n",
       " 1,\n",
       " 1,\n",
       " 1,\n",
       " 1,\n",
       " 1,\n",
       " 1,\n",
       " 1,\n",
       " 1,\n",
       " 1,\n",
       " 1,\n",
       " 1,\n",
       " 1,\n",
       " 1,\n",
       " 1,\n",
       " 1,\n",
       " 1,\n",
       " 1,\n",
       " 1,\n",
       " 1,\n",
       " 1,\n",
       " 1,\n",
       " 1,\n",
       " 1,\n",
       " 1,\n",
       " 1,\n",
       " 1,\n",
       " 1,\n",
       " 1,\n",
       " 1,\n",
       " 1,\n",
       " 1,\n",
       " 1,\n",
       " 1,\n",
       " 1,\n",
       " 1,\n",
       " 1,\n",
       " 1,\n",
       " 1,\n",
       " 1,\n",
       " 1,\n",
       " 1,\n",
       " 1,\n",
       " 1,\n",
       " 1,\n",
       " 1,\n",
       " 1,\n",
       " 1,\n",
       " 1,\n",
       " 1,\n",
       " 1,\n",
       " 1,\n",
       " 1,\n",
       " 1,\n",
       " 1,\n",
       " 1,\n",
       " 1,\n",
       " 1,\n",
       " 1,\n",
       " 1,\n",
       " 1,\n",
       " 1,\n",
       " 1,\n",
       " 1,\n",
       " 1,\n",
       " 1,\n",
       " 1,\n",
       " 1,\n",
       " 1,\n",
       " 1,\n",
       " 1,\n",
       " 1,\n",
       " 1,\n",
       " 1,\n",
       " 1,\n",
       " 1,\n",
       " 1,\n",
       " 1,\n",
       " 1,\n",
       " 1,\n",
       " 1,\n",
       " 1,\n",
       " 1,\n",
       " 1,\n",
       " 1,\n",
       " 1,\n",
       " 1,\n",
       " 1,\n",
       " 1,\n",
       " 1,\n",
       " 1,\n",
       " 1,\n",
       " 1,\n",
       " 1,\n",
       " 1,\n",
       " 1,\n",
       " 1,\n",
       " 1,\n",
       " 1,\n",
       " 1,\n",
       " 1,\n",
       " 1,\n",
       " 1,\n",
       " 1,\n",
       " 1,\n",
       " 1,\n",
       " 1,\n",
       " 1,\n",
       " 1,\n",
       " 1,\n",
       " 1,\n",
       " 1,\n",
       " 1,\n",
       " 1,\n",
       " 1,\n",
       " 1,\n",
       " 1,\n",
       " 1,\n",
       " 1,\n",
       " 1,\n",
       " 2,\n",
       " 2,\n",
       " 2,\n",
       " 2,\n",
       " 2,\n",
       " 2,\n",
       " 2,\n",
       " 2,\n",
       " 1,\n",
       " 2,\n",
       " 2,\n",
       " 2,\n",
       " 2,\n",
       " 2,\n",
       " 2,\n",
       " 2,\n",
       " 2,\n",
       " 1,\n",
       " 1,\n",
       " 1,\n",
       " 2,\n",
       " 2,\n",
       " 2,\n",
       " 2,\n",
       " 2,\n",
       " 2,\n",
       " 2,\n",
       " 2,\n",
       " 1,\n",
       " 2,\n",
       " 2,\n",
       " 2,\n",
       " 2,\n",
       " 2,\n",
       " 2,\n",
       " 2,\n",
       " 2,\n",
       " 2,\n",
       " 2,\n",
       " 2,\n",
       " 2,\n",
       " 2,\n",
       " 2,\n",
       " 2,\n",
       " 2,\n",
       " 2,\n",
       " 2,\n",
       " 2,\n",
       " 2,\n",
       " 2,\n",
       " 2,\n",
       " 2,\n",
       " 2,\n",
       " 2,\n",
       " 2,\n",
       " 2,\n",
       " 2,\n",
       " 2,\n",
       " 2,\n",
       " 1,\n",
       " 2,\n",
       " 2,\n",
       " 2,\n",
       " 2,\n",
       " 2,\n",
       " 2,\n",
       " 2,\n",
       " 2,\n",
       " 2,\n",
       " 2,\n",
       " 2,\n",
       " 2,\n",
       " 2,\n",
       " 2,\n",
       " 2,\n",
       " 2,\n",
       " 2,\n",
       " 2,\n",
       " 2,\n",
       " 2,\n",
       " 1,\n",
       " 2,\n",
       " 2,\n",
       " 2,\n",
       " 2,\n",
       " 2,\n",
       " 2,\n",
       " 2,\n",
       " 2,\n",
       " 2,\n",
       " 2,\n",
       " 2,\n",
       " 2,\n",
       " 2,\n",
       " 2,\n",
       " 2,\n",
       " 2,\n",
       " 2,\n",
       " 2,\n",
       " 2,\n",
       " 2,\n",
       " 2,\n",
       " 2,\n",
       " 2,\n",
       " 2,\n",
       " 2,\n",
       " 2,\n",
       " 2,\n",
       " 2,\n",
       " 2,\n",
       " 2,\n",
       " 2,\n",
       " 2,\n",
       " 2,\n",
       " 2,\n",
       " 2,\n",
       " 2,\n",
       " 2,\n",
       " 2,\n",
       " 2,\n",
       " 2,\n",
       " 2,\n",
       " 2,\n",
       " 2,\n",
       " 2,\n",
       " 2,\n",
       " 2,\n",
       " 2,\n",
       " 2,\n",
       " 2,\n",
       " 2,\n",
       " 2,\n",
       " 2,\n",
       " 2,\n",
       " 2,\n",
       " 2,\n",
       " 2,\n",
       " 2,\n",
       " 2,\n",
       " 2,\n",
       " 2,\n",
       " 2,\n",
       " 2,\n",
       " 2,\n",
       " 2,\n",
       " 2,\n",
       " 2,\n",
       " 2,\n",
       " 2,\n",
       " 2,\n",
       " 2,\n",
       " 2,\n",
       " 2,\n",
       " 2,\n",
       " 2,\n",
       " 2,\n",
       " 2,\n",
       " 2,\n",
       " 2,\n",
       " 2,\n",
       " 2,\n",
       " 2,\n",
       " 2,\n",
       " 2,\n",
       " 2,\n",
       " 2,\n",
       " 2,\n",
       " 2,\n",
       " 2,\n",
       " 2,\n",
       " 2,\n",
       " 2,\n",
       " 2,\n",
       " 2,\n",
       " 2,\n",
       " 2,\n",
       " 2,\n",
       " 2,\n",
       " 2,\n",
       " 2,\n",
       " 2,\n",
       " 2,\n",
       " 2,\n",
       " 2,\n",
       " 2,\n",
       " 2,\n",
       " 2,\n",
       " 2,\n",
       " 2,\n",
       " 2,\n",
       " 2,\n",
       " 2,\n",
       " 2,\n",
       " 2,\n",
       " 2,\n",
       " 2,\n",
       " 2,\n",
       " 2,\n",
       " 2,\n",
       " 2]"
      ]
     },
     "execution_count": 357,
     "metadata": {},
     "output_type": "execute_result"
    }
   ],
   "source": [
    "predictions"
   ]
  },
  {
   "cell_type": "code",
   "execution_count": 358,
   "metadata": {},
   "outputs": [
    {
     "data": {
      "text/plain": [
       "tensor([[8.3939e-07, 7.8227e-04, 9.9922e-01],\n",
       "        [1.1353e-06, 7.3812e-05, 9.9993e-01],\n",
       "        [8.5646e-06, 1.8252e-03, 9.9817e-01],\n",
       "        [6.4346e-06, 3.1196e-03, 9.9687e-01],\n",
       "        [2.4455e-04, 4.5467e-03, 9.9521e-01],\n",
       "        [4.9675e-06, 8.7108e-04, 9.9912e-01],\n",
       "        [1.5768e-05, 1.5943e-03, 9.9839e-01],\n",
       "        [1.4948e-04, 2.4624e-03, 9.9739e-01],\n",
       "        [1.3874e-05, 2.1734e-03, 9.9781e-01],\n",
       "        [2.4438e-06, 5.0490e-05, 9.9995e-01],\n",
       "        [3.6360e-06, 8.7438e-05, 9.9991e-01],\n",
       "        [1.6291e-05, 2.7198e-03, 9.9726e-01],\n",
       "        [1.5844e-05, 4.1070e-04, 9.9957e-01],\n",
       "        [6.0377e-06, 1.4313e-03, 9.9856e-01],\n",
       "        [7.8869e-06, 1.8403e-03, 9.9815e-01],\n",
       "        [1.8819e-05, 1.8621e-03, 9.9812e-01],\n",
       "        [1.2744e-05, 1.2774e-04, 9.9986e-01],\n",
       "        [4.6169e-06, 4.3788e-03, 9.9562e-01],\n",
       "        [1.7736e-05, 1.7656e-03, 9.9822e-01],\n",
       "        [1.4403e-05, 8.0118e-05, 9.9991e-01]],\n",
       "       device='cuda:0', grad_fn=<SoftmaxBackward>)"
      ]
     },
     "execution_count": 358,
     "metadata": {},
     "output_type": "execute_result"
    }
   ],
   "source": [
    "output"
   ]
  },
  {
   "cell_type": "code",
   "execution_count": 359,
   "metadata": {},
   "outputs": [],
   "source": [
    "from sklearn.metrics import confusion_matrix\n",
    "import itertools"
   ]
  },
  {
   "cell_type": "code",
   "execution_count": 360,
   "metadata": {},
   "outputs": [],
   "source": [
    "\n",
    "\n",
    "def plot_confusion_matrix(cm, classes,\n",
    "                          normalize=False,\n",
    "                          title='Confusion matrix',\n",
    "                          cmap=plt.cm.Blues):\n",
    "    \"\"\"\n",
    "    This function prints and plots the confusion matrix.\n",
    "    Normalization can be applied by setting `normalize=True`.\n",
    "    \"\"\"\n",
    "    if normalize:\n",
    "        cm = cm.astype('float') / cm.sum(axis=1)[:, np.newaxis]\n",
    "        print(\"Normalized confusion matrix\")\n",
    "    else:\n",
    "        print('Confusion matrix, without normalization')\n",
    "\n",
    "    print(cm)\n",
    "\n",
    "    plt.imshow(cm, interpolation='nearest', cmap=cmap)\n",
    "    plt.title(title)\n",
    "    plt.colorbar()\n",
    "    tick_marks = np.arange(len(classes))\n",
    "    plt.xticks(tick_marks, classes, rotation=45)\n",
    "    plt.yticks(tick_marks, classes)\n",
    "\n",
    "    fmt = '.2f' if normalize else 'd'\n",
    "    thresh = cm.max() / 2.\n",
    "    for i, j in itertools.product(range(cm.shape[0]), range(cm.shape[1])):\n",
    "        plt.text(j, i, format(cm[i, j], fmt),\n",
    "                 horizontalalignment=\"center\",\n",
    "                 color=\"white\" if cm[i, j] > thresh else \"black\")\n",
    "\n",
    "    plt.ylabel('True label')\n",
    "    plt.xlabel('Predicted label')\n",
    "    plt.tight_layout()\n",
    "\n"
   ]
  },
  {
   "cell_type": "code",
   "execution_count": 361,
   "metadata": {},
   "outputs": [
    {
     "name": "stdout",
     "output_type": "stream",
     "text": [
      "Normalized confusion matrix\n",
      "[[ nan  nan  nan]\n",
      " [0.01 0.97 0.02]\n",
      " [0.01 0.02 0.96]]\n"
     ]
    },
    {
     "name": "stderr",
     "output_type": "stream",
     "text": [
      "/home/ubuntu/anaconda3/envs/pytorch_p36/lib/python3.6/site-packages/ipykernel_launcher.py:12: RuntimeWarning: invalid value encountered in true_divide\n",
      "  if sys.path[0] == '':\n",
      "/home/ubuntu/anaconda3/envs/pytorch_p36/lib/python3.6/site-packages/numpy/core/_methods.py:26: RuntimeWarning: invalid value encountered in reduce\n",
      "  return umr_maximum(a, axis, None, out, keepdims)\n"
     ]
    },
    {
     "data": {
      "image/png": "[encoded data removed]",
      "text/plain": [
       "<Figure size 432x288 with 2 Axes>"
      ]
     },
     "metadata": {},
     "output_type": "display_data"
    }
   ],
   "source": [
    "cnf_matrix = confusion_matrix(real_values, predictions)\n",
    "\n",
    "np.set_printoptions(precision=2)\n",
    "\n",
    "# Plot non-normalized confusion matrix\n",
    "plt.figure()\n",
    "classes = [str(i) for i in range(NUM_CLASSES)]\n",
    "plot_confusion_matrix(cnf_matrix, classes,\n",
    "                      title='Confusion matrix, without normalization', normalize=True)\n",
    "\n",
    "\n",
    "plt.show()\n"
   ]
  },
  {
   "cell_type": "code",
   "execution_count": null,
   "metadata": {},
   "outputs": [],
   "source": []
  }
 ],
 "metadata": {
  "accelerator": "GPU",
  "colab": {
   "collapsed_sections": [],
   "name": "torchtext_dataloader.ipynb",
   "provenance": [],
   "toc_visible": true,
   "version": "0.3.2"
  },
  "kernelspec": {
   "display_name": "Python 3",
   "language": "python",
   "name": "python3"
  },
  "language_info": {
   "codemirror_mode": {
    "name": "ipython",
    "version": 3
   },
   "file_extension": ".py",
   "mimetype": "text/x-python",
   "name": "python",
   "nbconvert_exporter": "python",
   "pygments_lexer": "ipython3",
   "version": "3.6.5"
  }
 },
 "nbformat": 4,
 "nbformat_minor": 1
}
