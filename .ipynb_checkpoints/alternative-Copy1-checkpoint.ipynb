{
 "cells": [
  {
   "cell_type": "markdown",
   "metadata": {
    "colab_type": "text",
    "id": "keVHmVHdQdLs"
   },
   "source": [
    "# Important: Modify the pynvrtc package as described in the following:\n",
    "https://github.com/loicland/superpoint_graph/issues/43#issuecomment-406928322"
   ]
  },
  {
   "cell_type": "markdown",
   "metadata": {},
   "source": [
    "# Imports"
   ]
  },
  {
   "cell_type": "code",
   "execution_count": 1,
   "metadata": {},
   "outputs": [],
   "source": [
    "from torchqrnn import QRNN, QRNNLayer"
   ]
  },
  {
   "cell_type": "code",
   "execution_count": 2,
   "metadata": {
    "colab": {},
    "colab_type": "code",
    "id": "jTciwxFkQdLt"
   },
   "outputs": [],
   "source": [
    "import numpy as np\n",
    "\n",
    "from pprint import pprint\n",
    "from torchtext import data\n",
    "from torchtext import datasets\n",
    "from torchtext.vocab import Vectors, GloVe\n",
    "import time\n",
    "\n",
    "import torch\n",
    "from torch.autograd import Variable\n",
    "import torch.nn as nn\n",
    "import torch.optim as optim\n",
    "from torch.nn import Linear, RNN, LSTM, GRU, Conv1d\n",
    "import torch.nn.functional as F\n",
    "\n",
    "%matplotlib inline\n",
    "import matplotlib\n",
    "import numpy as np\n",
    "import matplotlib.pyplot as plt\n",
    "import seaborn as sns\n",
    "sns.set(style=\"darkgrid\")\n",
    "\n",
    "import random\n",
    "import warnings\n",
    "warnings.filterwarnings('ignore')\n",
    "\n",
    "DATA_DIRECTORY = \"data/\""
   ]
  },
  {
   "cell_type": "code",
   "execution_count": 3,
   "metadata": {
    "colab": {},
    "colab_type": "code",
    "id": "Zs6GLV1NQdLy"
   },
   "outputs": [
    {
     "name": "stdout",
     "output_type": "stream",
     "text": [
      "True\n"
     ]
    }
   ],
   "source": [
    "use_cuda = torch.cuda.is_available()\n",
    "def get_variable(x):\n",
    "    \"\"\" Converts tensors to cuda, if available. \"\"\"\n",
    "    if use_cuda:\n",
    "        return x.cuda()\n",
    "    return x\n",
    "\n",
    "def get_numpy(x):\n",
    "    \"\"\" Get numpy array for both cuda and not. \"\"\"\n",
    "    if use_cuda:\n",
    "        return x.cpu().data.numpy()\n",
    "    return x.data.numpy()\n",
    "\n",
    "print(use_cuda)"
   ]
  },
  {
   "cell_type": "code",
   "execution_count": 4,
   "metadata": {},
   "outputs": [
    {
     "name": "stdout",
     "output_type": "stream",
     "text": [
      "[3486, 5531, 814, 2874, 1578, 328]\n",
      "[5531, 5531, 5531, 5531, 5531, 5531]\n",
      "[3486, 3486, 3486, 3486, 3486, 3486]\n"
     ]
    }
   ],
   "source": [
    "#reducing dataset\n",
    "\n",
    "DATA_DIRECTORY = \"data/\"\n",
    "id_seqs = {str(i):[] for i in range(6)}\n",
    "with open(DATA_DIRECTORY+'train_filtered.txt','r') as fIn : \n",
    "    for line in fIn : \n",
    "        line = line.split(',')\n",
    "        id_seqs[line[1].strip()].append(line[0])\n",
    "\n",
    "#upsampling \n",
    "print([len(id_seqs[str(i)]) for i in range(6)])\n",
    "upsampling_len = max([len(id_seqs[str(i)]) for i in range(6)])\n",
    "duplication_factors = [upsampling_len//len(id_seqs[str(i)]) for i in range(6)]\n",
    "id_seqs_duplicate = {str(i) : id_seqs[str(i)]*duplication_factors[i] for i in range(6)}\n",
    "to_add_by_sampling = [upsampling_len - len(id_seqs_duplicate[str(i)]) for i in range(6)]\n",
    "id_seqs_final = {str(i) : id_seqs_duplicate[str(i)] + random.sample(id_seqs_duplicate[str(i)],to_add_by_sampling[i]) for i in range(6)}\n",
    "print([len(id_seqs_final[str(i)]) for i in range(6)])\n",
    "\n",
    "def reduce_dataset(size, data_dict):\n",
    "    return {str(i) : random.sample(data_dict[str(i)], size) for i in range(6)}\n",
    "\n",
    "ids_seqs_final_reduced = reduce_dataset(3486,id_seqs_final)\n",
    "print([len(ids_seqs_final_reduced[str(i)]) for i in range(6)])\n",
    "\n",
    "with open(DATA_DIRECTORY+'train_mini.txt','w') as fOut : \n",
    "    for classif in [0,3]:\n",
    "        for seq in ids_seqs_final_reduced[str(classif)]:\n",
    "            fOut.write(seq + \",\" + str(classif) +\"\\n\")\n",
    "            \n",
    "\n",
    "id_seqs = {str(i):[] for i in range(6)}\n",
    "with open(DATA_DIRECTORY+'test_filtered.txt','r') as fIn : \n",
    "    for line in fIn : \n",
    "        line = line.split(',')\n",
    "        id_seqs[line[1].strip()].append(line[0])\n",
    "\n",
    "with open(DATA_DIRECTORY+'test_mini.txt','w') as fOut : \n",
    "    for classif in [0,3]:\n",
    "        for seq in id_seqs[str(classif)]:\n",
    "            fOut.write(seq + \",\" + str(classif) +\"\\n\")"
   ]
  },
  {
   "cell_type": "markdown",
   "metadata": {},
   "source": [
    "## taking only 500 first nucleotids"
   ]
  },
  {
   "cell_type": "code",
   "execution_count": 45,
   "metadata": {},
   "outputs": [],
   "source": [
    "with open(DATA_DIRECTORY+'train_filtered.txt','r') as fIn : \n",
    "    with open(DATA_DIRECTORY+'train_filtered_reduced.txt','w') as fOut : \n",
    "        for line in fIn : \n",
    "            line = line.split(',')\n",
    "            fOut.write(line[0][:1000] + \",\" + line[1])"
   ]
  },
  {
   "cell_type": "code",
   "execution_count": 46,
   "metadata": {},
   "outputs": [],
   "source": [
    "with open(DATA_DIRECTORY+'test_filtered.txt','r') as fIn : \n",
    "    with open(DATA_DIRECTORY+'test_filtered_reduced.txt','w') as fOut : \n",
    "        for line in fIn : \n",
    "            line = line.split(',')\n",
    "            fOut.write(line[0][:1000] + \",\" + line[1])"
   ]
  },
  {
   "cell_type": "code",
   "execution_count": 47,
   "metadata": {},
   "outputs": [],
   "source": [
    "with open(DATA_DIRECTORY+'val_filtered.txt','r') as fIn : \n",
    "    with open(DATA_DIRECTORY+'val_filtered_reduced.txt','w') as fOut : \n",
    "        for line in fIn : \n",
    "            line = line.split(',')\n",
    "            fOut.write(line[0][:1000] + \",\" + line[1])"
   ]
  },
  {
   "cell_type": "markdown",
   "metadata": {
    "colab_type": "text",
    "id": "rlwv4O-oQdL1"
   },
   "source": [
    "# Torchtext dataloader "
   ]
  },
  {
   "cell_type": "code",
   "execution_count": 4,
   "metadata": {
    "colab": {},
    "colab_type": "code",
    "id": "Tm9u1DvFQdL2"
   },
   "outputs": [],
   "source": [
    "#Initialize the two fields: Sequence and Class\n",
    "SEQ = data.Field(sequential=True,include_lengths=True, unk_token='N')\n",
    "LABEL = data.Field(sequential=False, unk_token='1') # is_target = True ?\n",
    "\n",
    "train_set, validation_set, test_set = data.TabularDataset.splits(path='',\n",
    "                                                                 train=DATA_DIRECTORY+'train_mini.txt',\n",
    "                                                                 validation=DATA_DIRECTORY+'test_mini.txt',\n",
    "                                                                 test=DATA_DIRECTORY+'test_mini.txt', \n",
    "                                                                 format = 'csv',\n",
    "                                                                 fields=[('sequence', SEQ), ('label', LABEL)])"
   ]
  },
  {
   "cell_type": "code",
   "execution_count": 49,
   "metadata": {
    "colab": {
     "base_uri": "https://localhost:8080/",
     "height": 355
    },
    "colab_type": "code",
    "executionInfo": {
     "elapsed": 6231,
     "status": "ok",
     "timestamp": 1543681846756,
     "user": {
      "displayName": "Lea Riera",
      "photoUrl": "",
      "userId": "09506228137911101216"
     },
     "user_tz": -60
    },
    "id": "yy8up8L-QdL6",
    "outputId": "06cb7283-ec3c-4f8c-dce1-5d793aad83da"
   },
   "outputs": [],
   "source": [
    "#L = [len(train_set[i].sequence) for i in range(len(train_set))]\n",
    "#plt.hist(L)\n"
   ]
  },
  {
   "cell_type": "code",
   "execution_count": 50,
   "metadata": {
    "colab": {
     "base_uri": "https://localhost:8080/",
     "height": 199
    },
    "colab_type": "code",
    "executionInfo": {
     "elapsed": 6224,
     "status": "ok",
     "timestamp": 1543681846758,
     "user": {
      "displayName": "Lea Riera",
      "photoUrl": "",
      "userId": "09506228137911101216"
     },
     "user_tz": -60
    },
    "id": "f5Pn8cI6QdL_",
    "outputId": "00c55434-0572-47cc-8923-ddf28d43f994"
   },
   "outputs": [],
   "source": [
    "#print('train_set.fields:', list(train_set.fields.keys()))\n",
    "#print('validation_set.fields:', list(validation_set.fields.keys()))\n",
    "#print('test_set.fields:', list(test_set.fields.keys()))\n",
    "#print()\n",
    "#print('size of training set', len(train_set))\n",
    "#print('size of validation set', len(validation_set))\n",
    "#print()\n",
    "#print('content of first training sample:')\n",
    "#print(vars(train_set[0]))"
   ]
  },
  {
   "cell_type": "code",
   "execution_count": 8,
   "metadata": {
    "colab": {},
    "colab_type": "code",
    "id": "FX65bqRlQdMD"
   },
   "outputs": [],
   "source": [
    "# build the vocabularies\n",
    "SEQ.build_vocab(train_set, min_freq=2) #NO unknows \n",
    "LABEL.build_vocab(train_set, )"
   ]
  },
  {
   "cell_type": "code",
   "execution_count": 9,
   "metadata": {
    "colab": {},
    "colab_type": "code",
    "id": "ek4Eo9DUQdMP"
   },
   "outputs": [],
   "source": [
    "BATCH_SIZE = 2\n",
    "\n",
    "train_iter = data.BucketIterator(train_set,\n",
    "                                 batch_size=BATCH_SIZE, \n",
    "                                 device=torch.device(\"cuda:0\" if use_cuda else \"cpu\"),\n",
    "                                 sort_key=lambda x: len(x.sequence), #Sorting within the batch\n",
    "                                 sort = True,\n",
    "                                 repeat = False\n",
    "                                )\n",
    "\n",
    "validation_iter = data.BucketIterator(validation_set,\n",
    "                                 batch_size=BATCH_SIZE, \n",
    "                                 device=torch.device(\"cuda:0\" if use_cuda else \"cpu\"),\n",
    "                                 sort_key=lambda x: len(x.sequence), #Sorting within the batch\n",
    "                                sort = True,\n",
    "                                repeat = False\n",
    "                                )\n"
   ]
  },
  {
   "cell_type": "code",
   "execution_count": 10,
   "metadata": {
    "colab": {
     "base_uri": "https://localhost:8080/",
     "height": 121
    },
    "colab_type": "code",
    "executionInfo": {
     "elapsed": 4457,
     "status": "ok",
     "timestamp": 1543840045364,
     "user": {
      "displayName": "Lea Riera",
      "photoUrl": "",
      "userId": "09506228137911101216"
     },
     "user_tz": -60
    },
    "id": "gqMzFHkbQdM1",
    "outputId": "d3f9d070-a4cd-4f11-b538-e82d55702537"
   },
   "outputs": [
    {
     "name": "stdout",
     "output_type": "stream",
     "text": [
      "6634\n",
      "using cuda\n",
      "Net(\n",
      "  (embeddings): Embedding(6, 20)\n",
      "  (conv1): Conv1d(20, 128, kernel_size=(3,), stride=(3,))\n",
      "  (qrnn): QRNN(\n",
      "    (layers): ModuleList(\n",
      "      (0): QRNNLayer(\n",
      "        (linear): Linear(in_features=128, out_features=240, bias=True)\n",
      "      )\n",
      "    )\n",
      "  )\n",
      "  (linear): Linear(in_features=80, out_features=3, bias=True)\n",
      ")\n"
     ]
    }
   ],
   "source": [
    "# size of embeddings\n",
    "EMBEDDING_DIM = 20\n",
    "NUM_EMBEDDING = len(SEQ.vocab) #size of vocab \n",
    "NUM_CLASSES = len(LABEL.vocab.itos)\n",
    "CONV_CHANNELS = 128\n",
    "HIDDEN_DIM = 80\n",
    "NUM_LAYERS_LSTM = 1\n",
    "SEQ_LEN = len(train_set[0].sequence)\n",
    "print(SEQ_LEN)\n",
    "\n",
    "\n",
    "\n",
    "class Net(nn.Module):\n",
    "    def __init__(self):\n",
    "        super(Net, self).__init__()\n",
    "        \n",
    "        #learn a new embedding\n",
    "        self.embeddings = nn.Embedding(NUM_EMBEDDING, EMBEDDING_DIM)\n",
    "\n",
    "        # use pretrained embeddings\n",
    "        \n",
    "        self.conv1 = Conv1d(in_channels= EMBEDDING_DIM,\n",
    "                            out_channels= CONV_CHANNELS,\n",
    "                            padding=0,\n",
    "                            kernel_size=3,\n",
    "                            stride=3)\n",
    "        \n",
    "        \n",
    "        \n",
    "        \n",
    "        #self.lstm = LSTM(input_size=EMBEDDING_DIM,\n",
    "        #                 hidden_size=HIDDEN_DIM,\n",
    "        #                 num_layers=NUM_LAYERS_LSTM,\n",
    "        #                 bidirectional=False)\n",
    "        \n",
    "        self.qrnn = QRNN(CONV_CHANNELS, HIDDEN_DIM, num_layers=1)\n",
    "        self.qrnn.cuda()\n",
    "        \n",
    "        # link hidden to tag \n",
    "        self.linear = Linear(in_features=HIDDEN_DIM,\n",
    "                            out_features=NUM_CLASSES)\n",
    "        \n",
    "        \n",
    "        #init lstm hidden units \n",
    "        self.hidden = self.init_hidden(BATCH_SIZE)\n",
    "        \n",
    "    def forward(self, x):\n",
    "        sequences = x[0]\n",
    "        lengths = x[1]\n",
    "#         out = {}\n",
    "        batch_size = sequences.size()[1]\n",
    "        # get embeddings\n",
    "        x = self.embeddings(sequences)\n",
    "        x = x.permute([1,2,0])\n",
    "        x = F.relu(self.conv1(x))\n",
    "        #c2 = F.relu(self.conv2(x))\n",
    "        #c3 = F.relu(self.conv3(x))\n",
    "        #x = torch.cat((c1,c2,c3), 1)\n",
    "        x = x.permute([2,0,1])\n",
    "        \n",
    "        #embeds = nn.utils.rnn.pack_padded_sequence(embeds,lengths/3, batch_first=False)\n",
    "        # rnn returns output and last hidden state\n",
    "        \n",
    "        _, x = self.qrnn(x)\n",
    "        #lstm_out, self.hidden = self.lstm(embeds)\n",
    "        #unpacked, unpacked_len = torch.nn.utils.rnn.pad_packed_sequence(lstm_out, batch_first=False)\n",
    "        x = F.relu(x[-1].type(torch.float))\n",
    "        #last_output = self.dropout(last_output)\n",
    "        \n",
    "        freqs = F.softmax(self.linear(x))\n",
    "        return freqs\n",
    "    \n",
    "    \n",
    "    def init_hidden(self, batch_size):\n",
    "        # Before we've done anything, we dont have any hidden state.\n",
    "        # Refer to the Pytorch documentation to see exactly\n",
    "        # why they have this dimensionality.\n",
    "        # The axes semantics are (num_layers, minibatch_size, hidden_dim)\n",
    "        return (torch.zeros(NUM_LAYERS_LSTM, BATCH_SIZE, HIDDEN_DIM),\n",
    "                torch.zeros(NUM_LAYERS_LSTM, BATCH_SIZE, HIDDEN_DIM))\n",
    "\n",
    "net = Net()\n",
    "if use_cuda:\n",
    "    net.cuda()\n",
    "    print(\"using cuda\")\n",
    "print(net)"
   ]
  },
  {
   "cell_type": "code",
   "execution_count": 11,
   "metadata": {
    "colab": {
     "base_uri": "https://localhost:8080/",
     "height": 121
    },
    "colab_type": "code",
    "executionInfo": {
     "elapsed": 1302,
     "status": "ok",
     "timestamp": 1543840050477,
     "user": {
      "displayName": "Lea Riera",
      "photoUrl": "",
      "userId": "09506228137911101216"
     },
     "user_tz": -60
    },
    "id": "wZwbtsNYQdM5",
    "outputId": "6a30afc3-9cb1-4fe8-b909-f5b917f3439c"
   },
   "outputs": [
    {
     "data": {
      "text/plain": [
       "{'embeddings.weight': True,\n",
       " 'conv1.weight': True,\n",
       " 'conv1.bias': True,\n",
       " 'qrnn.layers.0.linear.weight': True,\n",
       " 'qrnn.layers.0.linear.bias': True,\n",
       " 'linear.weight': True,\n",
       " 'linear.bias': True}"
      ]
     },
     "execution_count": 11,
     "metadata": {},
     "output_type": "execute_result"
    }
   ],
   "source": [
    "# check which params require grad\n",
    "{p[0]: p[1].requires_grad for p in net.named_parameters()}"
   ]
  },
  {
   "cell_type": "code",
   "execution_count": 12,
   "metadata": {
    "colab": {},
    "colab_type": "code",
    "id": "GoEQYT0TQdM9"
   },
   "outputs": [],
   "source": [
    "criterion = nn.CrossEntropyLoss() #weight = final_weights\n",
    "# we filter the model's parameters such that we can remove the embedding layer, \n",
    "# which does not have requires_grad\n",
    "optimizer = optim.Adam(filter(lambda p: p.requires_grad, net.parameters()), lr=0.001)\n",
    "\n",
    "def accuracy(ys, ts):\n",
    "    # making a one-hot encoded vector of correct (1) and incorrect (0) predictions\n",
    "    correct_prediction = torch.eq(torch.max(ys, 1)[1], ts)\n",
    "#     print(torch.max(ys, 1)[1], ts)\n",
    "#     print(correct_prediction)\n",
    "    # averaging the one-hot encoded vector\n",
    "    return torch.mean(correct_prediction.float())\n",
    "\n",
    "def construct_sentences(batch):\n",
    "    return [\" \".join([SEQ.vocab.itos[elm] \n",
    "                      for elm in get_numpy(batch.sequence[:,i])])\n",
    "            for i in range(batch.sequence.size()[1])]\n",
    "\n",
    "def get_labels(batch):\n",
    "    return [LABEL.vocab.itos[get_numpy(batch.label[i])] for i in range(len(batch.label))]"
   ]
  },
  {
   "cell_type": "code",
   "execution_count": 13,
   "metadata": {},
   "outputs": [
    {
     "data": {
      "text/plain": [
       "157184"
      ]
     },
     "execution_count": 13,
     "metadata": {},
     "output_type": "execute_result"
    }
   ],
   "source": [
    "torch.cuda.memory_allocated() "
   ]
  },
  {
   "cell_type": "code",
   "execution_count": 14,
   "metadata": {
    "colab": {
     "base_uri": "https://localhost:8080/",
     "height": 2011
    },
    "colab_type": "code",
    "executionInfo": {
     "elapsed": 774,
     "status": "error",
     "timestamp": 1543840061078,
     "user": {
      "displayName": "Lea Riera",
      "photoUrl": "",
      "userId": "09506228137911101216"
     },
     "user_tz": -60
    },
    "id": "7LxsaAH3QdNC",
    "outputId": "a9f861ee-5c40-44ec-ea54-da5eb846c414",
    "scrolled": true
   },
   "outputs": [
    {
     "name": "stdout",
     "output_type": "stream",
     "text": [
      "Epoch 0\tTrain 0.834\tVal 0.961\n",
      "Epoch 1\tTrain 0.838\tVal 0.940\n",
      "Epoch 2\tTrain 0.836\tVal 0.937\n",
      "Epoch 3\tTrain 0.832\tVal 0.933\n",
      "Epoch 4\tTrain 0.830\tVal 0.930\n",
      "Epoch 5\tTrain 0.825\tVal 0.924\n",
      "Epoch 6\tTrain 0.819\tVal 0.902\n",
      "Epoch 7\tTrain 0.809\tVal 0.890\n",
      "Epoch 8\tTrain 0.807\tVal 0.867\n",
      "Epoch 9\tTrain 0.804\tVal 0.877\n",
      "Epoch 10\tTrain 0.803\tVal 0.863\n",
      "Epoch 11\tTrain 0.801\tVal 0.862\n",
      "Epoch 12\tTrain 0.798\tVal 0.858\n",
      "Epoch 13\tTrain 0.796\tVal 0.854\n",
      "Epoch 14\tTrain 0.798\tVal 0.848\n",
      "Epoch 15\tTrain 0.796\tVal 0.862\n",
      "Epoch 16\tTrain 0.796\tVal 0.849\n",
      "Epoch 17\tTrain 0.796\tVal 0.845\n",
      "Epoch 18\tTrain 0.797\tVal 0.843\n",
      "Epoch 19\tTrain 0.792\tVal 0.844\n",
      "Epoch 20\tTrain 0.792\tVal 0.841\n",
      "Epoch 21\tTrain 0.791\tVal 0.839\n",
      "Epoch 22\tTrain 0.791\tVal 0.840\n",
      "Epoch 23\tTrain 0.790\tVal 0.839\n",
      "Epoch 24\tTrain 0.789\tVal 0.840\n",
      "Epoch 25\tTrain 0.791\tVal 0.850\n"
     ]
    },
    {
     "ename": "KeyboardInterrupt",
     "evalue": "",
     "output_type": "error",
     "traceback": [
      "\u001b[0;31m---------------------------------------------------------------------------\u001b[0m",
      "\u001b[0;31mKeyboardInterrupt\u001b[0m                         Traceback (most recent call last)",
      "\u001b[0;32m<ipython-input-14-0034d2d902e9>\u001b[0m in \u001b[0;36m<module>\u001b[0;34m\u001b[0m\n\u001b[1;32m     39\u001b[0m             \u001b[0mval_losses_running\u001b[0m\u001b[0;34m,\u001b[0m \u001b[0mval_accs_running\u001b[0m\u001b[0;34m,\u001b[0m \u001b[0mval_lengths\u001b[0m \u001b[0;34m=\u001b[0m \u001b[0;36m0\u001b[0m\u001b[0;34m,\u001b[0m \u001b[0;36m0\u001b[0m\u001b[0;34m,\u001b[0m \u001b[0;36m0\u001b[0m\u001b[0;34m\u001b[0m\u001b[0m\n\u001b[1;32m     40\u001b[0m \u001b[0;34m\u001b[0m\u001b[0m\n\u001b[0;32m---> 41\u001b[0;31m             \u001b[0;32mfor\u001b[0m \u001b[0mval_batch\u001b[0m \u001b[0;32min\u001b[0m \u001b[0mvalidation_iter\u001b[0m\u001b[0;34m:\u001b[0m\u001b[0;34m\u001b[0m\u001b[0m\n\u001b[0m\u001b[1;32m     42\u001b[0m                 \u001b[0moutput\u001b[0m \u001b[0;34m=\u001b[0m \u001b[0mnet\u001b[0m\u001b[0;34m(\u001b[0m\u001b[0mval_batch\u001b[0m\u001b[0;34m.\u001b[0m\u001b[0msequence\u001b[0m\u001b[0;34m)\u001b[0m\u001b[0;34m\u001b[0m\u001b[0m\n\u001b[1;32m     43\u001b[0m                 \u001b[0mval_losses_running\u001b[0m \u001b[0;34m+=\u001b[0m \u001b[0mcriterion\u001b[0m\u001b[0;34m(\u001b[0m\u001b[0moutput\u001b[0m\u001b[0;34m,\u001b[0m \u001b[0mval_batch\u001b[0m\u001b[0;34m.\u001b[0m\u001b[0mlabel\u001b[0m\u001b[0;34m)\u001b[0m\u001b[0;34m*\u001b[0m\u001b[0mval_batch\u001b[0m\u001b[0;34m.\u001b[0m\u001b[0mbatch_size\u001b[0m\u001b[0;34m\u001b[0m\u001b[0m\n",
      "\u001b[0;32m~/.local/lib/python3.7/site-packages/torchtext/data/iterator.py\u001b[0m in \u001b[0;36m__iter__\u001b[0;34m(self)\u001b[0m\n\u001b[1;32m    155\u001b[0m                     \u001b[0;32melse\u001b[0m\u001b[0;34m:\u001b[0m\u001b[0;34m\u001b[0m\u001b[0m\n\u001b[1;32m    156\u001b[0m                         \u001b[0mminibatch\u001b[0m\u001b[0;34m.\u001b[0m\u001b[0msort\u001b[0m\u001b[0;34m(\u001b[0m\u001b[0mkey\u001b[0m\u001b[0;34m=\u001b[0m\u001b[0mself\u001b[0m\u001b[0;34m.\u001b[0m\u001b[0msort_key\u001b[0m\u001b[0;34m,\u001b[0m \u001b[0mreverse\u001b[0m\u001b[0;34m=\u001b[0m\u001b[0;32mTrue\u001b[0m\u001b[0;34m)\u001b[0m\u001b[0;34m\u001b[0m\u001b[0m\n\u001b[0;32m--> 157\u001b[0;31m                 \u001b[0;32myield\u001b[0m \u001b[0mBatch\u001b[0m\u001b[0;34m(\u001b[0m\u001b[0mminibatch\u001b[0m\u001b[0;34m,\u001b[0m \u001b[0mself\u001b[0m\u001b[0;34m.\u001b[0m\u001b[0mdataset\u001b[0m\u001b[0;34m,\u001b[0m \u001b[0mself\u001b[0m\u001b[0;34m.\u001b[0m\u001b[0mdevice\u001b[0m\u001b[0;34m)\u001b[0m\u001b[0;34m\u001b[0m\u001b[0m\n\u001b[0m\u001b[1;32m    158\u001b[0m             \u001b[0;32mif\u001b[0m \u001b[0;32mnot\u001b[0m \u001b[0mself\u001b[0m\u001b[0;34m.\u001b[0m\u001b[0mrepeat\u001b[0m\u001b[0;34m:\u001b[0m\u001b[0;34m\u001b[0m\u001b[0m\n\u001b[1;32m    159\u001b[0m                 \u001b[0;32mreturn\u001b[0m\u001b[0;34m\u001b[0m\u001b[0m\n",
      "\u001b[0;32m~/.local/lib/python3.7/site-packages/torchtext/data/batch.py\u001b[0m in \u001b[0;36m__init__\u001b[0;34m(self, data, dataset, device)\u001b[0m\n\u001b[1;32m     32\u001b[0m                 \u001b[0;32mif\u001b[0m \u001b[0mfield\u001b[0m \u001b[0;32mis\u001b[0m \u001b[0;32mnot\u001b[0m \u001b[0;32mNone\u001b[0m\u001b[0;34m:\u001b[0m\u001b[0;34m\u001b[0m\u001b[0m\n\u001b[1;32m     33\u001b[0m                     \u001b[0mbatch\u001b[0m \u001b[0;34m=\u001b[0m \u001b[0;34m[\u001b[0m\u001b[0mgetattr\u001b[0m\u001b[0;34m(\u001b[0m\u001b[0mx\u001b[0m\u001b[0;34m,\u001b[0m \u001b[0mname\u001b[0m\u001b[0;34m)\u001b[0m \u001b[0;32mfor\u001b[0m \u001b[0mx\u001b[0m \u001b[0;32min\u001b[0m \u001b[0mdata\u001b[0m\u001b[0;34m]\u001b[0m\u001b[0;34m\u001b[0m\u001b[0m\n\u001b[0;32m---> 34\u001b[0;31m                     \u001b[0msetattr\u001b[0m\u001b[0;34m(\u001b[0m\u001b[0mself\u001b[0m\u001b[0;34m,\u001b[0m \u001b[0mname\u001b[0m\u001b[0;34m,\u001b[0m \u001b[0mfield\u001b[0m\u001b[0;34m.\u001b[0m\u001b[0mprocess\u001b[0m\u001b[0;34m(\u001b[0m\u001b[0mbatch\u001b[0m\u001b[0;34m,\u001b[0m \u001b[0mdevice\u001b[0m\u001b[0;34m=\u001b[0m\u001b[0mdevice\u001b[0m\u001b[0;34m)\u001b[0m\u001b[0;34m)\u001b[0m\u001b[0;34m\u001b[0m\u001b[0m\n\u001b[0m\u001b[1;32m     35\u001b[0m \u001b[0;34m\u001b[0m\u001b[0m\n\u001b[1;32m     36\u001b[0m     \u001b[0;34m@\u001b[0m\u001b[0mclassmethod\u001b[0m\u001b[0;34m\u001b[0m\u001b[0m\n",
      "\u001b[0;32m~/.local/lib/python3.7/site-packages/torchtext/data/field.py\u001b[0m in \u001b[0;36mprocess\u001b[0;34m(self, batch, device)\u001b[0m\n\u001b[1;32m    199\u001b[0m         \"\"\"\n\u001b[1;32m    200\u001b[0m         \u001b[0mpadded\u001b[0m \u001b[0;34m=\u001b[0m \u001b[0mself\u001b[0m\u001b[0;34m.\u001b[0m\u001b[0mpad\u001b[0m\u001b[0;34m(\u001b[0m\u001b[0mbatch\u001b[0m\u001b[0;34m)\u001b[0m\u001b[0;34m\u001b[0m\u001b[0m\n\u001b[0;32m--> 201\u001b[0;31m         \u001b[0mtensor\u001b[0m \u001b[0;34m=\u001b[0m \u001b[0mself\u001b[0m\u001b[0;34m.\u001b[0m\u001b[0mnumericalize\u001b[0m\u001b[0;34m(\u001b[0m\u001b[0mpadded\u001b[0m\u001b[0;34m,\u001b[0m \u001b[0mdevice\u001b[0m\u001b[0;34m=\u001b[0m\u001b[0mdevice\u001b[0m\u001b[0;34m)\u001b[0m\u001b[0;34m\u001b[0m\u001b[0m\n\u001b[0m\u001b[1;32m    202\u001b[0m         \u001b[0;32mreturn\u001b[0m \u001b[0mtensor\u001b[0m\u001b[0;34m\u001b[0m\u001b[0m\n\u001b[1;32m    203\u001b[0m \u001b[0;34m\u001b[0m\u001b[0m\n",
      "\u001b[0;32m~/.local/lib/python3.7/site-packages/torchtext/data/field.py\u001b[0m in \u001b[0;36mnumericalize\u001b[0;34m(self, arr, device)\u001b[0m\n\u001b[1;32m    294\u001b[0m         \u001b[0;32mif\u001b[0m \u001b[0misinstance\u001b[0m\u001b[0;34m(\u001b[0m\u001b[0marr\u001b[0m\u001b[0;34m,\u001b[0m \u001b[0mtuple\u001b[0m\u001b[0;34m)\u001b[0m\u001b[0;34m:\u001b[0m\u001b[0;34m\u001b[0m\u001b[0m\n\u001b[1;32m    295\u001b[0m             \u001b[0marr\u001b[0m\u001b[0;34m,\u001b[0m \u001b[0mlengths\u001b[0m \u001b[0;34m=\u001b[0m \u001b[0marr\u001b[0m\u001b[0;34m\u001b[0m\u001b[0m\n\u001b[0;32m--> 296\u001b[0;31m             \u001b[0mlengths\u001b[0m \u001b[0;34m=\u001b[0m \u001b[0mtorch\u001b[0m\u001b[0;34m.\u001b[0m\u001b[0mtensor\u001b[0m\u001b[0;34m(\u001b[0m\u001b[0mlengths\u001b[0m\u001b[0;34m,\u001b[0m \u001b[0mdtype\u001b[0m\u001b[0;34m=\u001b[0m\u001b[0mself\u001b[0m\u001b[0;34m.\u001b[0m\u001b[0mdtype\u001b[0m\u001b[0;34m,\u001b[0m \u001b[0mdevice\u001b[0m\u001b[0;34m=\u001b[0m\u001b[0mdevice\u001b[0m\u001b[0;34m)\u001b[0m\u001b[0;34m\u001b[0m\u001b[0m\n\u001b[0m\u001b[1;32m    297\u001b[0m \u001b[0;34m\u001b[0m\u001b[0m\n\u001b[1;32m    298\u001b[0m         \u001b[0;32mif\u001b[0m \u001b[0mself\u001b[0m\u001b[0;34m.\u001b[0m\u001b[0muse_vocab\u001b[0m\u001b[0;34m:\u001b[0m\u001b[0;34m\u001b[0m\u001b[0m\n",
      "\u001b[0;31mKeyboardInterrupt\u001b[0m: "
     ]
    }
   ],
   "source": [
    "num_epoch = 40\n",
    "iter_by_epoch = int(len(train_set)/BATCH_SIZE)\n",
    "eval_every = 100\n",
    "\n",
    "reduced_train_lost = []\n",
    "reduced_train_accuracy = []\n",
    "\n",
    "reduced_val_lost = []\n",
    "reduced_val_accuracy = []\n",
    "\n",
    "train_loss, train_accs = [], []\n",
    "val_loss, val_accs = [], []\n",
    "\n",
    "epoch_index = []\n",
    "times = []\n",
    "i = 0\n",
    "\n",
    "\n",
    "for epoch in range(num_epoch):\n",
    "    \n",
    "    train_loss, train_accs = [], []\n",
    "    val_loss, val_accs = [], []\n",
    "    \n",
    "    net.train()\n",
    "    # Training\n",
    "    for i, batch in enumerate(train_iter):\n",
    "            \n",
    "        optimizer.zero_grad()\n",
    "\n",
    "        output = net(batch.sequence)\n",
    "        batch_loss = criterion(output, batch.label)\n",
    "\n",
    "        train_loss.append(get_numpy(batch_loss))\n",
    "        train_accs.append(get_numpy(accuracy(output, batch.label)))\n",
    "\n",
    "\n",
    "        if i % eval_every == 0:     \n",
    "            net.eval()\n",
    "            val_losses_running, val_accs_running, val_lengths = 0, 0, 0\n",
    "            \n",
    "            for val_batch in validation_iter:\n",
    "                output = net(val_batch.sequence)\n",
    "                val_losses_running += criterion(output, val_batch.label)*val_batch.batch_size\n",
    "                val_accs_running += accuracy(output, val_batch.label) *val_batch.batch_size\n",
    "                val_lengths += val_batch.batch_size\n",
    "\n",
    "            # divide by the total accumulated batch sizes\n",
    "            val_losses_running /= val_lengths\n",
    "            val_accs_running /= val_lengths\n",
    "            val_loss.append(get_numpy(val_losses_running))\n",
    "            val_accs.append(get_numpy(val_accs_running))\n",
    "            net.train()\n",
    "        \n",
    "        batch_loss.backward()     \n",
    "        optimizer.step()\n",
    "        \n",
    "        i += 1\n",
    "    \n",
    "    reduced_train_lost.append(np.mean(train_loss))\n",
    "    reduced_train_accuracy.append(np.mean(train_accs))\n",
    "    \n",
    "    reduced_val_lost.append(np.mean(val_loss))\n",
    "    reduced_val_accuracy.append(np.mean(val_accs))\n",
    "    \n",
    "    epoch_index.append(epoch)\n",
    "    times.append(time.time())\n",
    "    \n",
    "    print(f'Epoch {epoch}\\tTrain {np.mean(train_loss):.3f}\\tVal {np.mean(val_loss):.3f}')\n",
    "    \n",
    "# 500, 20, 100/\n"
   ]
  },
  {
   "cell_type": "code",
   "execution_count": 15,
   "metadata": {},
   "outputs": [
    {
     "data": {
      "image/png": "[encoded data removed]",
      "text/plain": [
       "<Figure size 864x288 with 2 Axes>"
      ]
     },
     "metadata": {
      "needs_background": "light"
     },
     "output_type": "display_data"
    },
    {
     "ename": "ValueError",
     "evalue": "fname must be a PathLike or file handle",
     "output_type": "error",
     "traceback": [
      "\u001b[0;31m---------------------------------------------------------------------------\u001b[0m",
      "\u001b[0;31mValueError\u001b[0m                                Traceback (most recent call last)",
      "\u001b[0;32m<ipython-input-15-4ad33f2009f5>\u001b[0m in \u001b[0;36m<module>\u001b[0;34m\u001b[0m\n\u001b[1;32m     10\u001b[0m \u001b[0mplt\u001b[0m\u001b[0;34m.\u001b[0m\u001b[0mlegend\u001b[0m\u001b[0;34m(\u001b[0m\u001b[0;34m)\u001b[0m\u001b[0;34m\u001b[0m\u001b[0m\n\u001b[1;32m     11\u001b[0m \u001b[0mplt\u001b[0m\u001b[0;34m.\u001b[0m\u001b[0mshow\u001b[0m\u001b[0;34m(\u001b[0m\u001b[0;34m)\u001b[0m\u001b[0;34m\u001b[0m\u001b[0m\n\u001b[0;32m---> 12\u001b[0;31m \u001b[0mplt\u001b[0m\u001b[0;34m.\u001b[0m\u001b[0msavefig\u001b[0m\u001b[0;34m(\u001b[0m\u001b[0mfig\u001b[0m\u001b[0;34m,\u001b[0m \u001b[0mformat\u001b[0m\u001b[0;34m=\u001b[0m\u001b[0;34m\"svg\"\u001b[0m\u001b[0;34m)\u001b[0m\u001b[0;34m\u001b[0m\u001b[0m\n\u001b[0m",
      "\u001b[0;32m/opt/anaconda3/lib/python3.7/site-packages/matplotlib/pyplot.py\u001b[0m in \u001b[0;36msavefig\u001b[0;34m(*args, **kwargs)\u001b[0m\n\u001b[1;32m    693\u001b[0m \u001b[0;32mdef\u001b[0m \u001b[0msavefig\u001b[0m\u001b[0;34m(\u001b[0m\u001b[0;34m*\u001b[0m\u001b[0margs\u001b[0m\u001b[0;34m,\u001b[0m \u001b[0;34m**\u001b[0m\u001b[0mkwargs\u001b[0m\u001b[0;34m)\u001b[0m\u001b[0;34m:\u001b[0m\u001b[0;34m\u001b[0m\u001b[0m\n\u001b[1;32m    694\u001b[0m     \u001b[0mfig\u001b[0m \u001b[0;34m=\u001b[0m \u001b[0mgcf\u001b[0m\u001b[0;34m(\u001b[0m\u001b[0;34m)\u001b[0m\u001b[0;34m\u001b[0m\u001b[0m\n\u001b[0;32m--> 695\u001b[0;31m     \u001b[0mres\u001b[0m \u001b[0;34m=\u001b[0m \u001b[0mfig\u001b[0m\u001b[0;34m.\u001b[0m\u001b[0msavefig\u001b[0m\u001b[0;34m(\u001b[0m\u001b[0;34m*\u001b[0m\u001b[0margs\u001b[0m\u001b[0;34m,\u001b[0m \u001b[0;34m**\u001b[0m\u001b[0mkwargs\u001b[0m\u001b[0;34m)\u001b[0m\u001b[0;34m\u001b[0m\u001b[0m\n\u001b[0m\u001b[1;32m    696\u001b[0m     \u001b[0mfig\u001b[0m\u001b[0;34m.\u001b[0m\u001b[0mcanvas\u001b[0m\u001b[0;34m.\u001b[0m\u001b[0mdraw_idle\u001b[0m\u001b[0;34m(\u001b[0m\u001b[0;34m)\u001b[0m   \u001b[0;31m# need this if 'transparent=True' to reset colors\u001b[0m\u001b[0;34m\u001b[0m\u001b[0m\n\u001b[1;32m    697\u001b[0m     \u001b[0;32mreturn\u001b[0m \u001b[0mres\u001b[0m\u001b[0;34m\u001b[0m\u001b[0m\n",
      "\u001b[0;32m/opt/anaconda3/lib/python3.7/site-packages/matplotlib/figure.py\u001b[0m in \u001b[0;36msavefig\u001b[0;34m(self, fname, **kwargs)\u001b[0m\n\u001b[1;32m   2060\u001b[0m             \u001b[0mself\u001b[0m\u001b[0;34m.\u001b[0m\u001b[0mset_frameon\u001b[0m\u001b[0;34m(\u001b[0m\u001b[0mframeon\u001b[0m\u001b[0;34m)\u001b[0m\u001b[0;34m\u001b[0m\u001b[0m\n\u001b[1;32m   2061\u001b[0m \u001b[0;34m\u001b[0m\u001b[0m\n\u001b[0;32m-> 2062\u001b[0;31m         \u001b[0mself\u001b[0m\u001b[0;34m.\u001b[0m\u001b[0mcanvas\u001b[0m\u001b[0;34m.\u001b[0m\u001b[0mprint_figure\u001b[0m\u001b[0;34m(\u001b[0m\u001b[0mfname\u001b[0m\u001b[0;34m,\u001b[0m \u001b[0;34m**\u001b[0m\u001b[0mkwargs\u001b[0m\u001b[0;34m)\u001b[0m\u001b[0;34m\u001b[0m\u001b[0m\n\u001b[0m\u001b[1;32m   2063\u001b[0m \u001b[0;34m\u001b[0m\u001b[0m\n\u001b[1;32m   2064\u001b[0m         \u001b[0;32mif\u001b[0m \u001b[0mframeon\u001b[0m\u001b[0;34m:\u001b[0m\u001b[0;34m\u001b[0m\u001b[0m\n",
      "\u001b[0;32m/opt/anaconda3/lib/python3.7/site-packages/matplotlib/backend_bases.py\u001b[0m in \u001b[0;36mprint_figure\u001b[0;34m(self, filename, dpi, facecolor, edgecolor, orientation, format, **kwargs)\u001b[0m\n\u001b[1;32m   2261\u001b[0m                 \u001b[0morientation\u001b[0m\u001b[0;34m=\u001b[0m\u001b[0morientation\u001b[0m\u001b[0;34m,\u001b[0m\u001b[0;34m\u001b[0m\u001b[0m\n\u001b[1;32m   2262\u001b[0m                 \u001b[0mbbox_inches_restore\u001b[0m\u001b[0;34m=\u001b[0m\u001b[0m_bbox_inches_restore\u001b[0m\u001b[0;34m,\u001b[0m\u001b[0;34m\u001b[0m\u001b[0m\n\u001b[0;32m-> 2263\u001b[0;31m                 **kwargs)\n\u001b[0m\u001b[1;32m   2264\u001b[0m         \u001b[0;32mfinally\u001b[0m\u001b[0;34m:\u001b[0m\u001b[0;34m\u001b[0m\u001b[0m\n\u001b[1;32m   2265\u001b[0m             \u001b[0;32mif\u001b[0m \u001b[0mbbox_inches\u001b[0m \u001b[0;32mand\u001b[0m \u001b[0mrestore_bbox\u001b[0m\u001b[0;34m:\u001b[0m\u001b[0;34m\u001b[0m\u001b[0m\n",
      "\u001b[0;32m/opt/anaconda3/lib/python3.7/site-packages/matplotlib/backends/backend_svg.py\u001b[0m in \u001b[0;36mprint_svg\u001b[0;34m(self, filename, *args, **kwargs)\u001b[0m\n\u001b[1;32m   1193\u001b[0m \u001b[0;34m\u001b[0m\u001b[0m\n\u001b[1;32m   1194\u001b[0m     \u001b[0;32mdef\u001b[0m \u001b[0mprint_svg\u001b[0m\u001b[0;34m(\u001b[0m\u001b[0mself\u001b[0m\u001b[0;34m,\u001b[0m \u001b[0mfilename\u001b[0m\u001b[0;34m,\u001b[0m \u001b[0;34m*\u001b[0m\u001b[0margs\u001b[0m\u001b[0;34m,\u001b[0m \u001b[0;34m**\u001b[0m\u001b[0mkwargs\u001b[0m\u001b[0;34m)\u001b[0m\u001b[0;34m:\u001b[0m\u001b[0;34m\u001b[0m\u001b[0m\n\u001b[0;32m-> 1195\u001b[0;31m         \u001b[0;32mwith\u001b[0m \u001b[0mcbook\u001b[0m\u001b[0;34m.\u001b[0m\u001b[0mopen_file_cm\u001b[0m\u001b[0;34m(\u001b[0m\u001b[0mfilename\u001b[0m\u001b[0;34m,\u001b[0m \u001b[0;34m\"w\"\u001b[0m\u001b[0;34m,\u001b[0m \u001b[0mencoding\u001b[0m\u001b[0;34m=\u001b[0m\u001b[0;34m\"utf-8\"\u001b[0m\u001b[0;34m)\u001b[0m \u001b[0;32mas\u001b[0m \u001b[0mfh\u001b[0m\u001b[0;34m:\u001b[0m\u001b[0;34m\u001b[0m\u001b[0m\n\u001b[0m\u001b[1;32m   1196\u001b[0m \u001b[0;34m\u001b[0m\u001b[0m\n\u001b[1;32m   1197\u001b[0m             \u001b[0mfilename\u001b[0m \u001b[0;34m=\u001b[0m \u001b[0mgetattr\u001b[0m\u001b[0;34m(\u001b[0m\u001b[0mfh\u001b[0m\u001b[0;34m,\u001b[0m \u001b[0;34m'name'\u001b[0m\u001b[0;34m,\u001b[0m \u001b[0;34m''\u001b[0m\u001b[0;34m)\u001b[0m\u001b[0;34m\u001b[0m\u001b[0m\n",
      "\u001b[0;32m/opt/anaconda3/lib/python3.7/contextlib.py\u001b[0m in \u001b[0;36m__enter__\u001b[0;34m(self)\u001b[0m\n\u001b[1;32m    110\u001b[0m         \u001b[0;32mdel\u001b[0m \u001b[0mself\u001b[0m\u001b[0;34m.\u001b[0m\u001b[0margs\u001b[0m\u001b[0;34m,\u001b[0m \u001b[0mself\u001b[0m\u001b[0;34m.\u001b[0m\u001b[0mkwds\u001b[0m\u001b[0;34m,\u001b[0m \u001b[0mself\u001b[0m\u001b[0;34m.\u001b[0m\u001b[0mfunc\u001b[0m\u001b[0;34m\u001b[0m\u001b[0m\n\u001b[1;32m    111\u001b[0m         \u001b[0;32mtry\u001b[0m\u001b[0;34m:\u001b[0m\u001b[0;34m\u001b[0m\u001b[0m\n\u001b[0;32m--> 112\u001b[0;31m             \u001b[0;32mreturn\u001b[0m \u001b[0mnext\u001b[0m\u001b[0;34m(\u001b[0m\u001b[0mself\u001b[0m\u001b[0;34m.\u001b[0m\u001b[0mgen\u001b[0m\u001b[0;34m)\u001b[0m\u001b[0;34m\u001b[0m\u001b[0m\n\u001b[0m\u001b[1;32m    113\u001b[0m         \u001b[0;32mexcept\u001b[0m \u001b[0mStopIteration\u001b[0m\u001b[0;34m:\u001b[0m\u001b[0;34m\u001b[0m\u001b[0m\n\u001b[1;32m    114\u001b[0m             \u001b[0;32mraise\u001b[0m \u001b[0mRuntimeError\u001b[0m\u001b[0;34m(\u001b[0m\u001b[0;34m\"generator didn't yield\"\u001b[0m\u001b[0;34m)\u001b[0m \u001b[0;32mfrom\u001b[0m \u001b[0;32mNone\u001b[0m\u001b[0;34m\u001b[0m\u001b[0m\n",
      "\u001b[0;32m/opt/anaconda3/lib/python3.7/site-packages/matplotlib/cbook/__init__.py\u001b[0m in \u001b[0;36mopen_file_cm\u001b[0;34m(path_or_file, mode, encoding)\u001b[0m\n\u001b[1;32m    624\u001b[0m \u001b[0;32mdef\u001b[0m \u001b[0mopen_file_cm\u001b[0m\u001b[0;34m(\u001b[0m\u001b[0mpath_or_file\u001b[0m\u001b[0;34m,\u001b[0m \u001b[0mmode\u001b[0m\u001b[0;34m=\u001b[0m\u001b[0;34m\"r\"\u001b[0m\u001b[0;34m,\u001b[0m \u001b[0mencoding\u001b[0m\u001b[0;34m=\u001b[0m\u001b[0;32mNone\u001b[0m\u001b[0;34m)\u001b[0m\u001b[0;34m:\u001b[0m\u001b[0;34m\u001b[0m\u001b[0m\n\u001b[1;32m    625\u001b[0m     \u001b[0;34mr\"\"\"Pass through file objects and context-manage `.PathLike`\\s.\"\"\"\u001b[0m\u001b[0;34m\u001b[0m\u001b[0m\n\u001b[0;32m--> 626\u001b[0;31m     \u001b[0mfh\u001b[0m\u001b[0;34m,\u001b[0m \u001b[0mopened\u001b[0m \u001b[0;34m=\u001b[0m \u001b[0mto_filehandle\u001b[0m\u001b[0;34m(\u001b[0m\u001b[0mpath_or_file\u001b[0m\u001b[0;34m,\u001b[0m \u001b[0mmode\u001b[0m\u001b[0;34m,\u001b[0m \u001b[0;32mTrue\u001b[0m\u001b[0;34m,\u001b[0m \u001b[0mencoding\u001b[0m\u001b[0;34m)\u001b[0m\u001b[0;34m\u001b[0m\u001b[0m\n\u001b[0m\u001b[1;32m    627\u001b[0m     \u001b[0;32mif\u001b[0m \u001b[0mopened\u001b[0m\u001b[0;34m:\u001b[0m\u001b[0;34m\u001b[0m\u001b[0m\n\u001b[1;32m    628\u001b[0m         \u001b[0;32mwith\u001b[0m \u001b[0mfh\u001b[0m\u001b[0;34m:\u001b[0m\u001b[0;34m\u001b[0m\u001b[0m\n",
      "\u001b[0;32m/opt/anaconda3/lib/python3.7/site-packages/matplotlib/cbook/__init__.py\u001b[0m in \u001b[0;36mto_filehandle\u001b[0;34m(fname, flag, return_opened, encoding)\u001b[0m\n\u001b[1;32m    615\u001b[0m         \u001b[0mopened\u001b[0m \u001b[0;34m=\u001b[0m \u001b[0;32mFalse\u001b[0m\u001b[0;34m\u001b[0m\u001b[0m\n\u001b[1;32m    616\u001b[0m     \u001b[0;32melse\u001b[0m\u001b[0;34m:\u001b[0m\u001b[0;34m\u001b[0m\u001b[0m\n\u001b[0;32m--> 617\u001b[0;31m         \u001b[0;32mraise\u001b[0m \u001b[0mValueError\u001b[0m\u001b[0;34m(\u001b[0m\u001b[0;34m'fname must be a PathLike or file handle'\u001b[0m\u001b[0;34m)\u001b[0m\u001b[0;34m\u001b[0m\u001b[0m\n\u001b[0m\u001b[1;32m    618\u001b[0m     \u001b[0;32mif\u001b[0m \u001b[0mreturn_opened\u001b[0m\u001b[0;34m:\u001b[0m\u001b[0;34m\u001b[0m\u001b[0m\n\u001b[1;32m    619\u001b[0m         \u001b[0;32mreturn\u001b[0m \u001b[0mfh\u001b[0m\u001b[0;34m,\u001b[0m \u001b[0mopened\u001b[0m\u001b[0;34m\u001b[0m\u001b[0m\n",
      "\u001b[0;31mValueError\u001b[0m: fname must be a PathLike or file handle"
     ]
    },
    {
     "data": {
      "text/plain": [
       "<Figure size 432x288 with 0 Axes>"
      ]
     },
     "metadata": {},
     "output_type": "display_data"
    }
   ],
   "source": [
    "fig = plt.figure(figsize=(12,4))\n",
    "plt.subplot(1, 2, 1)\n",
    "plt.plot(epoch_index,reduced_train_lost,label='train_loss')\n",
    "plt.plot(epoch_index,reduced_val_lost, label='valid_loss')\n",
    "plt.legend()\n",
    "\n",
    "plt.subplot(1, 2, 2)\n",
    "plt.plot(epoch_index, reduced_train_accuracy, label='train_accs')\n",
    "plt.plot(epoch_index, reduced_val_accuracy, label='valid_accs')\n",
    "plt.legend()\n",
    "plt.show()\n",
    "plt.savefig(fig, format=\"svg\")"
   ]
  },
  {
   "cell_type": "code",
   "execution_count": 90,
   "metadata": {},
   "outputs": [],
   "source": [
    "fig.savefig('qrnn_train.eps', format='eps')"
   ]
  },
  {
   "cell_type": "code",
   "execution_count": 152,
   "metadata": {},
   "outputs": [
    {
     "ename": "ZeroDivisionError",
     "evalue": "division by zero",
     "output_type": "error",
     "traceback": [
      "\u001b[0;31m---------------------------------------------------------------------------\u001b[0m",
      "\u001b[0;31mZeroDivisionError\u001b[0m                         Traceback (most recent call last)",
      "\u001b[0;32m<ipython-input-152-801128b90d3e>\u001b[0m in \u001b[0;36m<module>\u001b[0;34m\u001b[0m\n\u001b[1;32m     24\u001b[0m \u001b[0;34m\u001b[0m\u001b[0m\n\u001b[1;32m     25\u001b[0m \u001b[0;31m# divide by the total accumulated batch sizes\u001b[0m\u001b[0;34m\u001b[0m\u001b[0;34m\u001b[0m\u001b[0m\n\u001b[0;32m---> 26\u001b[0;31m \u001b[0mval_losses\u001b[0m \u001b[0;34m/=\u001b[0m \u001b[0mval_lengths\u001b[0m\u001b[0;34m\u001b[0m\u001b[0m\n\u001b[0m\u001b[1;32m     27\u001b[0m \u001b[0mval_accs\u001b[0m \u001b[0;34m/=\u001b[0m \u001b[0mval_lengths\u001b[0m\u001b[0;34m\u001b[0m\u001b[0m\n\u001b[1;32m     28\u001b[0m \u001b[0mvalid_loss\u001b[0m\u001b[0;34m.\u001b[0m\u001b[0mappend\u001b[0m\u001b[0;34m(\u001b[0m\u001b[0mget_numpy\u001b[0m\u001b[0;34m(\u001b[0m\u001b[0mval_losses\u001b[0m\u001b[0;34m)\u001b[0m\u001b[0;34m)\u001b[0m\u001b[0;34m\u001b[0m\u001b[0m\n",
      "\u001b[0;31mZeroDivisionError\u001b[0m: division by zero"
     ]
    }
   ],
   "source": [
    "BATCH_SIZE = 1\n",
    "validation_iter = data.BucketIterator(validation_set,\n",
    "                                 batch_size=BATCH_SIZE, \n",
    "                                 device=torch.device(\"cuda:0\" if use_cuda else \"cpu\"),\n",
    "                                 sort_key=lambda x: len(x.sequence), #Sorting within the batch\n",
    "                                sort = True,\n",
    "                                repeat = False\n",
    "                                )\n",
    "\n",
    "\n",
    "net.eval()\n",
    "val_losses, val_accs, val_lengths = 0, 0, 0\n",
    "predictions = []\n",
    "real_values = []\n",
    "valid_loss = []\n",
    "valid_accs = []\n",
    "i = 0\n",
    "for val_batch in validation_iter:\n",
    "    net(val_batch.sequence)\n",
    "    \n",
    "    i += 1\n",
    "    if i == 100:\n",
    "        break\n",
    "\n",
    "# divide by the total accumulated batch sizes\n",
    "val_losses /= val_lengths\n",
    "val_accs /= val_lengths\n",
    "valid_loss.append(get_numpy(val_losses))\n",
    "valid_accs.append(get_numpy(val_accs))\n",
    "net.train()\n",
    "from sklearn.metrics import confusion_matrix, classification_report, accuracy_score\n",
    "import itertools\n",
    "\n",
    "\n",
    "def plot_confusion_matrix(cm, classes,\n",
    "                          normalize=False,\n",
    "                          title='Confusion matrix',\n",
    "                          cmap=plt.cm.Blues):\n",
    "    \"\"\"\n",
    "    This function prints and plots the confusion matrix.\n",
    "    Normalization can be applied by setting normalize=True.\n",
    "    \"\"\"\n",
    "    if normalize:\n",
    "        cm = cm.astype('float') / cm.sum(axis=1)[:, np.newaxis]\n",
    "        print(\"Normalized confusion matrix\")\n",
    "    else:\n",
    "        print('Confusion matrix, without normalization')\n",
    "\n",
    "    print(cm)\n",
    "\n",
    "    plt.imshow(cm, interpolation='nearest', cmap=cmap)\n",
    "    plt.title(title)\n",
    "    plt.colorbar()\n",
    "    tick_marks = np.arange(len(classes))\n",
    "    plt.xticks(tick_marks, classes, rotation=45)\n",
    "    plt.yticks(tick_marks, classes)\n",
    "\n",
    "    fmt = '.2f' if normalize else 'd'\n",
    "    thresh = cm.max() / 2.\n",
    "    for i, j in itertools.product(range(cm.shape[0]), range(cm.shape[1])):\n",
    "        plt.text(j, i, format(cm[i, j], fmt),\n",
    "                 horizontalalignment=\"center\",\n",
    "                 color=\"white\" if cm[i, j] > thresh else \"black\")\n",
    "\n",
    "    plt.ylabel('True label')\n",
    "    plt.xlabel('Predicted label')\n",
    "    plt.tight_layout()\n",
    "\n",
    "#Stupid modification to get order in confusion matrix\n",
    "predictions = [i if i!='1' else '400' for i in predictions]\n",
    "cnf_matrix = confusion_matrix(real_values, predictions)\n",
    "np.set_printoptions(precision=2)\n",
    "\n",
    "import seaborn as sns; sns.set()\n",
    "ax = plt.axes()\n",
    "\n",
    "sns.heatmap(cnf_matrix,annot=True, cmap= \"GnBu\",fmt=\"d\", xticklabels = [\"Ribosome\", \"Nucleus\", \"Unkown\"], yticklabels = [\"Ribosome\", \"Nucleus\", \"Unkown\"])\n",
    "ax.set_ylabel('True label')\n",
    "ax.set_xlabel('Predicted label')\n",
    "# plt.savefig(\"double_lstm_confusion.png\")\n",
    "plt.show()\n",
    "\n",
    "cm = cnf_matrix.astype('float') / cnf_matrix.sum(axis=1)[:, np.newaxis]\n",
    "print(\"By class accuracies :\\n\")\n",
    "print(cm.diagonal())\n",
    "\n",
    "print(\"total accuracy :\\n\")\n",
    "print(accuracy_score(real_values, predictions))"
   ]
  },
  {
   "cell_type": "code",
   "execution_count": 17,
   "metadata": {},
   "outputs": [],
   "source": [
    "timesx = [time-times[0] for time in times]"
   ]
  },
  {
   "cell_type": "code",
   "execution_count": 24,
   "metadata": {},
   "outputs": [
    {
     "data": {
      "text/plain": [
       "[0.57037264,\n",
       " 0.590308,\n",
       " 0.59732085,\n",
       " 0.5993695,\n",
       " 0.5950988,\n",
       " 0.60014176,\n",
       " 0.6193838,\n",
       " 0.63599396,\n",
       " 0.66735476,\n",
       " 0.65189505,\n",
       " 0.6700181,\n",
       " 0.6687415,\n",
       " 0.67294925,\n",
       " 0.67884326,\n",
       " 0.6868016,\n",
       " 0.670286,\n",
       " 0.68697494,\n",
       " 0.6894807,\n",
       " 0.6935466,\n",
       " 0.6895437,\n",
       " 0.69442904,\n",
       " 0.69553214,\n",
       " 0.6938617,\n",
       " 0.695548,\n",
       " 0.6946812,\n",
       " 0.6816641]"
      ]
     },
     "execution_count": 24,
     "metadata": {},
     "output_type": "execute_result"
    }
   ],
   "source": [
    "reduced_val_accuracy"
   ]
  },
  {
   "cell_type": "code",
   "execution_count": null,
   "metadata": {},
   "outputs": [],
   "source": [
    "fig = plt.figure(figsize=(12,4))\n",
    "plt.subplot(1, 2, 1)\n",
    "plt.plot(epoch_index,reduced_train_lost,label='train_loss')\n",
    "plt.plot(epoch_index,reduced_val_lost, label='valid_loss')\n",
    "plt.legend()\n",
    "\n",
    "plt.subplot(1, 2, 2)\n",
    "plt.plot(epoch_index, reduced_train_accuracy, label='train_accs')\n",
    "plt.plot(epoch_index, reduced_val_accuracy, label='valid_accs')\n"
   ]
  }
 ],
 "metadata": {
  "accelerator": "GPU",
  "colab": {
   "collapsed_sections": [],
   "name": "torchtext_dataloader.ipynb",
   "provenance": [],
   "toc_visible": true,
   "version": "0.3.2"
  },
  "kernelspec": {
   "display_name": "Python 3",
   "language": "python",
   "name": "python3"
  },
  "language_info": {
   "codemirror_mode": {
    "name": "ipython",
    "version": 3
   },
   "file_extension": ".py",
   "mimetype": "text/x-python",
   "name": "python",
   "nbconvert_exporter": "python",
   "pygments_lexer": "ipython3",
   "version": "3.7.0"
  }
 },
 "nbformat": 4,
 "nbformat_minor": 1
}
